{
  "nbformat": 4,
  "nbformat_minor": 0,
  "metadata": {
    "colab": {
      "name": "parameter tuning.ipynb",
      "provenance": [],
      "collapsed_sections": [
        "IeICpzjspu-d",
        "GnEALk_utX5E",
        "z-t_Sjw9qcgF",
        "b8xqfB8wumPT"
      ],
      "toc_visible": true,
      "authorship_tag": "ABX9TyN0vmMdwr9cfUirbSLpMJXB",
      "include_colab_link": true
    },
    "kernelspec": {
      "name": "python3",
      "display_name": "Python 3"
    },
    "accelerator": "GPU"
  },
  "cells": [
    {
      "cell_type": "markdown",
      "metadata": {
        "id": "view-in-github",
        "colab_type": "text"
      },
      "source": [
        "<a href=\"https://colab.research.google.com/github/charlie9526/TaxiFare/blob/master/parameter_tuning.ipynb\" target=\"_parent\"><img src=\"https://colab.research.google.com/assets/colab-badge.svg\" alt=\"Open In Colab\"/></a>"
      ]
    },
    {
      "cell_type": "markdown",
      "metadata": {
        "id": "IeICpzjspu-d",
        "colab_type": "text"
      },
      "source": [
        "# 1 . Mounting"
      ]
    },
    {
      "cell_type": "code",
      "metadata": {
        "id": "A4DW8L5GpzWO",
        "colab_type": "code",
        "colab": {
          "base_uri": "https://localhost:8080/",
          "height": 144
        },
        "outputId": "a9b9c321-ff56-482f-c521-1a35f31bfd4f"
      },
      "source": [
        "from google.colab import drive \n",
        "drive.mount('/content/drive')\n",
        "%cd /content/drive/My\\ Drive/Colab\\ Notebooks/FAIR_TAXI"
      ],
      "execution_count": null,
      "outputs": [
        {
          "output_type": "stream",
          "text": [
            "Go to this URL in a browser: https://accounts.google.com/o/oauth2/auth?client_id=947318989803-6bn6qk8qdgf4n4g3pfee6491hc0brc4i.apps.googleusercontent.com&redirect_uri=urn%3aietf%3awg%3aoauth%3a2.0%3aoob&response_type=code&scope=email%20https%3a%2f%2fwww.googleapis.com%2fauth%2fdocs.test%20https%3a%2f%2fwww.googleapis.com%2fauth%2fdrive%20https%3a%2f%2fwww.googleapis.com%2fauth%2fdrive.photos.readonly%20https%3a%2f%2fwww.googleapis.com%2fauth%2fpeopleapi.readonly\n",
            "\n",
            "Enter your authorization code:\n",
            "··········\n",
            "Mounted at /content/drive\n",
            "/content/drive/My Drive/Colab Notebooks/FAIR_TAXI\n"
          ],
          "name": "stdout"
        }
      ]
    },
    {
      "cell_type": "markdown",
      "metadata": {
        "id": "GnEALk_utX5E",
        "colab_type": "text"
      },
      "source": [
        "# 2 . Imports"
      ]
    },
    {
      "cell_type": "code",
      "metadata": {
        "id": "1thsx8vutjY9",
        "colab_type": "code",
        "colab": {
          "base_uri": "https://localhost:8080/",
          "height": 72
        },
        "outputId": "10ad46e9-8d9d-47c9-f653-29f5ec38d1b6"
      },
      "source": [
        "import pandas as pd\n",
        "from datetime import datetime\n",
        "import random\n",
        "from google.colab import files\n",
        "import matplotlib\n",
        "import matplotlib.pyplot as plt\n",
        "import seaborn as sns; sns.set(style=\"ticks\", color_codes=True)              \n",
        "import numpy as np                 \n",
        "from scipy.stats import norm   \n",
        "import warnings\n",
        "warnings.filterwarnings('ignore')   \n",
        "%matplotlib inline                  \n",
        "from math import sin, cos, sqrt, atan2, radians\n",
        "import math\n",
        "\n",
        "from sklearn.cluster import KMeans\n",
        "\n",
        "from sklearn import metrics\n",
        "from sklearn.metrics import f1_score\n",
        "from sklearn.metrics import roc_curve, roc_auc_score\n",
        "\n",
        "from sklearn.preprocessing import StandardScaler\n",
        "from sklearn.preprocessing import LabelEncoder,LabelBinarizer\n",
        "from sklearn.preprocessing import OneHotEncoder\n",
        "\n",
        "from sklearn.ensemble import GradientBoostingClassifier\n",
        "from sklearn.ensemble import RandomForestClassifier\n",
        "from sklearn.ensemble import AdaBoostClassifier\n",
        "\n",
        "from sklearn.model_selection import StratifiedKFold\n",
        "from sklearn.model_selection import train_test_split\n",
        "from sklearn.model_selection import cross_val_score\n",
        "\n",
        "from sklearn.svm import SVC,LinearSVC\n",
        "from sklearn.decomposition import PCA\n",
        "from sklearn.neural_network import MLPClassifier\n",
        "from sklearn.impute import SimpleImputer\n",
        "from sklearn.compose import ColumnTransformer\n",
        "from sklearn.linear_model import LogisticRegression\n",
        "from sklearn.multioutput import MultiOutputClassifier\n",
        "from sklearn.pipeline import Pipeline\n",
        "from sklearn.base import BaseEstimator, TransformerMixin\n",
        "from xgboost import XGBClassifier\n",
        "from sklearn.model_selection import RandomizedSearchCV,GridSearchCV\n"
      ],
      "execution_count": null,
      "outputs": [
        {
          "output_type": "stream",
          "text": [
            "/usr/local/lib/python3.6/dist-packages/statsmodels/tools/_testing.py:19: FutureWarning: pandas.util.testing is deprecated. Use the functions in the public API at pandas.testing instead.\n",
            "  import pandas.util.testing as tm\n"
          ],
          "name": "stderr"
        }
      ]
    },
    {
      "cell_type": "markdown",
      "metadata": {
        "id": "z-t_Sjw9qcgF",
        "colab_type": "text"
      },
      "source": [
        "# 3 . Read files"
      ]
    },
    {
      "cell_type": "code",
      "metadata": {
        "id": "90bdDvuDqgW4",
        "colab_type": "code",
        "colab": {}
      },
      "source": [
        "train_df = pd.read_csv('train.csv')\n",
        "test_df = pd.read_csv('test.csv')"
      ],
      "execution_count": null,
      "outputs": []
    },
    {
      "cell_type": "markdown",
      "metadata": {
        "id": "b8xqfB8wumPT",
        "colab_type": "text"
      },
      "source": [
        "# 4 . Functions"
      ]
    },
    {
      "cell_type": "code",
      "metadata": {
        "id": "wA1zB1-Suoj8",
        "colab_type": "code",
        "colab": {}
      },
      "source": [
        "#elts write a lambda function\n",
        "def get_duration(x):\n",
        "  if x['pickup_time']==None or x['drop_time']==None:\n",
        "    return None\n",
        "  \n",
        "  try :\n",
        "    if int(x['pickup_time'].split(\"/\")[1])>12 or int(x['drop_time'].split(\"/\")[1])>12:\n",
        "      gap = datetime.strptime(x['pickup_time'],\"%m/%d/%Y %H:%M\")-datetime.strptime(x['drop_time'],\"%m/%d/%Y %H:%M\")\n",
        "    else:\n",
        "      if int(x['pickup_time'].split(\"/\")[1]) != int(x['drop_time'].split(\"/\")[1]):\n",
        "        gap = datetime.strptime(x['pickup_time'],\"%m/%d/%Y %H:%M\")-datetime.strptime(x['drop_time'],\"%m/%d/%Y %H:%M\")\n",
        "      else:\n",
        "        gap = datetime.strptime(x['pickup_time'],\"%d/%m/%Y %H:%M\")-datetime.strptime(x['drop_time'],\"%d/%m/%Y %H:%M\")\n",
        "    # print (gap.total_seconds()/3600,x['pickup_time'] ,x['drop_time'])\n",
        "  except :\n",
        "    # print(int(x['pickup_time'].split(\"/\")[0])>12 or int(x['drop_time'].split(\"/\")[0])>12)\n",
        "    return None\n",
        "  # print(abs(gap.total_seconds()/3600), x['drop_time'],x['pickup_time'])\n",
        "  disti =  abs(gap.total_seconds())\n",
        "  if x['duration']>0:\n",
        "    return x['duration']\n",
        "  else:\n",
        "    return disti\n",
        "\n",
        "class MakeTripDurationFeature(BaseEstimator, TransformerMixin):\n",
        "    def fit(self, X, y=None):\n",
        "        return self\n",
        "\n",
        "    def transform(self, X):\n",
        "        X['time_gap'] = X.apply(lambda x:get_duration(x), axis=1)\n",
        "        X = X.drop(labels=['pickup_time','drop_time'],axis=1)\n",
        "        return X\n",
        "\n",
        "# Change the label of binary values\n",
        "class MakeTripDurationFeature(BaseEstimator, TransformerMixin):\n",
        "    def fit(self, X, y):\n",
        "        y = y.apply(lambda x:get_binary(x))\n",
        "        # print (y);\n",
        "        return self\n",
        "    def transform(self,X):\n",
        "        return X\n",
        "\n",
        "# debugerr \n",
        "class debugerr(BaseEstimator, TransformerMixin):\n",
        "    def fit(self, X, y):\n",
        "        print (pd.DataFrame(X));\n",
        "        return self\n",
        "    def transform(self,X):\n",
        "        return X\n",
        "\n",
        "# lambda function for change label\n",
        "def get_binary(x):\n",
        "  if x==None:\n",
        "    return 0\n",
        "  if x == \"correct\":\n",
        "    # print (x);\n",
        "    return 1\n",
        "  else:\n",
        "    return 0\n",
        "\n",
        "# set distance column\n",
        "class set_distance(BaseEstimator, TransformerMixin):\n",
        "    def fit(self, X, y=None):\n",
        "      return self\n",
        "\n",
        "    def transform(self, X):\n",
        "      X['distance'] = X.apply(lambda x:get_distance(x), axis=1)\n",
        "      # print(X)\n",
        "      # X = X.drop(labels=['pick_lat','pick_lon','drop_lat','drop_lon'],axis=1)\n",
        "      return X\n",
        "# lambda column get distance\n",
        "def get_distance(x):\n",
        "  R = 6373.0\n",
        "  lat1 = radians(float(x['drop_lat']))\n",
        "  lon1 = radians(float(x['drop_lon']))\n",
        "  lat2 = radians(float(x['pick_lat']))\n",
        "  lon2 = radians(float(x['pick_lon']))\n",
        "\n",
        "  dlon = lon2 - lon1\n",
        "  dlat = lat2 - lat1\n",
        "\n",
        "  a = sin(dlat / 2)**2 + cos(lat1) * cos(lat2) * sin(dlon / 2)**2\n",
        "  c = 2 * atan2(sqrt(a), sqrt(1 - a))\n",
        "\n",
        "  distance = R * c\n",
        "  return distance\n",
        "\n",
        "# remove columns\n",
        "class remove_colums_unwanted(BaseEstimator, TransformerMixin):\n",
        "    def fit(self, X, y=None):\n",
        "      return self\n",
        "\n",
        "    def transform(self, X):\n",
        "      X = X.drop(labels=['pick_lat','pick_lon','drop_lat','drop_lon'],axis=1)\n",
        "      return X\n",
        "\n",
        "\n",
        "def encoding_label(label):\n",
        "  if(label=='correct'):\n",
        "    return 1\n",
        "  else:\n",
        "    return 0\n",
        "\n",
        "def get_hour_value(x,date_time_column_name):\n",
        "  if x[date_time_column_name]==None:\n",
        "    return None\n",
        "  h =  datetime.strptime(x[date_time_column_name],\"%m/%d/%Y %H:%M\").hour\n",
        "  if (h>10 & h<14) | (h>15 & h<19) | (h>6 & h <9):\n",
        "    return 1\n",
        "  else:\n",
        "    return 0\n",
        "\n",
        "################### Here we have to add fare_per_hour column\n",
        "################### write a lambda function\n",
        "\n",
        "def get_fare_per_min(x):\n",
        "  minutes = (x[\"duration\"]-x['meter_waiting'])/60.0\n",
        "  if x[\"fare\"]>=0 and minutes>0:\n",
        "    minutes = (x[\"duration\"]-x['meter_waiting'])/60.0\n",
        "    val = (x['fare']-x['meter_waiting_fare']-x['additional_fare'])/minutes\n",
        "    return val\n",
        "  if x[\"duration\"]==0:\n",
        "    return 0\n",
        "  return None\n",
        "\n",
        "########### This is for getting fare per distance \n",
        "########### Lambda function\n",
        "def get_fare_per_distance(x):\n",
        "  if x['distance']==0:\n",
        "    return 0\n",
        "  if x['meter_waiting_fare']>0:\n",
        "    return float(x['fare']-x['meter_waiting_fare']-x['additional_fare'])/x['distance']\n",
        "  else:\n",
        "    return float(x['fare'])/x['distance']\n",
        "\n",
        "# datetime_object = datetime.strptime(datetime_str, '%m/%d/%y %H:%M:%S')\n",
        "def get_time_type(df):\n",
        "  pickup_slot=[]\n",
        "  both=2\n",
        "  school=3\n",
        "  office=4\n",
        "  free=1\n",
        "  for index, row in df.iterrows():\n",
        "    pickup_datetime=row['pickup_time']\n",
        "    both_start=\"6:00\"\n",
        "    both_end=\"9:30\"\n",
        "    school_start=\"13:30\"\n",
        "    school_end=\"14:30\"\n",
        "    office_start=\"16:30\"\n",
        "    office_end=\"19:30\"\n",
        "\n",
        "    pickup_time=datetime.strptime(pickup_datetime.split(\" \")[1],'%H:%M')\n",
        "    both_start_time=datetime.strptime(both_start,'%H:%M')\n",
        "    both_end_time=datetime.strptime(both_end,'%H:%M')\n",
        "    school_start_time=datetime.strptime(school_start,'%H:%M')\n",
        "    school_end_time=datetime.strptime(school_end,'%H:%M')\n",
        "    office_start_time=datetime.strptime(office_start,'%H:%M')\n",
        "    office_end_time=datetime.strptime(office_end,'%H:%M')\n",
        "    \n",
        "    if(pickup_time> both_start_time and pickup_time<both_end_time):\n",
        "      pickup_slot.append(both)\n",
        "      # print(pickup_time,both)\n",
        "    elif(pickup_time> school_start_time and pickup_time<school_end_time):\n",
        "      pickup_slot.append(school)\n",
        "      # print(pickup_time,school)\n",
        "    elif(pickup_time>office_start_time and pickup_time<office_end_time):\n",
        "      pickup_slot.append(office)\n",
        "      # print(pickup_time,office)\n",
        "    else:\n",
        "      pickup_slot.append(free)\n",
        "      # print(pickup_time,free)  \n",
        "  return pickup_slot\n",
        "\n",
        "################fare rate of waiting\n",
        "def get_waiting_rate(x):\n",
        "  if math.isnan(x['meter_waiting']):\n",
        "    return 0\n",
        "  if x['meter_waiting']==0:\n",
        "    return 0\n",
        "  if  x['meter_waiting_fare']>=0:\n",
        "    return (float(x['meter_waiting_fare'])/x['meter_waiting'])*60\n",
        "  else:\n",
        "    return 0\n",
        "\n",
        "#################distance per min\n",
        "def get_velocity(x):\n",
        "  if math.isnan(x['duration']) or math.isnan(x['distance']):\n",
        "    return 0\n",
        "  if x['duration']==0:\n",
        "    return 0\n",
        "  return (float(x['distance'])/x['duration'])*60"
      ],
      "execution_count": null,
      "outputs": []
    },
    {
      "cell_type": "markdown",
      "metadata": {
        "id": "0rFeSzsIurIe",
        "colab_type": "text"
      },
      "source": [
        "# 5 . PreProcess"
      ]
    },
    {
      "cell_type": "markdown",
      "metadata": {
        "id": "PM7bSM3O1zUB",
        "colab_type": "text"
      },
      "source": [
        "### Some pre steps\n"
      ]
    },
    {
      "cell_type": "code",
      "metadata": {
        "id": "iVjOLsJF2DHN",
        "colab_type": "code",
        "colab": {
          "base_uri": "https://localhost:8080/",
          "height": 35
        },
        "outputId": "49b3414b-d8ae-47d5-d139-b3202aae912a"
      },
      "source": [
        "train_df.drop_duplicates()\n",
        "print (None)"
      ],
      "execution_count": null,
      "outputs": [
        {
          "output_type": "stream",
          "text": [
            "None\n"
          ],
          "name": "stdout"
        }
      ]
    },
    {
      "cell_type": "markdown",
      "metadata": {
        "id": "UAqh2gAWvc5r",
        "colab_type": "text"
      },
      "source": [
        "### Create feature_df and label"
      ]
    },
    {
      "cell_type": "code",
      "metadata": {
        "id": "0lSF4VMUvjvg",
        "colab_type": "code",
        "colab": {}
      },
      "source": [
        "trip_id  = test_df['tripid']\n",
        "\n",
        "features_df = train_df.loc[:, train_df.columns != 'label']\n",
        "label_df = train_df['label'].apply(encoding_label).values\n",
        "\n",
        "features_df = features_df.loc[:, features_df.columns != 'tripid']\n",
        "test_df = test_df.loc[:, test_df.columns != 'tripid']"
      ],
      "execution_count": null,
      "outputs": []
    },
    {
      "cell_type": "markdown",
      "metadata": {
        "id": "1OeUsk16527s",
        "colab_type": "text"
      },
      "source": [
        "### Fill nuls"
      ]
    },
    {
      "cell_type": "code",
      "metadata": {
        "id": "OQvDo4yR55A6",
        "colab_type": "code",
        "colab": {}
      },
      "source": [
        "features_df['fare'].fillna(0,inplace=True)\n",
        "test_df['fare'].fillna(0,inplace=True)\n",
        "\n",
        "################### ugly indexes\n",
        "train_df = train_df[(train_df['tripid']!=213112837) | (train_df['tripid']!=193653017) | (train_df['tripid']!=209365576)]"
      ],
      "execution_count": null,
      "outputs": []
    },
    {
      "cell_type": "markdown",
      "metadata": {
        "id": "e4AynMz04s9G",
        "colab_type": "text"
      },
      "source": [
        "### New columns"
      ]
    },
    {
      "cell_type": "code",
      "metadata": {
        "id": "TAp0w3aO4vBp",
        "colab_type": "code",
        "colab": {}
      },
      "source": [
        "\n",
        "features_df['distance'] = features_df.apply(lambda x:get_distance(x), axis=1)\n",
        "test_df['distance'] = test_df.apply(lambda x:get_distance(x), axis=1)\n",
        "\n",
        "features_df['fare_per_distance'] = features_df.apply(lambda x:get_fare_per_distance(x),axis=1 )\n",
        "test_df['fare_per_distance'] = test_df.apply(lambda x:get_fare_per_distance(x),axis=1 )\n",
        "\n",
        "features_df['fare_per_min'] = features_df.apply(lambda x:get_fare_per_min(x),axis=1 )\n",
        "test_df['fare_per_min'] = test_df.apply(lambda x:get_fare_per_min(x),axis=1 )\n",
        "\n",
        "features_df['pickup_hour'] = features_df.apply(lambda x : get_hour_value(x,'pickup_time'),axis=1)\n",
        "test_df['pickup_hour'] = test_df.apply(lambda x : get_hour_value(x,'pickup_time'),axis=1)\n",
        "\n"
      ],
      "execution_count": null,
      "outputs": []
    },
    {
      "cell_type": "markdown",
      "metadata": {
        "id": "xlOcjva97_Mr",
        "colab_type": "text"
      },
      "source": [
        "### Drop Columns"
      ]
    },
    {
      "cell_type": "code",
      "metadata": {
        "id": "eROkD_Jd8Bmm",
        "colab_type": "code",
        "colab": {}
      },
      "source": [
        "features_df = features_df.drop(labels=['meter_waiting_till_pickup','drop_lat','drop_lon','pick_lat','pick_lon','pickup_time','drop_time'],axis=1)\n",
        "test_df = test_df.drop(labels=['meter_waiting_till_pickup','drop_lat','drop_lon','pick_lat','pick_lon','pickup_time','drop_time'],axis=1)"
      ],
      "execution_count": null,
      "outputs": []
    },
    {
      "cell_type": "markdown",
      "metadata": {
        "id": "rl4yxOjgvRjC",
        "colab_type": "text"
      },
      "source": [
        "### Pipeline's pre prcessors"
      ]
    },
    {
      "cell_type": "code",
      "metadata": {
        "id": "ImNWnXUmwXlj",
        "colab_type": "code",
        "colab": {}
      },
      "source": [
        "numeric_cols = features_df.columns[features_df.dtypes != \"object\"].values\n"
      ],
      "execution_count": null,
      "outputs": []
    },
    {
      "cell_type": "code",
      "metadata": {
        "id": "1hqbJUMLu63c",
        "colab_type": "code",
        "colab": {}
      },
      "source": [
        "cat_preprocessing_steps=Pipeline([\n",
        "  ('cat_one_hot',OneHotEncoder())\n",
        "])\n",
        "\n",
        "\n",
        "numeric_preprocessing_steps = Pipeline([\n",
        "    ('standard_scaler', StandardScaler()),\n",
        "    ('simple_imputer', SimpleImputer(strategy='mean'))\n",
        "])\n",
        "\n",
        "\n",
        "preprocessor = ColumnTransformer(\n",
        "    transformers = [\n",
        "        (\"numeric\", numeric_preprocessing_steps, numeric_cols),  \n",
        "        # (\"categorical\",cat_preprocessing_steps,cat_features)\n",
        "    ],\n",
        "    remainder = \"drop\"\n",
        ")"
      ],
      "execution_count": null,
      "outputs": []
    },
    {
      "cell_type": "markdown",
      "metadata": {
        "id": "LTqa12e3u7nD",
        "colab_type": "text"
      },
      "source": [
        "# 6 . Model"
      ]
    },
    {
      "cell_type": "code",
      "metadata": {
        "id": "DcwuCr8QwjMZ",
        "colab_type": "code",
        "colab": {}
      },
      "source": [
        "pca = PCA()\n",
        "\n"
      ],
      "execution_count": null,
      "outputs": []
    },
    {
      "cell_type": "markdown",
      "metadata": {
        "id": "Un3zGgQvenvH",
        "colab_type": "text"
      },
      "source": [
        "# 7 . 0 . Gridsearch"
      ]
    },
    {
      "cell_type": "code",
      "metadata": {
        "id": "KWlpS_gNetRx",
        "colab_type": "code",
        "colab": {}
      },
      "source": [
        "random_grid_xgb = {\n",
        "  'esti__gamma':[i for i in np.arange(0.1, 5, 0.1)],\n",
        "  'esti__max_depth':range(3,50,1),\n",
        "  'esti__min_child_weight':range(1,6,1),\n",
        "  'esti__learning_rate': np.arange(0.01, 1, 0.01),\n",
        "  'esti__subsample':np.arange(0.1,1.1,0.1),\n",
        "  'esti__nthread':range(1,30,1),\n",
        "  'esti__colsample_bytree':np.arange(0.1,1.1,0.1)\n",
        "}\n",
        "\n",
        "\n",
        "pca = PCA()\n",
        "\n",
        "estimators = RandomForestClassifier()\n",
        "xgb = XGBClassifier(seed=21)\n",
        "full_pipeline = Pipeline([\n",
        "                          (\"preprocessor\", preprocessor),\n",
        "                          # (\"debuffe\",debugerr()),\n",
        "                          (\"pca\",pca),\n",
        "                          (\"esti\", xgb)\n",
        "                          ])\n",
        "\n",
        "\n",
        "rf_random_pipe = GridSearchCV(full_pipeline, param_grid = random_grid_xgb, cv = 10, verbose=2, scoring ='f1')\n",
        "rf_random_pipe.fit(features_df,label_df)\n",
        "kfold = StratifiedKFold(n_splits=10, random_state=1, shuffle=True)\n",
        "cv_results = cross_val_score(rf_random_pipe, features_df, label_df, cv=kfold, scoring='f1')\n",
        "print('%s: %f (%f)' % (\"RF\", cv_results.mean(), cv_results.std()))\n",
        "\n",
        "rf_random_pipe.best_params_"
      ],
      "execution_count": null,
      "outputs": []
    }
  ]
}