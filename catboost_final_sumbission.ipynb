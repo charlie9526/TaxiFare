{
  "nbformat": 4,
  "nbformat_minor": 0,
  "metadata": {
    "colab": {
      "name": "catboost_final_sumbission.ipynb",
      "provenance": [],
      "collapsed_sections": [
        "IeICpzjspu-d",
        "GnEALk_utX5E",
        "z-t_Sjw9qcgF",
        "b8xqfB8wumPT"
      ],
      "authorship_tag": "ABX9TyNEGDoSKVJxn2OpSt/f8/20",
      "include_colab_link": true
    },
    "kernelspec": {
      "name": "python3",
      "display_name": "Python 3"
    }
  },
  "cells": [
    {
      "cell_type": "markdown",
      "metadata": {
        "id": "view-in-github",
        "colab_type": "text"
      },
      "source": [
        "<a href=\"https://colab.research.google.com/github/charlie9526/TaxiFare/blob/master/catboost_final_sumbission.ipynb\" target=\"_parent\"><img src=\"https://colab.research.google.com/assets/colab-badge.svg\" alt=\"Open In Colab\"/></a>"
      ]
    },
    {
      "cell_type": "markdown",
      "metadata": {
        "id": "IeICpzjspu-d",
        "colab_type": "text"
      },
      "source": [
        "# 1 . Mounting"
      ]
    },
    {
      "cell_type": "code",
      "metadata": {
        "id": "A4DW8L5GpzWO",
        "colab_type": "code",
        "outputId": "fa54eaa9-2313-42f3-98f0-be67348e02d6",
        "colab": {
          "base_uri": "https://localhost:8080/",
          "height": 52
        }
      },
      "source": [
        "from google.colab import drive \n",
        "drive.mount('/content/drive')\n",
        "%cd /content/drive/My\\ Drive/Colab\\ Notebooks/FAIR_TAXI"
      ],
      "execution_count": 431,
      "outputs": [
        {
          "output_type": "stream",
          "text": [
            "Drive already mounted at /content/drive; to attempt to forcibly remount, call drive.mount(\"/content/drive\", force_remount=True).\n",
            "/content/drive/My Drive/Colab Notebooks/FAIR_TAXI\n"
          ],
          "name": "stdout"
        }
      ]
    },
    {
      "cell_type": "markdown",
      "metadata": {
        "id": "GnEALk_utX5E",
        "colab_type": "text"
      },
      "source": [
        "# 2 . Imports"
      ]
    },
    {
      "cell_type": "code",
      "metadata": {
        "id": "1thsx8vutjY9",
        "colab_type": "code",
        "colab": {}
      },
      "source": [
        "import pandas as pd\n",
        "from datetime import datetime\n",
        "import random\n",
        "from google.colab import files\n",
        "import matplotlib\n",
        "import matplotlib.pyplot as plt\n",
        "import seaborn as sns; sns.set(style=\"ticks\", color_codes=True)              \n",
        "import numpy as np                 \n",
        "from scipy.stats import norm   \n",
        "import warnings\n",
        "warnings.filterwarnings('ignore')   \n",
        "%matplotlib inline                  \n",
        "from math import sin, cos, sqrt, atan2, radians\n",
        "import math\n",
        "\n",
        "from sklearn.cluster import KMeans\n",
        "\n",
        "from sklearn import metrics\n",
        "from sklearn.metrics import f1_score\n",
        "from sklearn.metrics import roc_curve, roc_auc_score\n",
        "\n",
        "from sklearn.preprocessing import StandardScaler\n",
        "from sklearn.preprocessing import LabelEncoder,LabelBinarizer\n",
        "from sklearn.preprocessing import OneHotEncoder\n",
        "\n",
        "from sklearn.ensemble import GradientBoostingClassifier\n",
        "from sklearn.ensemble import RandomForestClassifier\n",
        "from sklearn.ensemble import AdaBoostClassifier\n",
        "\n",
        "from sklearn.model_selection import StratifiedKFold\n",
        "from sklearn.model_selection import train_test_split\n",
        "from sklearn.model_selection import cross_val_score\n",
        "\n",
        "from sklearn.svm import SVC,LinearSVC\n",
        "from sklearn.decomposition import PCA\n",
        "from sklearn.neural_network import MLPClassifier\n",
        "from sklearn.impute import SimpleImputer\n",
        "from sklearn.compose import ColumnTransformer\n",
        "from sklearn.linear_model import LogisticRegression\n",
        "from sklearn.multioutput import MultiOutputClassifier\n",
        "from sklearn.pipeline import Pipeline\n",
        "from sklearn.base import BaseEstimator, TransformerMixin\n",
        "from xgboost import XGBClassifier\n",
        "\n"
      ],
      "execution_count": 0,
      "outputs": []
    },
    {
      "cell_type": "markdown",
      "metadata": {
        "id": "z-t_Sjw9qcgF",
        "colab_type": "text"
      },
      "source": [
        "# 3 . Read files"
      ]
    },
    {
      "cell_type": "code",
      "metadata": {
        "id": "90bdDvuDqgW4",
        "colab_type": "code",
        "colab": {}
      },
      "source": [
        "train_df = pd.read_csv('train.csv')\n",
        "test_df = pd.read_csv('test.csv')"
      ],
      "execution_count": 0,
      "outputs": []
    },
    {
      "cell_type": "markdown",
      "metadata": {
        "id": "b8xqfB8wumPT",
        "colab_type": "text"
      },
      "source": [
        "# 4 . Functions"
      ]
    },
    {
      "cell_type": "code",
      "metadata": {
        "id": "wA1zB1-Suoj8",
        "colab_type": "code",
        "colab": {}
      },
      "source": [
        "#elts write a lambda function\n",
        "def get_duration(x):\n",
        "  if x['pickup_time']==None or x['drop_time']==None:\n",
        "    return None\n",
        "  \n",
        "  try :\n",
        "    if int(x['pickup_time'].split(\"/\")[1])>12 or int(x['drop_time'].split(\"/\")[1])>12:\n",
        "      gap = datetime.strptime(x['pickup_time'],\"%m/%d/%Y %H:%M\")-datetime.strptime(x['drop_time'],\"%m/%d/%Y %H:%M\")\n",
        "    else:\n",
        "      if int(x['pickup_time'].split(\"/\")[1]) != int(x['drop_time'].split(\"/\")[1]):\n",
        "        gap = datetime.strptime(x['pickup_time'],\"%m/%d/%Y %H:%M\")-datetime.strptime(x['drop_time'],\"%m/%d/%Y %H:%M\")\n",
        "      else:\n",
        "        gap = datetime.strptime(x['pickup_time'],\"%d/%m/%Y %H:%M\")-datetime.strptime(x['drop_time'],\"%d/%m/%Y %H:%M\")\n",
        "    # print (gap.total_seconds()/3600,x['pickup_time'] ,x['drop_time'])\n",
        "  except :\n",
        "    # print(int(x['pickup_time'].split(\"/\")[0])>12 or int(x['drop_time'].split(\"/\")[0])>12)\n",
        "    return None\n",
        "  # print(abs(gap.total_seconds()/3600), x['drop_time'],x['pickup_time'])\n",
        "  disti =  abs(gap.total_seconds())\n",
        "  if x['duration']>0:\n",
        "    return x['duration']\n",
        "  else:\n",
        "    return disti\n",
        "\n",
        "class MakeTripDurationFeature(BaseEstimator, TransformerMixin):\n",
        "    def fit(self, X, y=None):\n",
        "        return self\n",
        "\n",
        "    def transform(self, X):\n",
        "        X['time_gap'] = X.apply(lambda x:get_duration(x), axis=1)\n",
        "        X = X.drop(labels=['pickup_time','drop_time'],axis=1)\n",
        "        return X\n",
        "\n",
        "# Change the label of binary values\n",
        "class MakeTripDurationFeature(BaseEstimator, TransformerMixin):\n",
        "    def fit(self, X, y):\n",
        "        y = y.apply(lambda x:get_binary(x))\n",
        "        # print (y);\n",
        "        return self\n",
        "    def transform(self,X):\n",
        "        return X\n",
        "\n",
        "# debugerr \n",
        "class debugerr(BaseEstimator, TransformerMixin):\n",
        "    def fit(self, X, y):\n",
        "        print (pd.DataFrame(X));\n",
        "        return self\n",
        "    def transform(self,X):\n",
        "        return X\n",
        "\n",
        "# lambda function for change label\n",
        "def get_binary(x):\n",
        "  if x==None:\n",
        "    return 0\n",
        "  if x == \"correct\":\n",
        "    # print (x);\n",
        "    return 1\n",
        "  else:\n",
        "    return 0\n",
        "\n",
        "# set distance column\n",
        "class set_distance(BaseEstimator, TransformerMixin):\n",
        "    def fit(self, X, y=None):\n",
        "      return self\n",
        "\n",
        "    def transform(self, X):\n",
        "      X['distance'] = X.apply(lambda x:get_distance(x), axis=1)\n",
        "      # print(X)\n",
        "      # X = X.drop(labels=['pick_lat','pick_lon','drop_lat','drop_lon'],axis=1)\n",
        "      return X\n",
        "# lambda column get distance\n",
        "def get_distance(x):\n",
        "  R = 6373.0\n",
        "  lat1 = radians(float(x['drop_lat']))\n",
        "  lon1 = radians(float(x['drop_lon']))\n",
        "  lat2 = radians(float(x['pick_lat']))\n",
        "  lon2 = radians(float(x['pick_lon']))\n",
        "\n",
        "  dlon = lon2 - lon1\n",
        "  dlat = lat2 - lat1\n",
        "\n",
        "  a = sin(dlat / 2)**2 + cos(lat1) * cos(lat2) * sin(dlon / 2)**2\n",
        "  c = 2 * atan2(sqrt(a), sqrt(1 - a))\n",
        "\n",
        "  distance = R * c\n",
        "  return distance\n",
        "\n",
        "# remove columns\n",
        "class remove_colums_unwanted(BaseEstimator, TransformerMixin):\n",
        "    def fit(self, X, y=None):\n",
        "      return self\n",
        "\n",
        "    def transform(self, X):\n",
        "      X = X.drop(labels=['pick_lat','pick_lon','drop_lat','drop_lon'],axis=1)\n",
        "      return X\n",
        "\n",
        "\n",
        "def encoding_label(label):\n",
        "  if(label=='correct'):\n",
        "    return 1\n",
        "  else:\n",
        "    return 0\n",
        "\n",
        "def get_hour_value(x,date_time_column_name):\n",
        "  if x[date_time_column_name]==None:\n",
        "    return None\n",
        "  h =  datetime.strptime(x[date_time_column_name],\"%m/%d/%Y %H:%M\").hour\n",
        "  if (h>10 & h<14) | (h>15 & h<19) | (h>6 & h <9):\n",
        "    return 1\n",
        "  else:\n",
        "    return 0\n",
        "\n",
        "################### Here we have to add fare_per_hour column\n",
        "################### write a lambda function\n",
        "\n",
        "def get_fare_per_min(x):\n",
        "  if x[\"fare\"]>=0 and x[\"duration\"]>0:\n",
        "    minutes = (x[\"duration\"]-x['additional_fare'])/60.0\n",
        "    val = x['fare']/minutes\n",
        "    return val\n",
        "  if x[\"duration\"]==0:\n",
        "    return 0\n",
        "  return None\n",
        "\n",
        "########### This is for getting fare per distance \n",
        "########### Lambda function\n",
        "def get_fare_per_distance(x):\n",
        "  if x['distance']==0:\n",
        "    return 0\n",
        "  if x['meter_waiting_fare']>0:\n",
        "    return float(x['fare']-x['meter_waiting_fare']-x['additional_fare'])/x['distance']\n",
        "  else:\n",
        "    return float(x['fare']-x['additional_fare'])/x['distance']\n",
        "\n",
        "# datetime_object = datetime.strptime(datetime_str, '%m/%d/%y %H:%M:%S')\n",
        "def get_time_type(df):\n",
        "  pickup_slot=[]\n",
        "  both=2\n",
        "  school=3\n",
        "  office=4\n",
        "  free=1\n",
        "  for index, row in df.iterrows():\n",
        "    pickup_datetime=row['pickup_time']\n",
        "    both_start=\"6:00\"\n",
        "    both_end=\"9:30\"\n",
        "    school_start=\"13:30\"\n",
        "    school_end=\"14:30\"\n",
        "    office_start=\"16:30\"\n",
        "    office_end=\"19:30\"\n",
        "\n",
        "    pickup_time=datetime.strptime(pickup_datetime.split(\" \")[1],'%H:%M')\n",
        "    both_start_time=datetime.strptime(both_start,'%H:%M')\n",
        "    both_end_time=datetime.strptime(both_end,'%H:%M')\n",
        "    school_start_time=datetime.strptime(school_start,'%H:%M')\n",
        "    school_end_time=datetime.strptime(school_end,'%H:%M')\n",
        "    office_start_time=datetime.strptime(office_start,'%H:%M')\n",
        "    office_end_time=datetime.strptime(office_end,'%H:%M')\n",
        "    \n",
        "    if(pickup_time> both_start_time and pickup_time<both_end_time):\n",
        "      pickup_slot.append(both)\n",
        "      # print(pickup_time,both)\n",
        "    elif(pickup_time> school_start_time and pickup_time<school_end_time):\n",
        "      pickup_slot.append(school)\n",
        "      # print(pickup_time,school)\n",
        "    elif(pickup_time>office_start_time and pickup_time<office_end_time):\n",
        "      pickup_slot.append(office)\n",
        "      # print(pickup_time,office)\n",
        "    else:\n",
        "      pickup_slot.append(free)\n",
        "      # print(pickup_time,free)  \n",
        "  return pickup_slot\n",
        "\n",
        "################fare rate of waiting\n",
        "def get_waiting_rate(x):\n",
        "  if math.isnan(x['meter_waiting']):\n",
        "    return 0\n",
        "  if x['meter_waiting']==0:\n",
        "    return 0\n",
        "  if  x['meter_waiting_fare']>=0:\n",
        "    return (float(x['meter_waiting_fare'])/x['meter_waiting'])*60\n",
        "  else:\n",
        "    return 0\n",
        "\n",
        "#################distance per min\n",
        "def get_velocity(x):\n",
        "  if math.isnan(x['duration']) or math.isnan(x['distance']):\n",
        "    return 0\n",
        "  if x['duration']==0:\n",
        "    return 0\n",
        "  return (float(x['distance'])/x['duration'])*60\n",
        "\n",
        "def get_const_drives(x):\n",
        "  if (x['fare']-x['additional_fare']-x['meter_waiting_fare'])<60:\n",
        "    return 1\n",
        "  else:\n",
        "    return 0\n",
        "##################ratio of fare from total\n",
        "def get_fare_ratio(x):\n",
        "  if (x['fare'])==0:\n",
        "    return 0\n",
        "  return float(x['additional_fare']+x['meter_waiting_fare'])/(x['fare'])"
      ],
      "execution_count": 0,
      "outputs": []
    },
    {
      "cell_type": "markdown",
      "metadata": {
        "id": "0rFeSzsIurIe",
        "colab_type": "text"
      },
      "source": [
        "# 5 . PreProcess"
      ]
    },
    {
      "cell_type": "markdown",
      "metadata": {
        "id": "PM7bSM3O1zUB",
        "colab_type": "text"
      },
      "source": [
        "### Some pre steps\n"
      ]
    },
    {
      "cell_type": "code",
      "metadata": {
        "id": "iVjOLsJF2DHN",
        "colab_type": "code",
        "outputId": "c1bb9e1c-ec18-4668-b29a-24afff508746",
        "colab": {
          "base_uri": "https://localhost:8080/",
          "height": 35
        }
      },
      "source": [
        "train_df.drop_duplicates()\n",
        "print (None)"
      ],
      "execution_count": 435,
      "outputs": [
        {
          "output_type": "stream",
          "text": [
            "None\n"
          ],
          "name": "stdout"
        }
      ]
    },
    {
      "cell_type": "markdown",
      "metadata": {
        "id": "UAqh2gAWvc5r",
        "colab_type": "text"
      },
      "source": [
        "### Create feature_df and label"
      ]
    },
    {
      "cell_type": "code",
      "metadata": {
        "id": "0lSF4VMUvjvg",
        "colab_type": "code",
        "colab": {}
      },
      "source": [
        "trip_id  = test_df['tripid']\n",
        "\n",
        "features_df = train_df.loc[:, train_df.columns != 'label']\n",
        "label_df = train_df['label'].apply(encoding_label).values\n",
        "\n",
        "features_df = features_df.loc[:, features_df.columns != 'tripid']\n",
        "test_df = test_df.loc[:, test_df.columns != 'tripid']"
      ],
      "execution_count": 0,
      "outputs": []
    },
    {
      "cell_type": "markdown",
      "metadata": {
        "id": "1OeUsk16527s",
        "colab_type": "text"
      },
      "source": [
        "### Fill nuls"
      ]
    },
    {
      "cell_type": "code",
      "metadata": {
        "id": "OQvDo4yR55A6",
        "colab_type": "code",
        "colab": {}
      },
      "source": [
        "features_df['fare'].fillna(0,inplace=True)\n",
        "test_df['fare'].fillna(0,inplace=True)\n",
        "\n",
        "features_df['additional_fare'].fillna(0,inplace=True)\n",
        "test_df['additional_fare'].fillna(0,inplace=True)\n",
        "################### ugly indexes\n",
        "bads = [203757140,213112837,193653017,209365576,190167541]\n",
        "train_df = train_df[~(train_df['tripid'].isin(bads))]\n"
      ],
      "execution_count": 0,
      "outputs": []
    },
    {
      "cell_type": "markdown",
      "metadata": {
        "id": "e4AynMz04s9G",
        "colab_type": "text"
      },
      "source": [
        "### New columns"
      ]
    },
    {
      "cell_type": "code",
      "metadata": {
        "id": "TAp0w3aO4vBp",
        "colab_type": "code",
        "colab": {}
      },
      "source": [
        "\n",
        "features_df['distance'] = features_df.apply(lambda x:get_distance(x), axis=1)\n",
        "test_df['distance'] = test_df.apply(lambda x:get_distance(x), axis=1)\n",
        "\n",
        "features_df['fare_per_distance'] = features_df.apply(lambda x:get_fare_per_distance(x),axis=1 )\n",
        "test_df['fare_per_distance'] = test_df.apply(lambda x:get_fare_per_distance(x),axis=1 )\n",
        "\n",
        "features_df['fare_per_min'] = features_df.apply(lambda x:get_fare_per_min(x),axis=1 )\n",
        "test_df['fare_per_min'] = test_df.apply(lambda x:get_fare_per_min(x),axis=1 )\n",
        "\n",
        "features_df['pickup_hour'] = features_df.apply(lambda x : get_hour_value(x,'pickup_time'),axis=1)\n",
        "test_df['pickup_hour'] = test_df.apply(lambda x : get_hour_value(x,'pickup_time'),axis=1)\n",
        "\n",
        "features_df['velocity'] = features_df.apply(lambda x:get_velocity(x),axis=1 )\n",
        "test_df['velocity'] = test_df.apply(lambda x:get_velocity(x),axis=1 )\n",
        "\n",
        "kmeans = KMeans(n_clusters=3, random_state=0)\n",
        "features_df['city'] = kmeans.fit(features_df[['pick_lon','pick_lat','fare']]).predict(features_df[['pick_lon','pick_lat','fare']])\n",
        "test_df['city'] = kmeans.fit(test_df[['pick_lon','pick_lat','fare']]).predict(test_df[['pick_lon','pick_lat','fare']])\n",
        "\n",
        "features_df['wr'] = features_df.apply(lambda x : get_waiting_rate(x),axis=1)\n",
        "test_df['wr'] = test_df.apply(lambda x : get_waiting_rate(x),axis=1)\n"
      ],
      "execution_count": 0,
      "outputs": []
    },
    {
      "cell_type": "markdown",
      "metadata": {
        "id": "xlOcjva97_Mr",
        "colab_type": "text"
      },
      "source": [
        "### Drop Columns"
      ]
    },
    {
      "cell_type": "code",
      "metadata": {
        "id": "eROkD_Jd8Bmm",
        "colab_type": "code",
        "colab": {}
      },
      "source": [
        "features_df = features_df.drop(labels=['pickup_time','drop_time','meter_waiting_till_pickup','pick_lat','drop_lat','pick_lon','drop_lon'],axis=1)\n",
        "test_df = test_df.drop(labels=['pickup_time','drop_time','meter_waiting_till_pickup','pick_lat','drop_lat','pick_lon','drop_lon'],axis=1)"
      ],
      "execution_count": 0,
      "outputs": []
    },
    {
      "cell_type": "markdown",
      "metadata": {
        "id": "rl4yxOjgvRjC",
        "colab_type": "text"
      },
      "source": [
        "### Pipeline's pre prcessors"
      ]
    },
    {
      "cell_type": "code",
      "metadata": {
        "id": "ImNWnXUmwXlj",
        "colab_type": "code",
        "colab": {}
      },
      "source": [
        "numeric_cols = features_df.columns[features_df.dtypes != \"object\"].values\n"
      ],
      "execution_count": 0,
      "outputs": []
    },
    {
      "cell_type": "code",
      "metadata": {
        "id": "1hqbJUMLu63c",
        "colab_type": "code",
        "colab": {}
      },
      "source": [
        "cat_preprocessing_steps=Pipeline([\n",
        "  ('cat_one_hot',OneHotEncoder())\n",
        "])\n",
        "\n",
        "\n",
        "numeric_preprocessing_steps = Pipeline([\n",
        "    ('standard_scaler', StandardScaler()),\n",
        "    ('simple_imputer', SimpleImputer(strategy='mean'))\n",
        "])\n",
        "\n",
        "\n",
        "preprocessor = ColumnTransformer(\n",
        "    transformers = [\n",
        "        (\"numeric\", numeric_preprocessing_steps, numeric_cols),  \n",
        "        # (\"categorical\",cat_preprocessing_steps,cat_features)\n",
        "    ],\n",
        "    remainder = \"drop\"\n",
        ")"
      ],
      "execution_count": 0,
      "outputs": []
    },
    {
      "cell_type": "markdown",
      "metadata": {
        "id": "LTqa12e3u7nD",
        "colab_type": "text"
      },
      "source": [
        "# 6 . Model"
      ]
    },
    {
      "cell_type": "code",
      "metadata": {
        "id": "DcwuCr8QwjMZ",
        "colab_type": "code",
        "colab": {}
      },
      "source": [
        "pca = PCA()\n",
        "\n"
      ],
      "execution_count": 0,
      "outputs": []
    },
    {
      "cell_type": "markdown",
      "metadata": {
        "id": "vqpO5IDiwxgX",
        "colab_type": "text"
      },
      "source": [
        "# 7 . Cross validation and result"
      ]
    },
    {
      "cell_type": "code",
      "metadata": {
        "id": "eIHghLrRw1yo",
        "colab_type": "code",
        "colab": {}
      },
      "source": [
        "# # for x in np.arange(20, 100, 1):\n",
        "# for x in range(0,1,1):\n",
        "#   estimators = RandomForestClassifier(\n",
        "#       # bootstrap= False,\n",
        "#       # criterion=\"entropy\",\n",
        "#       # random_state = 4,\n",
        "#       # max_depth=67,\n",
        "#       # max_features= 'sqrt',\n",
        "#       # min_samples_leaf= 4,\n",
        "#       # min_samples_split=5,\n",
        "#       # n_estimators = 500\n",
        "#   )\n",
        "#   xgb = XGBClassifier(\n",
        "#       max_depth=19,\n",
        "#       learning_rate=6,\n",
        "#       n_estimators=x\n",
        "#   )\n",
        "#   full_pipeline = Pipeline([\n",
        "#       (\"preprocessor\", preprocessor),\n",
        "#       # (\"debuffe\",debugerr()),\n",
        "#       (\"pca\",pca),\n",
        "#       (\"esti\", estimators)\n",
        "#   ])\n",
        "#   kfold = StratifiedKFold(n_splits=5, random_state=1, shuffle=True)\n",
        "#   cv_results = cross_val_score(full_pipeline, features_df, label_df, cv=kfold, scoring='f1')\n",
        "#   print(cv_results)\n",
        "#   print('%s: %f (%f) for rs = %f ' % (\"RF\", cv_results.mean()*100, cv_results.std(),x))\n",
        "#   print(\"\\n\")\n"
      ],
      "execution_count": 0,
      "outputs": []
    },
    {
      "cell_type": "markdown",
      "metadata": {
        "id": "tsIq40Vj1oM8",
        "colab_type": "text"
      },
      "source": [
        "RF: 97.592728 (0.000779) with rs = 4 md=67"
      ]
    },
    {
      "cell_type": "markdown",
      "metadata": {
        "id": "kL39insr_Nj5",
        "colab_type": "text"
      },
      "source": [
        "## **Catboost**\n"
      ]
    },
    {
      "cell_type": "code",
      "metadata": {
        "id": "Fginou9S-3yG",
        "colab_type": "code",
        "outputId": "82a3742e-2474-4752-91fd-2e589cdf9e6f",
        "colab": {
          "base_uri": "https://localhost:8080/",
          "height": 444
        }
      },
      "source": [
        "!pip install catboost\n",
        "from catboost import CatBoostClassifier,Pool\n",
        "import statistics\n",
        "\n",
        "full_pipeline = Pipeline([\n",
        "    (\"preprocessor\", preprocessor),\n",
        "    # (\"debuffe\",debugerr()),\n",
        "    # (\"pca\",pca),\n",
        "    # (\"esti\", estimators)\n",
        "])\n",
        "\n",
        "\n",
        "x_train,x_test,y_train,y_test =  train_test_split( features_df, label_df, test_size=0.33, random_state=42)\n",
        "full_pipeline.fit(x_train)\n",
        "x_train = full_pipeline.transform(x_train)\n",
        "x_test = full_pipeline.transform(x_test)\n",
        "evaluation_data = full_pipeline.transform(test_df)\n",
        "\n",
        "\n",
        "data_pool = Pool(\n",
        "    data=x_train,\n",
        "    label=y_train\n",
        ")\n",
        "\n",
        "model = CatBoostClassifier(\n",
        "  # iterations=1500,\n",
        "  random_seed = 42,\n",
        "  # depth = 10,\n",
        "  eval_metric='F1'\n",
        ")\n",
        "  \n",
        "model.fit(\n",
        "    data_pool,\n",
        "    eval_set=(x_test, y_test),\n",
        "    verbose = 800\n",
        ")\n",
        "\n",
        "eval_pool = Pool(\n",
        "    data = x_test,\n",
        "    label = y_test\n",
        ")\n",
        "\n",
        "eval_result = model.eval_metrics(\n",
        "    data = eval_pool,\n",
        "    metrics = ['F1']\n",
        ")\n",
        "\n",
        "\n",
        "for metric_key in eval_result:\n",
        "  print (\"%s -: %f\" % (metric_key,statistics.mean(eval_result[metric_key])))\n",
        "\n",
        "predicted = model.predict(evaluation_data,prediction_type='Class')\n",
        "\n",
        "data_dict = { 'tripid':trip_id, 'prediction':predicted}\n",
        "pd_test_result = pd.DataFrame(data=data_dict,columns=['tripid','prediction'])\n",
        "pd_test_result = pd_test_result.set_index('tripid') \n",
        "pd_test_result.to_csv(\"catboost_result.csv\", index=True)"
      ],
      "execution_count": 444,
      "outputs": [
        {
          "output_type": "stream",
          "text": [
            "Requirement already satisfied: catboost in /usr/local/lib/python3.6/dist-packages (0.23.2)\n",
            "Requirement already satisfied: six in /usr/local/lib/python3.6/dist-packages (from catboost) (1.12.0)\n",
            "Requirement already satisfied: pandas>=0.24.0 in /usr/local/lib/python3.6/dist-packages (from catboost) (1.0.4)\n",
            "Requirement already satisfied: numpy>=1.16.0 in /usr/local/lib/python3.6/dist-packages (from catboost) (1.18.5)\n",
            "Requirement already satisfied: scipy in /usr/local/lib/python3.6/dist-packages (from catboost) (1.4.1)\n",
            "Requirement already satisfied: graphviz in /usr/local/lib/python3.6/dist-packages (from catboost) (0.10.1)\n",
            "Requirement already satisfied: matplotlib in /usr/local/lib/python3.6/dist-packages (from catboost) (3.2.1)\n",
            "Requirement already satisfied: plotly in /usr/local/lib/python3.6/dist-packages (from catboost) (4.4.1)\n",
            "Requirement already satisfied: python-dateutil>=2.6.1 in /usr/local/lib/python3.6/dist-packages (from pandas>=0.24.0->catboost) (2.8.1)\n",
            "Requirement already satisfied: pytz>=2017.2 in /usr/local/lib/python3.6/dist-packages (from pandas>=0.24.0->catboost) (2018.9)\n",
            "Requirement already satisfied: cycler>=0.10 in /usr/local/lib/python3.6/dist-packages (from matplotlib->catboost) (0.10.0)\n",
            "Requirement already satisfied: kiwisolver>=1.0.1 in /usr/local/lib/python3.6/dist-packages (from matplotlib->catboost) (1.2.0)\n",
            "Requirement already satisfied: pyparsing!=2.0.4,!=2.1.2,!=2.1.6,>=2.0.1 in /usr/local/lib/python3.6/dist-packages (from matplotlib->catboost) (2.4.7)\n",
            "Requirement already satisfied: retrying>=1.3.3 in /usr/local/lib/python3.6/dist-packages (from plotly->catboost) (1.3.3)\n",
            "Learning rate set to 0.057938\n",
            "0:\tlearn: 0.9633744\ttest: 0.9641427\tbest: 0.9641427 (0)\ttotal: 12.3ms\tremaining: 12.3s\n",
            "800:\tlearn: 0.9914342\ttest: 0.9767352\tbest: 0.9773056 (678)\ttotal: 9.06s\tremaining: 2.25s\n",
            "999:\tlearn: 0.9928643\ttest: 0.9762502\tbest: 0.9773056 (678)\ttotal: 11.3s\tremaining: 0us\n",
            "\n",
            "bestTest = 0.9773056494\n",
            "bestIteration = 678\n",
            "\n",
            "Shrink model to first 679 iterations.\n",
            "F1 -: 0.976497\n"
          ],
          "name": "stdout"
        }
      ]
    },
    {
      "cell_type": "markdown",
      "metadata": {
        "id": "KZ8_0WLbFiwL",
        "colab_type": "text"
      },
      "source": [
        "F1 -: 0.976497"
      ]
    },
    {
      "cell_type": "markdown",
      "metadata": {
        "id": "NXgiN_wHw5Ji",
        "colab_type": "text"
      },
      "source": [
        "# 8 . Train model"
      ]
    },
    {
      "cell_type": "code",
      "metadata": {
        "id": "AxLkfNs5w8JW",
        "colab_type": "code",
        "colab": {}
      },
      "source": [
        "# full_pipeline.fit(features_df,label_df)\n",
        "# print (None)"
      ],
      "execution_count": 0,
      "outputs": []
    },
    {
      "cell_type": "markdown",
      "metadata": {
        "id": "7qoVtyz6xA3z",
        "colab_type": "text"
      },
      "source": [
        "# 9 . Predict and save result"
      ]
    },
    {
      "cell_type": "code",
      "metadata": {
        "id": "CHKUARebxEbl",
        "colab_type": "code",
        "colab": {}
      },
      "source": [
        "# predicted = full_pipeline.predict(test_df)\n",
        "\n",
        "# data_dict = { 'tripid':trip_id, 'prediction':predicted}\n",
        "# pd_test_result = pd.DataFrame(data=data_dict,columns=['tripid','prediction'])\n",
        "# pd_test_result = pd_test_result.set_index('tripid') \n",
        "# pd_test_result.to_csv(\"submission_result.csv\", index=True)"
      ],
      "execution_count": 0,
      "outputs": []
    }
  ]
}