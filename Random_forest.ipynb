{
  "nbformat": 4,
  "nbformat_minor": 0,
  "metadata": {
    "colab": {
      "name": "Random_forest.ipynb",
      "provenance": [],
      "collapsed_sections": [],
      "toc_visible": true,
      "include_colab_link": true
    },
    "kernelspec": {
      "name": "python3",
      "display_name": "Python 3"
    }
  },
  "cells": [
    {
      "cell_type": "markdown",
      "metadata": {
        "id": "view-in-github",
        "colab_type": "text"
      },
      "source": [
        "<a href=\"https://colab.research.google.com/github/charlie9526/TaxiFare/blob/master/Random_forest.ipynb\" target=\"_parent\"><img src=\"https://colab.research.google.com/assets/colab-badge.svg\" alt=\"Open In Colab\"/></a>"
      ]
    },
    {
      "cell_type": "markdown",
      "metadata": {
        "id": "_sODayNcSk0I",
        "colab_type": "text"
      },
      "source": [
        "## Inports and Mounting"
      ]
    },
    {
      "cell_type": "code",
      "metadata": {
        "id": "Yqxim_vdSo2D",
        "colab_type": "code",
        "colab": {
          "base_uri": "https://localhost:8080/"
        },
        "outputId": "04e9228b-7d21-4741-c3ab-ca8cc24f8d44"
      },
      "source": [
        "from google.colab import drive \n",
        "drive.mount('/content/drive')\n",
        "%cd /content/drive/My\\ Drive/Colab\\ Notebooks/FAIR_TAXI\n"
      ],
      "execution_count": null,
      "outputs": [
        {
          "output_type": "stream",
          "text": [
            "Drive already mounted at /content/drive; to attempt to forcibly remount, call drive.mount(\"/content/drive\", force_remount=True).\n"
          ],
          "name": "stdout"
        }
      ]
    },
    {
      "cell_type": "code",
      "metadata": {
        "id": "ZgG_U0EgS3f9",
        "colab_type": "code",
        "colab": {}
      },
      "source": [
        "import pandas as pd\n",
        "from datetime import datetime\n",
        "import random\n",
        "import matplotlib\n",
        "import matplotlib.pyplot as plt\n",
        "import seaborn as sns; sns.set(style=\"ticks\", color_codes=True)              #data visualization library based on matplotlib\n",
        "import numpy as np                  #support library for amtrices etc.\n",
        "from scipy.stats import norm   \n",
        "import warnings\n",
        "warnings.filterwarnings('ignore')   #manage warnings\n",
        "%matplotlib inline                  \n",
        "#magic function in ipynb. ploting the graphs inline after the code\n",
        "from math import sin, cos, sqrt, atan2, radians\n",
        "from sklearn.neighbors import KNeighborsClassifier\n",
        "\n",
        "from sklearn.svm import SVC,LinearSVC\n",
        "from sklearn.decomposition import PCA\n",
        "from sklearn.model_selection import StratifiedKFold\n",
        "from sklearn.ensemble import RandomForestClassifier\n",
        "from sklearn.preprocessing import OneHotEncoder\n",
        "from sklearn import metrics\n",
        "from sklearn.metrics import f1_score\n",
        "from sklearn.preprocessing import StandardScaler\n",
        "from sklearn.preprocessing import LabelEncoder,LabelBinarizer\n",
        "from sklearn.impute import SimpleImputer\n",
        "from sklearn.compose import ColumnTransformer\n",
        "from sklearn.linear_model import LogisticRegression\n",
        "from sklearn.multioutput import MultiOutputClassifier\n",
        "from sklearn.pipeline import Pipeline\n",
        "from sklearn.tree import DecisionTreeClassifier\n",
        "from xgboost import XGBClassifier\n",
        "from sklearn.model_selection import train_test_split\n",
        "from sklearn.model_selection import cross_val_score\n",
        "from sklearn.cluster import KMeans\n",
        "from sklearn.metrics import roc_curve, roc_auc_score\n",
        "from sklearn.base import BaseEstimator, TransformerMixin"
      ],
      "execution_count": null,
      "outputs": []
    },
    {
      "cell_type": "code",
      "metadata": {
        "id": "Dhmr0pfzTNr1",
        "colab_type": "code",
        "colab": {}
      },
      "source": [
        "train_df = pd.read_csv('train.csv')\n",
        "test_df = pd.read_csv('test.csv')\n",
        "trip_id  = test_df['tripid']\n",
        "\n",
        "\n",
        "# train_df = train_df[(train_df['additional_fare'].isna())&(train_df['label']=='correct')]"
      ],
      "execution_count": null,
      "outputs": []
    },
    {
      "cell_type": "code",
      "metadata": {
        "id": "4NpGyoCkgjRl",
        "colab_type": "code",
        "colab": {}
      },
      "source": [
        "################### ugly indexes\n",
        "train_df = train_df[(train_df['tripid']!=213112837) | (train_df['tripid']!=193653017) | (train_df['tripid']!=209365576)]"
      ],
      "execution_count": null,
      "outputs": []
    },
    {
      "cell_type": "markdown",
      "metadata": {
        "id": "H1dGLTTmQgDV",
        "colab_type": "text"
      },
      "source": [
        "## Definitions"
      ]
    },
    {
      "cell_type": "code",
      "metadata": {
        "id": "G3TzpMDUQjU0",
        "colab_type": "code",
        "colab": {}
      },
      "source": [
        "#elts write a lambda function\n",
        "def get_duration(x):\n",
        "  if x['pickup_time']==None or x['drop_time']==None:\n",
        "    return None\n",
        "  \n",
        "  try :\n",
        "    if int(x['pickup_time'].split(\"/\")[1])>12 or int(x['drop_time'].split(\"/\")[1])>12:\n",
        "      gap = datetime.strptime(x['pickup_time'],\"%m/%d/%Y %H:%M\")-datetime.strptime(x['drop_time'],\"%m/%d/%Y %H:%M\")\n",
        "    else:\n",
        "      if int(x['pickup_time'].split(\"/\")[1]) != int(x['drop_time'].split(\"/\")[1]):\n",
        "        gap = datetime.strptime(x['pickup_time'],\"%m/%d/%Y %H:%M\")-datetime.strptime(x['drop_time'],\"%m/%d/%Y %H:%M\")\n",
        "      else:\n",
        "        gap = datetime.strptime(x['pickup_time'],\"%d/%m/%Y %H:%M\")-datetime.strptime(x['drop_time'],\"%d/%m/%Y %H:%M\")\n",
        "    # print (gap.total_seconds()/3600,x['pickup_time'] ,x['drop_time'])\n",
        "  except :\n",
        "    # print(int(x['pickup_time'].split(\"/\")[0])>12 or int(x['drop_time'].split(\"/\")[0])>12)\n",
        "    return None\n",
        "  # print(abs(gap.total_seconds()/3600), x['drop_time'],x['pickup_time'])\n",
        "  disti =  abs(gap.total_seconds())\n",
        "  if x['duration']>0:\n",
        "    return x['duration']\n",
        "  else:\n",
        "    return disti\n",
        "\n",
        "class MakeTripDurationFeature(BaseEstimator, TransformerMixin):\n",
        "    def fit(self, X, y=None):\n",
        "        return self\n",
        "\n",
        "    def transform(self, X):\n",
        "        X['time_gap'] = X.apply(lambda x:get_duration(x), axis=1)\n",
        "        X = X.drop(labels=['pickup_time','drop_time'],axis=1)\n",
        "        return X\n",
        "\n",
        "# Change the label of binary values\n",
        "class MakeTripDurationFeature(BaseEstimator, TransformerMixin):\n",
        "    def fit(self, X, y):\n",
        "        y = y.apply(lambda x:get_binary(x))\n",
        "        # print (y);\n",
        "        return self\n",
        "    def transform(self,X):\n",
        "        return X\n",
        "\n",
        "# debugerr \n",
        "class debugerr(BaseEstimator, TransformerMixin):\n",
        "    def fit(self, X, y):\n",
        "        print (pd.DataFrame(X));\n",
        "        return self\n",
        "    def transform(self,X):\n",
        "        return X\n",
        "\n",
        "# lambda function for change label\n",
        "def get_binary(x):\n",
        "  if x==None:\n",
        "    return 0\n",
        "  if x == \"correct\":\n",
        "    # print (x);\n",
        "    return 1\n",
        "  else:\n",
        "    return 0\n",
        "\n",
        "# set distance column\n",
        "class set_distance(BaseEstimator, TransformerMixin):\n",
        "    def fit(self, X, y=None):\n",
        "      return self\n",
        "\n",
        "    def transform(self, X):\n",
        "      X['distance'] = X.apply(lambda x:get_distance(x), axis=1)\n",
        "      # print(X)\n",
        "      # X = X.drop(labels=['pick_lat','pick_lon','drop_lat','drop_lon'],axis=1)\n",
        "      return X\n",
        "# lambda column get distance\n",
        "def get_distance(x):\n",
        "  R = 6373.0\n",
        "  lat1 = radians(float(x['drop_lat']))\n",
        "  lon1 = radians(float(x['drop_lon']))\n",
        "  lat2 = radians(float(x['pick_lat']))\n",
        "  lon2 = radians(float(x['pick_lon']))\n",
        "\n",
        "  dlon = lon2 - lon1\n",
        "  dlat = lat2 - lat1\n",
        "\n",
        "  a = sin(dlat / 2)**2 + cos(lat1) * cos(lat2) * sin(dlon / 2)**2\n",
        "  c = 2 * atan2(sqrt(a), sqrt(1 - a))\n",
        "\n",
        "  distance = R * c\n",
        "  return distance\n",
        "\n",
        "# remove columns\n",
        "class remove_colums_unwanted(BaseEstimator, TransformerMixin):\n",
        "    def fit(self, X, y=None):\n",
        "      return self\n",
        "\n",
        "    def transform(self, X):\n",
        "      X = X.drop(labels=['pick_lat','pick_lon','meter_waiting_fare','drop_lat','drop_lon','pickup_time','drop_time'],axis=1)\n",
        "      return X\n",
        "\n",
        "\n",
        "def encoding_label(label):\n",
        "  if(label=='correct'):\n",
        "    return 1\n",
        "  else:\n",
        "    return 0\n",
        "\n",
        "def get_hour_value(x,date_time_column_name):\n",
        "  if x[date_time_column_name]==None:\n",
        "    return None\n",
        "  return datetime.strptime(x[date_time_column_name],\"%m/%d/%Y %H:%M\").hour\n",
        "\n",
        "################### Lets get date out as a column\n",
        "################### lambda function\n",
        "\n",
        "def get_date_value(x,date_time_column_name):\n",
        "  if x[date_time_column_name]==None:\n",
        "    return None\n",
        "  month = str(datetime.strptime(x[date_time_column_name],\"%m/%d/%Y %H:%M\").month)\n",
        "  date = str(datetime.strptime(x[date_time_column_name],\"%m/%d/%Y %H:%M\").day)\n",
        "  return int(month+date)\n",
        "\n",
        "def calculate_direction(d_lon, d_lat):\n",
        "    result = np.zeros(len(d_lon))\n",
        "    l = np.sqrt(d_lon**2 + d_lat**2)\n",
        "    result[d_lon>0] = (180/np.pi)*np.arcsin(d_lat[d_lon>0]/l[d_lon>0])\n",
        "    idx = (d_lon<0) & (d_lat>0)\n",
        "    result[idx] = 180 - (180/np.pi)*np.arcsin(d_lat[idx]/l[idx])\n",
        "    idx = (d_lon<0) & (d_lat<0)\n",
        "    result[idx] = -180 - (180/np.pi)*np.arcsin(d_lat[idx]/l[idx])\n",
        "    return result\n",
        "################### Here we have to add fare_per_hour column\n",
        "################### write a lambda function\n",
        "\n",
        "def get_fare_per_min(x):\n",
        "  if x[\"fare\"]>=0 and x[\"duration\"]>0:\n",
        "    minutes = x[\"duration\"]/60.0\n",
        "    val = x['fare']/minutes\n",
        "    return val\n",
        "  if x[\"duration\"]==0:\n",
        "    return 0\n",
        "  return None\n",
        "\n",
        "########### This is for getting fare per distance \n",
        "########### Lambda function\n",
        "def get_fare_per_distance(x):\n",
        "  if x['distance']==0:\n",
        "    return 0\n",
        "  if x['meter_waiting_fare']>0:\n",
        "    return float(x['fare']-x['meter_waiting_fare'])/x['distance']\n",
        "  else:\n",
        "    return float(x['fare'])/x['distance']\n"
      ],
      "execution_count": null,
      "outputs": []
    },
    {
      "cell_type": "markdown",
      "metadata": {
        "id": "ILSYtEYrqsLE",
        "colab_type": "text"
      },
      "source": [
        "## Pre-processing"
      ]
    },
    {
      "cell_type": "markdown",
      "metadata": {
        "id": "nzHTTaaRqz03",
        "colab_type": "text"
      },
      "source": [
        "check null values"
      ]
    },
    {
      "cell_type": "code",
      "metadata": {
        "id": "k-XLgDuOxRnI",
        "colab_type": "code",
        "colab": {}
      },
      "source": [
        "train_df['fare'].fillna(0,inplace=True)\n",
        "test_df['fare'].fillna(0,inplace=True)\n",
        "\n",
        "# print(train_df.describe())\n",
        "# train_df = train_df[~( train_df['additional_fare'].isna()) | (train_df['label']!='correct')]\n",
        "# print(train_df.describe())\n",
        "\n",
        "train_df['additional_fare'].fillna(0,inplace=True)\n",
        "test_df['additional_fare'].fillna(0,inplace=True)\n"
      ],
      "execution_count": null,
      "outputs": []
    },
    {
      "cell_type": "markdown",
      "metadata": {
        "id": "jjHzE6ER4rRq",
        "colab_type": "text"
      },
      "source": [
        "brek cities"
      ]
    },
    {
      "cell_type": "code",
      "metadata": {
        "id": "cocBJZ7L4pfU",
        "colab_type": "code",
        "colab": {}
      },
      "source": [
        "# kmeans = KMeans(5, random_state=0)\n",
        "# train_df['city'] = kmeans.fit(train_df[['drop_lon','drop_lat']]).predict(train_df[['drop_lon','drop_lat']])\n",
        "# test_df['city'] = kmeans.fit(test_df[['drop_lon','drop_lat']]).predict(test_df[['drop_lon','drop_lat']])"
      ],
      "execution_count": null,
      "outputs": []
    },
    {
      "cell_type": "markdown",
      "metadata": {
        "id": "HD4GHS8XdDT5",
        "colab_type": "text"
      },
      "source": [
        "encode label and create feature set\n"
      ]
    },
    {
      "cell_type": "code",
      "metadata": {
        "id": "-S40RvNkdF-T",
        "colab_type": "code",
        "colab": {}
      },
      "source": [
        "train_df['label'] = train_df['label'].apply(encoding_label).values\n",
        "features_df = train_df.loc[:, train_df.columns != 'label']\n",
        "label_df = train_df['label']"
      ],
      "execution_count": null,
      "outputs": []
    },
    {
      "cell_type": "markdown",
      "metadata": {
        "id": "tAjngFaidHt-",
        "colab_type": "text"
      },
      "source": [
        "remove unnecessary columns"
      ]
    },
    {
      "cell_type": "code",
      "metadata": {
        "id": "9L--k8x5dYvk",
        "colab_type": "code",
        "colab": {}
      },
      "source": [
        "features_df = features_df.loc[:, features_df.columns != 'tripid']\n",
        "test_df = test_df.loc[:, test_df.columns != 'tripid']"
      ],
      "execution_count": null,
      "outputs": []
    },
    {
      "cell_type": "markdown",
      "metadata": {
        "id": "qhp6ma5xdpiw",
        "colab_type": "text"
      },
      "source": [
        "add some columns to dataset"
      ]
    },
    {
      "cell_type": "code",
      "metadata": {
        "id": "LFRL6gnidozS",
        "colab_type": "code",
        "colab": {}
      },
      "source": [
        "\n",
        "features_df['distance'] = features_df.apply(lambda x:get_distance(x), axis=1)\n",
        "test_df['distance'] = test_df.apply(lambda x:get_distance(x), axis=1)\n",
        "\n",
        "\n",
        "features_df['fare_per_min'] = features_df.apply(lambda x:get_fare_per_min(x),axis=1 )\n",
        "test_df['fare_per_min'] = test_df.apply(lambda x:get_fare_per_min(x),axis=1 )\n",
        "\n",
        "\n",
        "features_df['fare_per_distance'] = features_df.apply(lambda x:get_fare_per_distance(x),axis=1 )\n",
        "test_df['fare_per_distance'] = test_df.apply(lambda x:get_fare_per_distance(x),axis=1 )\n",
        "\n",
        "features_df['pickup_hour'] = features_df.apply(lambda x:get_hour_value(x,\"pickup_time\"),axis=1)\n",
        "test_df['pickup_hour'] = test_df.apply(lambda x:get_hour_value(x,\"pickup_time\"),axis=1)\n",
        "\n",
        "features_df = features_df.drop(labels=['drop_lat','drop_lon','pickup_time','pick_lat','pick_lon','drop_time'],axis=1)\n",
        "test_df = test_df.drop(labels=['drop_lat','drop_lon','pickup_time','pick_lat','pick_lon','drop_time'],axis=1)\n",
        "\n",
        "# features_df.to_csv(\"/content/drive/My Drive/Colab Notebooks/FAIR_TAXI/features_df.csv\", index=True)\n"
      ],
      "execution_count": null,
      "outputs": []
    },
    {
      "cell_type": "markdown",
      "metadata": {
        "id": "yysQY4769Zzj",
        "colab_type": "text"
      },
      "source": [
        "break others"
      ]
    },
    {
      "cell_type": "code",
      "metadata": {
        "id": "7LbxYZDF9d-S",
        "colab_type": "code",
        "colab": {}
      },
      "source": [
        "kmeans = KMeans(3, random_state=0)\n",
        "ppp = ['fare_per_distance','fare']\n",
        "ccc = 'fare_per_distance'\n",
        "features_df[ccc] = kmeans.fit(features_df[ppp]).predict(features_df[ppp])\n",
        "test_df[ccc] = kmeans.fit(test_df[ppp]).predict(test_df[ppp])"
      ],
      "execution_count": null,
      "outputs": []
    },
    {
      "cell_type": "markdown",
      "metadata": {
        "id": "ezw2HIfRelEn",
        "colab_type": "text"
      },
      "source": [
        "split train and test data"
      ]
    },
    {
      "cell_type": "code",
      "metadata": {
        "id": "uchXS5kFebeC",
        "colab_type": "code",
        "colab": {}
      },
      "source": [
        "X_train, X_test, y_train, y_test = train_test_split(features_df, label_df, test_size=0.3, random_state=1)\n"
      ],
      "execution_count": null,
      "outputs": []
    },
    {
      "cell_type": "markdown",
      "metadata": {
        "id": "vaxC76-gUItP",
        "colab_type": "text"
      },
      "source": [
        "## Model Pipelines"
      ]
    },
    {
      "cell_type": "code",
      "metadata": {
        "id": "yHHO_y2EW11i",
        "colab_type": "code",
        "colab": {
          "base_uri": "https://localhost:8080/",
          "height": 67
        },
        "outputId": "4b68bd3a-f706-4fb1-9792-531156454013"
      },
      "source": [
        "\n",
        "numeric_preprocessing_steps = Pipeline([\n",
        "    ('standard_scaler', StandardScaler()),\n",
        "    ('simple_imputer', SimpleImputer(strategy='mean'))\n",
        "])\n",
        "\n",
        "numeric_cols = features_df.columns[features_df.dtypes != \"object\"].values\n",
        "\n",
        "preprocessor = ColumnTransformer(\n",
        "    transformers = [\n",
        "        (\"numeric\", numeric_preprocessing_steps, numeric_cols)\n",
        "    ],\n",
        "    remainder = \"drop\"\n",
        ")\n",
        "print(numeric_cols)"
      ],
      "execution_count": null,
      "outputs": [
        {
          "output_type": "stream",
          "text": [
            "['additional_fare' 'duration' 'meter_waiting' 'meter_waiting_fare'\n",
            " 'meter_waiting_till_pickup' 'fare' 'distance' 'fare_per_min'\n",
            " 'fare_per_distance' 'pickup_hour']\n"
          ],
          "name": "stdout"
        }
      ]
    },
    {
      "cell_type": "markdown",
      "metadata": {
        "id": "UXeGjXWmetcn",
        "colab_type": "text"
      },
      "source": [
        "create random grid search cv for random forest"
      ]
    },
    {
      "cell_type": "code",
      "metadata": {
        "id": "2BsbF-RxBEWV",
        "colab_type": "code",
        "colab": {}
      },
      "source": [
        "from sklearn.model_selection import RandomizedSearchCV\n",
        "from sklearn.ensemble import RandomForestRegressor\n",
        "\n",
        "\n",
        "\n",
        "# # Number of trees in random forest\n",
        "n_estimators = [int(x) for x in np.linspace(start = 200, stop = 2000, num = 20)]\n",
        "# # Number of features to consider at every split\n",
        "max_features = ['auto', 'sqrt']\n",
        "# Maximum number of levels in tree\n",
        "max_depth = [int(x) for x in np.linspace(10, 110, num = 15)]\n",
        "max_depth.append(None)\n",
        "# # Minimum number of samples required to split a node\n",
        "min_samples_split = [2, 5, 10, 20]\n",
        "# # Minimum number of samples required at each leaf node\n",
        "min_samples_leaf = [1, 2, 4 , 10]\n",
        "# # Method of selecting samples for training each tree\n",
        "bootstrap = [True, False]\n",
        "\n",
        "random_grid_random_forest = {\n",
        "               'esti__n_estimators': n_estimators,\n",
        "               'esti__max_features': max_features,\n",
        "               'esti__max_depth': max_depth,\n",
        "               'esti__min_samples_split': min_samples_split,\n",
        "               'esti__min_samples_leaf': min_samples_leaf,\n",
        "               'esti__bootstrap': bootstrap\n",
        "               }\n",
        "random_grid_svm = {\n",
        "              \"esti__C\": np.arange(2, 10, 2),\n",
        "              \"esti__gamma\": np.arange(0.1, 1, 0.2)\n",
        "              }\n",
        "random_grid_xgb = {\n",
        "              'esti__gamma':[i/10.0 for i in range(0,5)],\n",
        "              'esti__max_depth':range(3,10,2),\n",
        "              'esti__min_child_weight':range(1,6,2)\n",
        "}"
      ],
      "execution_count": null,
      "outputs": []
    },
    {
      "cell_type": "markdown",
      "metadata": {
        "id": "D-cJtNGNgonf",
        "colab_type": "text"
      },
      "source": [
        "wihout pca RF: 0.975462 (0.003489) with only 67 depth \\\n",
        "with pca RF: 0.974298 (0.003013)\n"
      ]
    },
    {
      "cell_type": "code",
      "metadata": {
        "id": "nx_F0ntgnsTH",
        "colab_type": "code",
        "colab": {}
      },
      "source": [
        "\n",
        "pca = PCA()\n",
        "estimators = RandomForestClassifier(\n",
        "      # bootstrap= False,\n",
        "      random_state = 42,\n",
        "      max_depth=67,\n",
        "      # min_samples_split=5,\n",
        "      # n_estimators = 500\n",
        ")\n",
        "remove_c = remove_colums_unwanted()\n",
        "\n",
        "full_pipeline = Pipeline([\n",
        "                          (\"preprocessor\", preprocessor),\n",
        "                          # ('columnremove',remove_c),\n",
        "                          # (\"debuffe\",debugerr()),\n",
        "                          # (\"pca\",pca),\n",
        "                          (\"esti\", estimators)\n",
        "                          ])\n",
        "\n"
      ],
      "execution_count": null,
      "outputs": []
    },
    {
      "cell_type": "code",
      "metadata": {
        "id": "PZKieZgHZ9e_",
        "colab_type": "code",
        "colab": {
          "base_uri": "https://localhost:8080/",
          "height": 34
        },
        "outputId": "f051debd-3a4f-43e2-8888-2a0b1e2e91a5"
      },
      "source": [
        "kfold = StratifiedKFold(n_splits=10, random_state=42, shuffle=True)\n",
        "cv_results = cross_val_score(\n",
        "    full_pipeline, features_df, label_df, cv=kfold, scoring='f1')\n",
        "print('%s: %f (%f)' % (\"RF\", cv_results.mean(), cv_results.std()))"
      ],
      "execution_count": null,
      "outputs": [
        {
          "output_type": "stream",
          "text": [
            "RF: 0.974779 (0.003658)\n"
          ],
          "name": "stdout"
        }
      ]
    },
    {
      "cell_type": "code",
      "metadata": {
        "id": "QDkQGAm1aEBa",
        "colab_type": "code",
        "colab": {}
      },
      "source": [
        "# rf_random_pipe = RandomizedSearchCV(full_pipeline, param_distributions = random_grid_svm, cv = 10, verbose=2, random_state=42, scoring ='f1')\n",
        "# rf_random_pipe.fit(features_df,label_df)"
      ],
      "execution_count": null,
      "outputs": []
    },
    {
      "cell_type": "code",
      "metadata": {
        "id": "GcqAya5DmMDS",
        "colab_type": "code",
        "colab": {}
      },
      "source": [
        "full_pipeline.fit(features_df,label_df)\n",
        "predicted = full_pipeline.predict(test_df)\n",
        "data_dict = { 'tripid':trip_id, 'prediction':predicted}\n",
        "pd_test_result = pd.DataFrame(data=data_dict)\n"
      ],
      "execution_count": null,
      "outputs": []
    },
    {
      "cell_type": "code",
      "metadata": {
        "id": "gTw4CryXbAxH",
        "colab_type": "code",
        "colab": {}
      },
      "source": [
        "pd_test_result[['tripid','prediction']].to_csv(\"/content/drive/My Drive/Colab Notebooks/FAIR_TAXI/result.csv\", index=True)\n"
      ],
      "execution_count": null,
      "outputs": []
    },
    {
      "cell_type": "code",
      "metadata": {
        "id": "UOB3cQhASIT9",
        "colab_type": "code",
        "colab": {}
      },
      "source": [
        "# rf_random_pipe.best_estimator_"
      ],
      "execution_count": null,
      "outputs": []
    },
    {
      "cell_type": "code",
      "metadata": {
        "id": "ByMJMKv8VEwS",
        "colab_type": "code",
        "colab": {
          "base_uri": "https://localhost:8080/",
          "height": 304
        },
        "outputId": "374ffdfa-950f-4ad1-d1fb-11a308a120ec"
      },
      "source": [
        "train_df.describe()"
      ],
      "execution_count": null,
      "outputs": [
        {
          "output_type": "execute_result",
          "data": {
            "text/html": [
              "<div>\n",
              "<style scoped>\n",
              "    .dataframe tbody tr th:only-of-type {\n",
              "        vertical-align: middle;\n",
              "    }\n",
              "\n",
              "    .dataframe tbody tr th {\n",
              "        vertical-align: top;\n",
              "    }\n",
              "\n",
              "    .dataframe thead th {\n",
              "        text-align: right;\n",
              "    }\n",
              "</style>\n",
              "<table border=\"1\" class=\"dataframe\">\n",
              "  <thead>\n",
              "    <tr style=\"text-align: right;\">\n",
              "      <th></th>\n",
              "      <th>tripid</th>\n",
              "      <th>additional_fare</th>\n",
              "      <th>duration</th>\n",
              "      <th>meter_waiting</th>\n",
              "      <th>meter_waiting_fare</th>\n",
              "      <th>meter_waiting_till_pickup</th>\n",
              "      <th>pick_lat</th>\n",
              "      <th>pick_lon</th>\n",
              "      <th>drop_lat</th>\n",
              "      <th>drop_lon</th>\n",
              "      <th>fare</th>\n",
              "      <th>label</th>\n",
              "    </tr>\n",
              "  </thead>\n",
              "  <tbody>\n",
              "    <tr>\n",
              "      <th>count</th>\n",
              "      <td>1.717600e+04</td>\n",
              "      <td>17176.000000</td>\n",
              "      <td>16974.000000</td>\n",
              "      <td>16974.000000</td>\n",
              "      <td>16974.000000</td>\n",
              "      <td>16974.000000</td>\n",
              "      <td>17176.000000</td>\n",
              "      <td>17176.000000</td>\n",
              "      <td>17176.000000</td>\n",
              "      <td>17176.000000</td>\n",
              "      <td>17176.000000</td>\n",
              "      <td>17176.000000</td>\n",
              "    </tr>\n",
              "    <tr>\n",
              "      <th>mean</th>\n",
              "      <td>2.014549e+08</td>\n",
              "      <td>13.558299</td>\n",
              "      <td>1702.858077</td>\n",
              "      <td>629.074231</td>\n",
              "      <td>32.057666</td>\n",
              "      <td>112.466832</td>\n",
              "      <td>6.965499</td>\n",
              "      <td>79.998389</td>\n",
              "      <td>6.968587</td>\n",
              "      <td>79.997534</td>\n",
              "      <td>310.161649</td>\n",
              "      <td>0.902131</td>\n",
              "    </tr>\n",
              "    <tr>\n",
              "      <th>std</th>\n",
              "      <td>7.456830e+06</td>\n",
              "      <td>98.402411</td>\n",
              "      <td>8120.160818</td>\n",
              "      <td>8063.260669</td>\n",
              "      <td>465.483573</td>\n",
              "      <td>442.054812</td>\n",
              "      <td>0.210760</td>\n",
              "      <td>0.243384</td>\n",
              "      <td>0.378669</td>\n",
              "      <td>0.359648</td>\n",
              "      <td>603.522765</td>\n",
              "      <td>0.297146</td>\n",
              "    </tr>\n",
              "    <tr>\n",
              "      <th>min</th>\n",
              "      <td>1.891236e+08</td>\n",
              "      <td>0.000000</td>\n",
              "      <td>0.000000</td>\n",
              "      <td>0.000000</td>\n",
              "      <td>0.000000</td>\n",
              "      <td>0.000000</td>\n",
              "      <td>5.937600</td>\n",
              "      <td>79.819100</td>\n",
              "      <td>5.941860</td>\n",
              "      <td>45.307700</td>\n",
              "      <td>0.000000</td>\n",
              "      <td>0.000000</td>\n",
              "    </tr>\n",
              "    <tr>\n",
              "      <th>25%</th>\n",
              "      <td>1.947619e+08</td>\n",
              "      <td>10.500000</td>\n",
              "      <td>548.000000</td>\n",
              "      <td>33.000000</td>\n",
              "      <td>0.000000</td>\n",
              "      <td>26.000000</td>\n",
              "      <td>6.865077</td>\n",
              "      <td>79.870400</td>\n",
              "      <td>6.865625</td>\n",
              "      <td>79.870100</td>\n",
              "      <td>123.427500</td>\n",
              "      <td>1.000000</td>\n",
              "    </tr>\n",
              "    <tr>\n",
              "      <th>50%</th>\n",
              "      <td>2.013582e+08</td>\n",
              "      <td>10.500000</td>\n",
              "      <td>1009.500000</td>\n",
              "      <td>123.000000</td>\n",
              "      <td>0.116600</td>\n",
              "      <td>73.000000</td>\n",
              "      <td>6.914105</td>\n",
              "      <td>79.898600</td>\n",
              "      <td>6.916160</td>\n",
              "      <td>79.899100</td>\n",
              "      <td>209.540000</td>\n",
              "      <td>1.000000</td>\n",
              "    </tr>\n",
              "    <tr>\n",
              "      <th>75%</th>\n",
              "      <td>2.083081e+08</td>\n",
              "      <td>10.500000</td>\n",
              "      <td>1803.000000</td>\n",
              "      <td>351.000000</td>\n",
              "      <td>14.341800</td>\n",
              "      <td>144.000000</td>\n",
              "      <td>7.043057</td>\n",
              "      <td>79.956600</td>\n",
              "      <td>7.047195</td>\n",
              "      <td>79.960225</td>\n",
              "      <td>364.315000</td>\n",
              "      <td>1.000000</td>\n",
              "    </tr>\n",
              "    <tr>\n",
              "      <th>max</th>\n",
              "      <td>2.138173e+08</td>\n",
              "      <td>12795.030000</td>\n",
              "      <td>453872.000000</td>\n",
              "      <td>453650.000000</td>\n",
              "      <td>26198.601400</td>\n",
              "      <td>51288.000000</td>\n",
              "      <td>8.051010</td>\n",
              "      <td>81.009600</td>\n",
              "      <td>48.132000</td>\n",
              "      <td>81.009700</td>\n",
              "      <td>26945.990000</td>\n",
              "      <td>1.000000</td>\n",
              "    </tr>\n",
              "  </tbody>\n",
              "</table>\n",
              "</div>"
            ],
            "text/plain": [
              "             tripid  additional_fare  ...          fare         label\n",
              "count  1.717600e+04     17176.000000  ...  17176.000000  17176.000000\n",
              "mean   2.014549e+08        13.558299  ...    310.161649      0.902131\n",
              "std    7.456830e+06        98.402411  ...    603.522765      0.297146\n",
              "min    1.891236e+08         0.000000  ...      0.000000      0.000000\n",
              "25%    1.947619e+08        10.500000  ...    123.427500      1.000000\n",
              "50%    2.013582e+08        10.500000  ...    209.540000      1.000000\n",
              "75%    2.083081e+08        10.500000  ...    364.315000      1.000000\n",
              "max    2.138173e+08     12795.030000  ...  26945.990000      1.000000\n",
              "\n",
              "[8 rows x 12 columns]"
            ]
          },
          "metadata": {
            "tags": []
          },
          "execution_count": 375
        }
      ]
    }
  ]
}