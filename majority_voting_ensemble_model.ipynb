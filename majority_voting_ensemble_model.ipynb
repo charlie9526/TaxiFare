{
  "nbformat": 4,
  "nbformat_minor": 0,
  "metadata": {
    "colab": {
      "name": "majority_voting_ensemble_model.ipynb",
      "provenance": [],
      "collapsed_sections": [
        "GnEALk_utX5E",
        "z-t_Sjw9qcgF",
        "b8xqfB8wumPT"
      ],
      "toc_visible": true,
      "authorship_tag": "ABX9TyNQxzOE6IP8/pt2r1xV4w7d",
      "include_colab_link": true
    },
    "kernelspec": {
      "name": "python3",
      "display_name": "Python 3"
    }
  },
  "cells": [
    {
      "cell_type": "markdown",
      "metadata": {
        "id": "view-in-github",
        "colab_type": "text"
      },
      "source": [
        "<a href=\"https://colab.research.google.com/github/charlie9526/TaxiFare/blob/master/majority_voting_ensemble_model.ipynb\" target=\"_parent\"><img src=\"https://colab.research.google.com/assets/colab-badge.svg\" alt=\"Open In Colab\"/></a>"
      ]
    },
    {
      "cell_type": "markdown",
      "metadata": {
        "id": "IeICpzjspu-d",
        "colab_type": "text"
      },
      "source": [
        "# 1 . Mounting"
      ]
    },
    {
      "cell_type": "code",
      "metadata": {
        "id": "A4DW8L5GpzWO",
        "colab_type": "code",
        "colab": {
          "base_uri": "https://localhost:8080/",
          "height": 51
        },
        "outputId": "4f8ec0ac-9ce7-4ca3-b2cf-161a9f49c0e5"
      },
      "source": [
        "from google.colab import drive \n",
        "drive.mount('/content/drive')\n",
        "%cd /content/drive/My\\ Drive/Colab\\ Notebooks/FAIR_TAXI"
      ],
      "execution_count": null,
      "outputs": [
        {
          "output_type": "stream",
          "text": [
            "Drive already mounted at /content/drive; to attempt to forcibly remount, call drive.mount(\"/content/drive\", force_remount=True).\n",
            "/content/drive/My Drive/Colab Notebooks/FAIR_TAXI\n"
          ],
          "name": "stdout"
        }
      ]
    },
    {
      "cell_type": "markdown",
      "metadata": {
        "id": "GnEALk_utX5E",
        "colab_type": "text"
      },
      "source": [
        "# 2 . Imports"
      ]
    },
    {
      "cell_type": "code",
      "metadata": {
        "id": "1thsx8vutjY9",
        "colab_type": "code",
        "colab": {}
      },
      "source": [
        "import pandas as pd\n",
        "from datetime import datetime\n",
        "import random\n",
        "import matplotlib\n",
        "import matplotlib.pyplot as plt\n",
        "import seaborn as sns; sns.set(style=\"ticks\", color_codes=True)              \n",
        "import numpy as np                 \n",
        "from scipy.stats import norm   \n",
        "import warnings\n",
        "warnings.filterwarnings('ignore')   \n",
        "%matplotlib inline                  \n",
        "from math import sin, cos, sqrt, atan2, radians\n",
        "import math\n",
        "from sklearn.ensemble import RandomForestClassifier, VotingClassifier\n",
        "from sklearn.cluster import KMeans\n",
        "\n",
        "from sklearn import metrics\n",
        "from sklearn.metrics import roc_curve, roc_auc_score,fbeta_score,f1_score\n",
        "\n",
        "from sklearn.preprocessing import StandardScaler\n",
        "from sklearn.preprocessing import LabelEncoder,LabelBinarizer\n",
        "from sklearn.preprocessing import OneHotEncoder\n",
        "\n",
        "from sklearn.ensemble import GradientBoostingClassifier\n",
        "from sklearn.ensemble import RandomForestClassifier\n",
        "from sklearn.ensemble import AdaBoostClassifier\n",
        "\n",
        "from sklearn.model_selection import StratifiedKFold\n",
        "from sklearn.model_selection import train_test_split\n",
        "from sklearn.model_selection import cross_val_score\n",
        "\n",
        "from sklearn.svm import SVC,LinearSVC\n",
        "from sklearn.decomposition import PCA\n",
        "from sklearn.neural_network import MLPClassifier\n",
        "from sklearn.impute import SimpleImputer\n",
        "from sklearn.compose import ColumnTransformer\n",
        "from sklearn.linear_model import LogisticRegression\n",
        "from sklearn.multioutput import MultiOutputClassifier\n",
        "from sklearn.pipeline import Pipeline\n",
        "from sklearn.base import BaseEstimator, TransformerMixin\n",
        "from xgboost import XGBClassifier\n",
        "from sklearn.cluster import KMeans\n",
        "\n"
      ],
      "execution_count": null,
      "outputs": []
    },
    {
      "cell_type": "markdown",
      "metadata": {
        "id": "z-t_Sjw9qcgF",
        "colab_type": "text"
      },
      "source": [
        "# 3 . Read files"
      ]
    },
    {
      "cell_type": "code",
      "metadata": {
        "id": "90bdDvuDqgW4",
        "colab_type": "code",
        "colab": {}
      },
      "source": [
        "train_df = pd.read_csv('train.csv')\n",
        "test_df = pd.read_csv('test.csv')"
      ],
      "execution_count": null,
      "outputs": []
    },
    {
      "cell_type": "markdown",
      "metadata": {
        "id": "b8xqfB8wumPT",
        "colab_type": "text"
      },
      "source": [
        "# 4 . Functions"
      ]
    },
    {
      "cell_type": "code",
      "metadata": {
        "id": "wA1zB1-Suoj8",
        "colab_type": "code",
        "colab": {}
      },
      "source": [
        "\n",
        "# set distance column\n",
        "class set_distance(BaseEstimator, TransformerMixin):\n",
        "    def fit(self, X, y=None):\n",
        "      return self\n",
        "\n",
        "    def transform(self, X):\n",
        "      X['distance'] = X.apply(lambda x:get_distance(x), axis=1)\n",
        "      # print(X)\n",
        "      # X = X.drop(labels=['pick_lat','pick_lon','drop_lat','drop_lon'],axis=1)\n",
        "      return X\n",
        "# lambda column get distance\n",
        "def get_distance(x):\n",
        "  R = 6373.0\n",
        "  lat1 = radians(float(x['drop_lat']))\n",
        "  lon1 = radians(float(x['drop_lon']))\n",
        "  lat2 = radians(float(x['pick_lat']))\n",
        "  lon2 = radians(float(x['pick_lon']))\n",
        "\n",
        "  dlon = lon2 - lon1\n",
        "  dlat = lat2 - lat1\n",
        "\n",
        "  a = sin(dlat / 2)**2 + cos(lat1) * cos(lat2) * sin(dlon / 2)**2\n",
        "  c = 2 * atan2(sqrt(a), sqrt(1 - a))\n",
        "\n",
        "  distance = round( R * c,2)\n",
        "  return distance\n",
        "\n",
        "\n",
        "def encoding_label(label):\n",
        "  if(label=='correct'):\n",
        "    return 1\n",
        "  elif(label=='incorrect'):\n",
        "    return 0\n",
        "  else:\n",
        "    print (\"invalid label\")\n",
        "\n",
        "def get_hour_value(x,date_time_column_name):\n",
        "  if x[date_time_column_name]==None:\n",
        "    return None\n",
        "  h =  datetime.strptime(x[date_time_column_name],\"%m/%d/%Y %H:%M\").hour\n",
        "  return h\n",
        "\n",
        "def get_minute_value(x,date_time_column_name):\n",
        "  if x[date_time_column_name]==None:\n",
        "    return None\n",
        "  h =  datetime.strptime(x[date_time_column_name],\"%m/%d/%Y %H:%M\").minute\n",
        "  return h\n",
        "\n",
        "\n",
        "def get_fare_per_hr(x):\n",
        "  if  x[\"duration\"]>0:\n",
        "    hours = x[\"duration\"]\n",
        "    val = float(x['fare'])/hours\n",
        "    return val\n",
        "  if x[\"duration\"]==0:\n",
        "    return 0\n",
        "  return None\n",
        "\n",
        "\n",
        "def get_addfare_per_hr(x):\n",
        "  if  x[\"distance\"]>0:\n",
        "    val = float(x['additional_fare'])/x[\"distance\"]\n",
        "    return val\n",
        "  if x[\"distance\"]==0:\n",
        "    return 0\n",
        "  return None\n",
        "\n",
        "\n",
        "def get_dis_per_fare(x):\n",
        "  if x['fare']==0:\n",
        "    return 0\n",
        "  if x['fare']>0:\n",
        "    return float(x['distance'])/x['fare']\n",
        "  else:\n",
        "    return 0\n",
        "\n",
        "\n",
        "def get_waiting_rate(x):\n",
        "  if math.isnan(x['meter_waiting']):\n",
        "    return None\n",
        "  if x['meter_waiting']==0:\n",
        "    return 0\n",
        "  if  x['meter_waiting_fare']>=0:\n",
        "    return float(x['meter_waiting_fare'])/x['meter_waiting']\n",
        "  else:\n",
        "    return 0\n",
        "\n",
        "\n",
        "def get_velocity(x):\n",
        "  if math.isnan(x['duration']) or math.isnan(x['distance']) or math.isnan(x['meter_waiting']):\n",
        "    return None\n",
        "  if (x['duration']-x['meter_waiting'])==0:\n",
        "    return 0\n",
        "  return (float(x['distance']))/(x['duration']-x['meter_waiting'])\n",
        "\n",
        "\n",
        "def get_mw_ratio(x):\n",
        "  if (x['duration'])==0:\n",
        "    return 0\n",
        "  return float(x['meter_waiting'])/(x['duration'])\n",
        "\n",
        "\n",
        "def get_mwfare_ratio(x):\n",
        "  if (x['fare'])==0:\n",
        "    return 0\n",
        "  return float(x['meter_waiting_fare'])/(x['fare'])\n",
        "\n",
        "\n",
        "\n",
        "def invget_fare_per_hr(x):\n",
        "  if  x[\"fare\"]>0:\n",
        "    fare = x[\"duration\"]\n",
        "    val = float(x['fare'])/fare\n",
        "    return val\n",
        "  if x[\"fare\"]==0:\n",
        "    return 0\n",
        "  return None\n",
        "\n",
        "  ################### Here we have to add fare_per_hour column\n",
        "################### write a lambda function\n",
        "\n",
        "def get_fare_per_min(x):\n",
        "  minutes = (x[\"duration\"]-x['meter_waiting'])/60.0\n",
        "  if x[\"fare\"]>=0 and minutes>0:\n",
        "    minutes = (x[\"duration\"]-x['meter_waiting'])/60.0\n",
        "    val = (x['fare']-x['meter_waiting_fare']-x['additional_fare'])/minutes\n",
        "    return val\n",
        "  if x[\"duration\"]==0:\n",
        "    return 0\n",
        "  return None\n",
        "\n",
        "########### This is for getting fare per distance \n",
        "########### Lambda function\n",
        "def get_fare_per_distance(x):\n",
        "  if x['distance']==0:\n",
        "    return 0\n",
        "  if x['meter_waiting_fare']>0:\n",
        "    return float(x['fare']-x['meter_waiting_fare']-x['additional_fare'])/x['distance']\n",
        "  else:\n",
        "    return float(x['fare'])/x['distance']\n"
      ],
      "execution_count": null,
      "outputs": []
    },
    {
      "cell_type": "markdown",
      "metadata": {
        "id": "0rFeSzsIurIe",
        "colab_type": "text"
      },
      "source": [
        "# 5 . PreProcess"
      ]
    },
    {
      "cell_type": "markdown",
      "metadata": {
        "id": "PM7bSM3O1zUB",
        "colab_type": "text"
      },
      "source": [
        "### Some pre steps\n"
      ]
    },
    {
      "cell_type": "code",
      "metadata": {
        "id": "iVjOLsJF2DHN",
        "colab_type": "code",
        "colab": {}
      },
      "source": [
        "# train_df = train_df.drop_duplicates()\n",
        "# train_df = train_df.dropna()\n",
        "################# ugly indexes\n",
        "# bads = [203757140,213112837,193653017,209365576,190167541]\n",
        "# train_df = train_df[~(train_df['tripid'].isin(bads))]"
      ],
      "execution_count": null,
      "outputs": []
    },
    {
      "cell_type": "markdown",
      "metadata": {
        "id": "UAqh2gAWvc5r",
        "colab_type": "text"
      },
      "source": [
        "### Create feature_df and label"
      ]
    },
    {
      "cell_type": "code",
      "metadata": {
        "id": "0lSF4VMUvjvg",
        "colab_type": "code",
        "colab": {}
      },
      "source": [
        "trip_id  = test_df['tripid']\n",
        "\n",
        "features_df = train_df.loc[:, train_df.columns != 'label']\n",
        "label_df = train_df['label'].apply(encoding_label).values\n",
        "\n",
        "features_df = features_df.loc[:, features_df.columns != 'tripid']\n",
        "test_df = test_df.loc[:, test_df.columns != 'tripid']"
      ],
      "execution_count": null,
      "outputs": []
    },
    {
      "cell_type": "markdown",
      "metadata": {
        "id": "e4AynMz04s9G",
        "colab_type": "text"
      },
      "source": [
        "### New columns"
      ]
    },
    {
      "cell_type": "code",
      "metadata": {
        "id": "TAp0w3aO4vBp",
        "colab_type": "code",
        "colab": {}
      },
      "source": [
        "features_df['pickup_hour'] = features_df.apply(lambda x : get_hour_value(x,'pickup_time'),axis=1)\n",
        "test_df['pickup_hour'] = test_df.apply(lambda x : get_hour_value(x,'pickup_time'),axis=1)\n",
        "\n",
        "features_df['pickup_minute'] = features_df.apply(lambda x : get_minute_value(x,'pickup_time'),axis=1)\n",
        "test_df['pickup_minute'] = test_df.apply(lambda x : get_minute_value(x,'pickup_time'),axis=1)\n",
        "\n",
        "features_df['drop_hour'] = features_df.apply(lambda x : get_hour_value(x,'drop_time'),axis=1)\n",
        "test_df['drop_hour'] = test_df.apply(lambda x : get_hour_value(x,'drop_time'),axis=1)\n",
        "\n",
        "features_df['drop_minute'] = features_df.apply(lambda x : get_minute_value(x,'drop_time'),axis=1)\n",
        "test_df['drop_minute'] = test_df.apply(lambda x : get_minute_value(x,'drop_time'),axis=1)\n",
        "\n",
        "features_df['distance'] = features_df.apply(lambda x:get_distance(x), axis=1)\n",
        "test_df['distance'] = test_df.apply(lambda x:get_distance(x), axis=1)\n",
        "\n",
        "features_df['fare_per_distance'] = features_df.apply(lambda x:get_fare_per_distance(x),axis=1 )\n",
        "test_df['fare_per_distance'] = test_df.apply(lambda x:get_fare_per_distance(x),axis=1 )\n",
        "\n",
        "features_df['fare_per_min'] = features_df.apply(lambda x:get_fare_per_min(x),axis=1 )\n",
        "test_df['fare_per_min'] = test_df.apply(lambda x:get_fare_per_min(x),axis=1 )\n",
        "\n",
        "\n"
      ],
      "execution_count": null,
      "outputs": []
    },
    {
      "cell_type": "markdown",
      "metadata": {
        "id": "xlOcjva97_Mr",
        "colab_type": "text"
      },
      "source": [
        "### Drop Columns"
      ]
    },
    {
      "cell_type": "code",
      "metadata": {
        "id": "eROkD_Jd8Bmm",
        "colab_type": "code",
        "colab": {}
      },
      "source": [
        "feature_list = [\n",
        "                'pickup_hour',\n",
        "                'fare_per_distance',\n",
        "                'fare_per_min',\n",
        "                'meter_waiting',\n",
        "                'meter_waiting_fare',\n",
        "                'additional_fare',\n",
        "                'duration',\n",
        "                'distance',\n",
        "                'fare'\n",
        "                ]\n",
        "\n",
        "features_df = features_df[feature_list]\n",
        "test_df = test_df[feature_list]\n"
      ],
      "execution_count": null,
      "outputs": []
    },
    {
      "cell_type": "markdown",
      "metadata": {
        "id": "ODB5dqL_cP37",
        "colab_type": "text"
      },
      "source": [
        "## transformers\n"
      ]
    },
    {
      "cell_type": "code",
      "metadata": {
        "id": "DkR1-kA_cVgM",
        "colab_type": "code",
        "colab": {}
      },
      "source": [
        "numeric_cols = features_df.columns[features_df.dtypes != \"object\"].values\n",
        "numeric_preprocessing_steps = Pipeline([\n",
        "    ('standard_scaler', StandardScaler()),\n",
        "    ('simple_imputer', SimpleImputer(strategy='mean'))\n",
        "])\n",
        "\n",
        "\n",
        "preprocessor = ColumnTransformer(\n",
        "    transformers = [\n",
        "        (\"numeric\", numeric_preprocessing_steps, numeric_cols),  \n",
        "    ],\n",
        "    remainder = \"drop\"\n",
        ")\n"
      ],
      "execution_count": null,
      "outputs": []
    },
    {
      "cell_type": "markdown",
      "metadata": {
        "id": "vqpO5IDiwxgX",
        "colab_type": "text"
      },
      "source": [
        "# 7 . Cross validation and result"
      ]
    },
    {
      "cell_type": "code",
      "metadata": {
        "id": "eIHghLrRw1yo",
        "colab_type": "code",
        "colab": {
          "base_uri": "https://localhost:8080/",
          "height": 119
        },
        "outputId": "7b2cbfb3-c190-4c23-b920-1aa1d9564aa9"
      },
      "source": [
        "pca = PCA()\n",
        "\n",
        "xgb = XGBClassifier(\n",
        "    learning_rate=0.21,\n",
        ")\n",
        "rf = RandomForestClassifier(\n",
        "    random_state=1\n",
        ")\n",
        "lr = LogisticRegression( \n",
        "    random_state=1\n",
        ")\n",
        "\n",
        "vc = VotingClassifier(estimators=[\n",
        "                             ('lr', lr), \n",
        "                             ('rf', rf), \n",
        "                             ('xgb', xgb)], \n",
        "                 voting='hard'\n",
        ")\n",
        "\n",
        "full_pipeline = Pipeline([\n",
        "                          (\"preprocessor\", preprocessor),\n",
        "                          (\"pca\",pca),\n",
        "                          (\"esti\", vc)\n",
        "                          ])\n",
        "\n",
        "kfold = StratifiedKFold(n_splits=10, random_state=42, shuffle=True)\n",
        "cv_results = cross_val_score(full_pipeline, features_df, label_df, cv=kfold, scoring='f1')\n",
        "print('%s: %f (%f) ' % (\"F1\", cv_results.mean()*100, cv_results.std()))\n",
        "cv_results = cross_val_score(full_pipeline, features_df, label_df, cv=kfold, scoring='precision')\n",
        "print('%s: %f (%f)' % (\"precision\", cv_results.mean()*100, cv_results.std()))\n",
        "cv_results = cross_val_score(full_pipeline, features_df, label_df, cv=kfold, scoring='recall')\n",
        "print('%s: %f (%f)  ' % (\"recall\", cv_results.mean()*100, cv_results.std()))\n",
        "cv_results = cross_val_score(full_pipeline, features_df, label_df, cv=kfold, scoring='accuracy')\n",
        "print('%s: %f (%f) ' % (\"accuracy\", cv_results.mean()*100, cv_results.std()))\n",
        "print(\"\\n\")\n"
      ],
      "execution_count": null,
      "outputs": [
        {
          "output_type": "stream",
          "text": [
            "F1: 97.143253 (0.002765) \n",
            "precision: 95.379596 (0.003196)\n",
            "recall: 98.973865 (0.003114)  \n",
            "accuracy: 94.748529 (0.005083) \n",
            "\n",
            "\n"
          ],
          "name": "stdout"
        }
      ]
    },
    {
      "cell_type": "code",
      "metadata": {
        "id": "n1Vtx_8rz-tj",
        "colab_type": "code",
        "colab": {}
      },
      "source": [
        "# F1: 97.619646 (0.003619) for rs = 0.000000 \n",
        "# precision: 96.418998 (0.004029) for rs = 0.000000 \n",
        "# recall: 98.851296 (0.004098) for rs = 0.000000 \n",
        "# accuracy: 95.651002 (0.006617) for rs = 0.000000 \n",
        "\n",
        "# F1: 97.644779 (0.003251) for rs = 0.000000 \n",
        "# precision: 96.468063 (0.004293) for rs = 0.000000 \n",
        "# recall: 98.851280 (0.003037) for rs = 0.000000 \n",
        "# accuracy: 95.697551 (0.005975) for rs = 0.000000 \n"
      ],
      "execution_count": null,
      "outputs": []
    },
    {
      "cell_type": "markdown",
      "metadata": {
        "id": "NXgiN_wHw5Ji",
        "colab_type": "text"
      },
      "source": [
        "# 8 . Train model"
      ]
    },
    {
      "cell_type": "code",
      "metadata": {
        "id": "AxLkfNs5w8JW",
        "colab_type": "code",
        "colab": {
          "base_uri": "https://localhost:8080/",
          "height": 665
        },
        "outputId": "b5ab0c3c-01d7-415f-b060-797d1bf4f267"
      },
      "source": [
        "full_pipeline.fit(features_df,label_df)\n",
        "# pd.DataFrame({'feature':feature_list,'importance':full_pipeline.feature_importances_}).sort_values(by=['importance'])"
      ],
      "execution_count": null,
      "outputs": [
        {
          "output_type": "execute_result",
          "data": {
            "text/plain": [
              "Pipeline(memory=None,\n",
              "         steps=[('preprocessor',\n",
              "                 ColumnTransformer(n_jobs=None, remainder='drop',\n",
              "                                   sparse_threshold=0.3,\n",
              "                                   transformer_weights=None,\n",
              "                                   transformers=[('numeric',\n",
              "                                                  Pipeline(memory=None,\n",
              "                                                           steps=[('standard_scaler',\n",
              "                                                                   StandardScaler(copy=True,\n",
              "                                                                                  with_mean=True,\n",
              "                                                                                  with_std=True)),\n",
              "                                                                  ('simple_imputer',\n",
              "                                                                   SimpleImputer(add_indicator=False,\n",
              "                                                                                 copy=True,\n",
              "                                                                                 fill_value=None,\n",
              "                                                                                 missing...\n",
              "                                                             colsample_bytree=1,\n",
              "                                                             gamma=0,\n",
              "                                                             learning_rate=0.21,\n",
              "                                                             max_delta_step=0,\n",
              "                                                             max_depth=3,\n",
              "                                                             min_child_weight=1,\n",
              "                                                             missing=None,\n",
              "                                                             n_estimators=100,\n",
              "                                                             n_jobs=1,\n",
              "                                                             nthread=None,\n",
              "                                                             objective='binary:logistic',\n",
              "                                                             random_state=0,\n",
              "                                                             reg_alpha=0,\n",
              "                                                             reg_lambda=1,\n",
              "                                                             scale_pos_weight=1,\n",
              "                                                             seed=None,\n",
              "                                                             silent=None,\n",
              "                                                             subsample=1,\n",
              "                                                             verbosity=1))],\n",
              "                                  flatten_transform=True, n_jobs=None,\n",
              "                                  voting='hard', weights=None))],\n",
              "         verbose=False)"
            ]
          },
          "metadata": {
            "tags": []
          },
          "execution_count": 62
        }
      ]
    },
    {
      "cell_type": "markdown",
      "metadata": {
        "id": "7qoVtyz6xA3z",
        "colab_type": "text"
      },
      "source": [
        "# 9 . Predict and save result"
      ]
    },
    {
      "cell_type": "code",
      "metadata": {
        "id": "CHKUARebxEbl",
        "colab_type": "code",
        "colab": {}
      },
      "source": [
        "predicted = full_pipeline.predict(test_df)\n",
        "\n",
        "data_dict = { 'tripid':trip_id, 'prediction':predicted}\n",
        "pd_test_result = pd.DataFrame(data=data_dict,columns=['tripid','prediction'])\n",
        "pd_test_result = pd_test_result.set_index('tripid') \n",
        "pd_test_result.to_csv(\"final_ensemble.csv\", index=True)"
      ],
      "execution_count": null,
      "outputs": []
    },
    {
      "cell_type": "code",
      "metadata": {
        "id": "tCBuXEHjP6RU",
        "colab_type": "code",
        "colab": {
          "base_uri": "https://localhost:8080/"
        },
        "outputId": "ba555cd0-1a6f-4c86-f1d0-46316a2bcc51"
      },
      "source": [
        "pd_test_result['prediction'].value_counts()"
      ],
      "execution_count": null,
      "outputs": [
        {
          "output_type": "execute_result",
          "data": {
            "text/plain": [
              "1    8212\n",
              "0     364\n",
              "Name: prediction, dtype: int64"
            ]
          },
          "metadata": {
            "tags": []
          },
          "execution_count": 64
        }
      ]
    }
  ]
}