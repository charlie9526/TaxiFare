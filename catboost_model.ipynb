{
  "nbformat": 4,
  "nbformat_minor": 0,
  "metadata": {
    "colab": {
      "name": "catboost_model.ipynb",
      "provenance": [],
      "collapsed_sections": [
        "IeICpzjspu-d",
        "z-t_Sjw9qcgF",
        "b8xqfB8wumPT"
      ],
      "toc_visible": true,
      "authorship_tag": "ABX9TyNpaGENTkQG9l2lNwp/Bqdc",
      "include_colab_link": true
    },
    "kernelspec": {
      "name": "python3",
      "display_name": "Python 3"
    }
  },
  "cells": [
    {
      "cell_type": "markdown",
      "metadata": {
        "id": "view-in-github",
        "colab_type": "text"
      },
      "source": [
        "<a href=\"https://colab.research.google.com/github/charlie9526/TaxiFare/blob/master/catboost_model.ipynb\" target=\"_parent\"><img src=\"https://colab.research.google.com/assets/colab-badge.svg\" alt=\"Open In Colab\"/></a>"
      ]
    },
    {
      "cell_type": "markdown",
      "metadata": {
        "id": "IeICpzjspu-d",
        "colab_type": "text"
      },
      "source": [
        "# 1 . Mounting"
      ]
    },
    {
      "cell_type": "code",
      "metadata": {
        "id": "A4DW8L5GpzWO",
        "colab_type": "code",
        "colab": {
          "base_uri": "https://localhost:8080/",
          "height": 139
        },
        "outputId": "2597c8d8-1d90-46ab-ed02-f5fe3def4a0c"
      },
      "source": [
        "from google.colab import drive \n",
        "drive.mount('/content/drive')\n",
        "%cd /content/drive/My\\ Drive/Colab\\ Notebooks/FAIR_TAXI"
      ],
      "execution_count": null,
      "outputs": [
        {
          "output_type": "stream",
          "text": [
            "Go to this URL in a browser: https://accounts.google.com/o/oauth2/auth?client_id=947318989803-6bn6qk8qdgf4n4g3pfee6491hc0brc4i.apps.googleusercontent.com&redirect_uri=urn%3aietf%3awg%3aoauth%3a2.0%3aoob&response_type=code&scope=email%20https%3a%2f%2fwww.googleapis.com%2fauth%2fdocs.test%20https%3a%2f%2fwww.googleapis.com%2fauth%2fdrive%20https%3a%2f%2fwww.googleapis.com%2fauth%2fdrive.photos.readonly%20https%3a%2f%2fwww.googleapis.com%2fauth%2fpeopleapi.readonly\n",
            "\n",
            "Enter your authorization code:\n",
            "··········\n",
            "Mounted at /content/drive\n",
            "/content/drive/My Drive/Colab Notebooks/FAIR_TAXI\n"
          ],
          "name": "stdout"
        }
      ]
    },
    {
      "cell_type": "markdown",
      "metadata": {
        "id": "GnEALk_utX5E",
        "colab_type": "text"
      },
      "source": [
        "# 2 . Imports"
      ]
    },
    {
      "cell_type": "code",
      "metadata": {
        "id": "1thsx8vutjY9",
        "colab_type": "code",
        "colab": {
          "base_uri": "https://localhost:8080/"
        },
        "outputId": "4683ba91-4d39-480a-c7a2-b1dcd5a5ce97"
      },
      "source": [
        "import pandas as pd\n",
        "from datetime import datetime\n",
        "import random\n",
        "import matplotlib\n",
        "import matplotlib.pyplot as plt\n",
        "import seaborn as sns; sns.set(style=\"ticks\", color_codes=True)              \n",
        "import numpy as np                 \n",
        "from scipy.stats import norm   \n",
        "import warnings\n",
        "warnings.filterwarnings('ignore')   \n",
        "%matplotlib inline                  \n",
        "from math import sin, cos, sqrt, atan2, radians\n",
        "import math\n",
        "\n",
        "from sklearn.cluster import KMeans\n",
        "\n",
        "from sklearn import metrics\n",
        "from sklearn.metrics import f1_score\n",
        "from sklearn.metrics import roc_curve, roc_auc_score\n",
        "\n",
        "from sklearn.preprocessing import StandardScaler\n",
        "from sklearn.preprocessing import LabelEncoder,LabelBinarizer\n",
        "from sklearn.preprocessing import OneHotEncoder\n",
        "\n",
        "from sklearn.ensemble import GradientBoostingClassifier\n",
        "from sklearn.ensemble import RandomForestClassifier\n",
        "from sklearn.ensemble import AdaBoostClassifier\n",
        "\n",
        "from sklearn.model_selection import StratifiedKFold\n",
        "from sklearn.model_selection import train_test_split\n",
        "from sklearn.model_selection import cross_val_score\n",
        "\n",
        "from sklearn.svm import SVC,LinearSVC\n",
        "from sklearn.decomposition import PCA\n",
        "from sklearn.neural_network import MLPClassifier\n",
        "from sklearn.impute import SimpleImputer\n",
        "from sklearn.compose import ColumnTransformer\n",
        "from sklearn.linear_model import LogisticRegression\n",
        "from sklearn.multioutput import MultiOutputClassifier\n",
        "from sklearn.pipeline import Pipeline\n",
        "from sklearn.base import BaseEstimator, TransformerMixin\n",
        "from xgboost import XGBClassifier\n",
        "\n",
        "!pip install catboost\n",
        "from catboost import CatBoostClassifier,Pool\n",
        "import statistics\n"
      ],
      "execution_count": null,
      "outputs": [
        {
          "output_type": "stream",
          "text": [
            "/usr/local/lib/python3.6/dist-packages/statsmodels/tools/_testing.py:19: FutureWarning: pandas.util.testing is deprecated. Use the functions in the public API at pandas.testing instead.\n",
            "  import pandas.util.testing as tm\n"
          ],
          "name": "stderr"
        },
        {
          "output_type": "stream",
          "text": [
            "Collecting catboost\n",
            "\u001b[?25l  Downloading https://files.pythonhosted.org/packages/b2/aa/e61819d04ef2bbee778bf4b3a748db1f3ad23512377e43ecfdc3211437a0/catboost-0.23.2-cp36-none-manylinux1_x86_64.whl (64.8MB)\n",
            "\u001b[K     |████████████████████████████████| 64.8MB 101kB/s \n",
            "\u001b[?25hRequirement already satisfied: six in /usr/local/lib/python3.6/dist-packages (from catboost) (1.12.0)\n",
            "Requirement already satisfied: matplotlib in /usr/local/lib/python3.6/dist-packages (from catboost) (3.2.1)\n",
            "Requirement already satisfied: pandas>=0.24.0 in /usr/local/lib/python3.6/dist-packages (from catboost) (1.0.4)\n",
            "Requirement already satisfied: scipy in /usr/local/lib/python3.6/dist-packages (from catboost) (1.4.1)\n",
            "Requirement already satisfied: numpy>=1.16.0 in /usr/local/lib/python3.6/dist-packages (from catboost) (1.18.5)\n",
            "Requirement already satisfied: graphviz in /usr/local/lib/python3.6/dist-packages (from catboost) (0.10.1)\n",
            "Requirement already satisfied: plotly in /usr/local/lib/python3.6/dist-packages (from catboost) (4.4.1)\n",
            "Requirement already satisfied: python-dateutil>=2.1 in /usr/local/lib/python3.6/dist-packages (from matplotlib->catboost) (2.8.1)\n",
            "Requirement already satisfied: pyparsing!=2.0.4,!=2.1.2,!=2.1.6,>=2.0.1 in /usr/local/lib/python3.6/dist-packages (from matplotlib->catboost) (2.4.7)\n",
            "Requirement already satisfied: kiwisolver>=1.0.1 in /usr/local/lib/python3.6/dist-packages (from matplotlib->catboost) (1.2.0)\n",
            "Requirement already satisfied: cycler>=0.10 in /usr/local/lib/python3.6/dist-packages (from matplotlib->catboost) (0.10.0)\n",
            "Requirement already satisfied: pytz>=2017.2 in /usr/local/lib/python3.6/dist-packages (from pandas>=0.24.0->catboost) (2018.9)\n",
            "Requirement already satisfied: retrying>=1.3.3 in /usr/local/lib/python3.6/dist-packages (from plotly->catboost) (1.3.3)\n",
            "Installing collected packages: catboost\n",
            "Successfully installed catboost-0.23.2\n"
          ],
          "name": "stdout"
        }
      ]
    },
    {
      "cell_type": "markdown",
      "metadata": {
        "id": "z-t_Sjw9qcgF",
        "colab_type": "text"
      },
      "source": [
        "# 3 . Read files"
      ]
    },
    {
      "cell_type": "code",
      "metadata": {
        "id": "90bdDvuDqgW4",
        "colab_type": "code",
        "colab": {}
      },
      "source": [
        "train_df = pd.read_csv('train.csv')\n",
        "test_df = pd.read_csv('test.csv')"
      ],
      "execution_count": null,
      "outputs": []
    },
    {
      "cell_type": "markdown",
      "metadata": {
        "id": "b8xqfB8wumPT",
        "colab_type": "text"
      },
      "source": [
        "# 4 . Functions"
      ]
    },
    {
      "cell_type": "code",
      "metadata": {
        "id": "wA1zB1-Suoj8",
        "colab_type": "code",
        "colab": {}
      },
      "source": [
        "#elts write a lambda function\n",
        "def get_duration(x):\n",
        "  if x['pickup_time']==None or x['drop_time']==None:\n",
        "    return None\n",
        "  \n",
        "  try :\n",
        "    if int(x['pickup_time'].split(\"/\")[1])>12 or int(x['drop_time'].split(\"/\")[1])>12:\n",
        "      gap = datetime.strptime(x['pickup_time'],\"%m/%d/%Y %H:%M\")-datetime.strptime(x['drop_time'],\"%m/%d/%Y %H:%M\")\n",
        "    else:\n",
        "      if int(x['pickup_time'].split(\"/\")[1]) != int(x['drop_time'].split(\"/\")[1]):\n",
        "        gap = datetime.strptime(x['pickup_time'],\"%m/%d/%Y %H:%M\")-datetime.strptime(x['drop_time'],\"%m/%d/%Y %H:%M\")\n",
        "      else:\n",
        "        gap = datetime.strptime(x['pickup_time'],\"%d/%m/%Y %H:%M\")-datetime.strptime(x['drop_time'],\"%d/%m/%Y %H:%M\")\n",
        "    # print (gap.total_seconds()/3600,x['pickup_time'] ,x['drop_time'])\n",
        "  except :\n",
        "    # print(int(x['pickup_time'].split(\"/\")[0])>12 or int(x['drop_time'].split(\"/\")[0])>12)\n",
        "    return None\n",
        "  # print(abs(gap.total_seconds()/3600), x['drop_time'],x['pickup_time'])\n",
        "  disti =  abs(gap.total_seconds())\n",
        "  return disti\n",
        "\n",
        "\n",
        "# debugerr \n",
        "class debugerr(BaseEstimator, TransformerMixin):\n",
        "    def fit(self, X, y):\n",
        "        print (pd.DataFrame(X));\n",
        "        return self\n",
        "    def transform(self,X):\n",
        "        return X\n",
        "\n",
        "# lambda function for change label\n",
        "def get_binary(x):\n",
        "  if x==None:\n",
        "    return 0\n",
        "  if x == \"correct\":\n",
        "    # print (x);\n",
        "    return 1\n",
        "  else:\n",
        "    return 0\n",
        "\n",
        "# set distance column\n",
        "class set_distance(BaseEstimator, TransformerMixin):\n",
        "    def fit(self, X, y=None):\n",
        "      return self\n",
        "\n",
        "    def transform(self, X):\n",
        "      X['distance'] = X.apply(lambda x:get_distance(x), axis=1)\n",
        "      # print(X)\n",
        "      # X = X.drop(labels=['pick_lat','pick_lon','drop_lat','drop_lon'],axis=1)\n",
        "      return X\n",
        "# lambda column get distance\n",
        "def get_distance(x):\n",
        "  R = 6373.0\n",
        "  lat1 = radians(float(x['drop_lat']))\n",
        "  lon1 = radians(float(x['drop_lon']))\n",
        "  lat2 = radians(float(x['pick_lat']))\n",
        "  lon2 = radians(float(x['pick_lon']))\n",
        "\n",
        "  dlon = lon2 - lon1\n",
        "  dlat = lat2 - lat1\n",
        "\n",
        "  a = sin(dlat / 2)**2 + cos(lat1) * cos(lat2) * sin(dlon / 2)**2\n",
        "  c = 2 * atan2(sqrt(a), sqrt(1 - a))\n",
        "\n",
        "  distance = R * c\n",
        "  return distance\n",
        "\n",
        "# remove columns\n",
        "class remove_colums_unwanted(BaseEstimator, TransformerMixin):\n",
        "    def fit(self, X, y=None):\n",
        "      return self\n",
        "\n",
        "    def transform(self, X):\n",
        "      X = X.drop(labels=['pick_lat','pick_lon','drop_lat','drop_lon'],axis=1)\n",
        "      return X\n",
        "\n",
        "\n",
        "def encoding_label(label):\n",
        "  if(label=='correct'):\n",
        "    return 1\n",
        "  else:\n",
        "    return 0\n",
        "\n",
        "def get_hour_value(x,date_time_column_name):\n",
        "  if x[date_time_column_name]==None:\n",
        "    return None\n",
        "  h =  datetime.strptime(x[date_time_column_name],\"%m/%d/%Y %H:%M\").hour\n",
        "  return h\n",
        "\n",
        "def get_minute_value(x,date_time_column_name):\n",
        "  if x[date_time_column_name]==None:\n",
        "    return None\n",
        "  h =  datetime.strptime(x[date_time_column_name],\"%m/%d/%Y %H:%M\").minute\n",
        "  return h\n",
        "\n",
        "################### Here we have to add fare_per_hour column\n",
        "################### write a lambda function\n",
        "\n",
        "def get_fare_per_hr(x):\n",
        "  if  x[\"duration\"]>0:\n",
        "    hours = x[\"duration\"]\n",
        "    val = float(x['fare'])/hours\n",
        "    return val\n",
        "  if x[\"duration\"]==0:\n",
        "    return 0\n",
        "  return None\n",
        "\n",
        "################### Here we have to add additional_fare_per_hour column\n",
        "################### write a lambda function\n",
        "\n",
        "def get_addfare_per_hr(x):\n",
        "  if  x[\"distance\"]>0:\n",
        "    val = float(x['additional_fare'])/x[\"distance\"]\n",
        "    return val\n",
        "  if x[\"distance\"]==0:\n",
        "    return 0\n",
        "  return None\n",
        "\n",
        "########### This is for getting fare per distance \n",
        "########### Lambda function\n",
        "def get_dis_per_fare(x):\n",
        "  if x['fare']==0:\n",
        "    return 0\n",
        "  if x['fare']>0:\n",
        "    return float(x['distance'])/x['fare']\n",
        "  else:\n",
        "    return 0\n",
        "\n",
        "################fare rate of waiting\n",
        "def get_waiting_rate(x):\n",
        "  if math.isnan(x['meter_waiting']):\n",
        "    return 0\n",
        "  if x['meter_waiting']==0:\n",
        "    return 0\n",
        "  if  x['meter_waiting_fare']>=0:\n",
        "    return float(x['meter_waiting_fare'])/x['meter_waiting']\n",
        "  else:\n",
        "    return 0\n",
        "\n",
        "#################distance per min\n",
        "def get_velocity(x):\n",
        "  if math.isnan(x['duration']) or math.isnan(x['distance']) or math.isnan(x['meter_waiting']):\n",
        "    return 0\n",
        "  if (x['duration']-x['meter_waiting'])==0:\n",
        "    return 0\n",
        "  return (float(x['distance']))/(x['duration']-x['meter_waiting'])\n",
        "\n",
        "\n",
        "##################ratio of meter waiting from total duration\n",
        "def get_mw_ratio(x):\n",
        "  if (x['duration'])==0:\n",
        "    return 0\n",
        "  return float(x['meter_waiting'])/(x['duration'])\n",
        "\n",
        "##################ratio of meter waiting fare from total fare\n",
        "def get_mwfare_ratio(x):\n",
        "  if (x['fare'])==0:\n",
        "    return 0\n",
        "  return float(x['meter_waiting_fare'])/(x['fare'])\n",
        "\n",
        "################### Here we have to add fare_per_hour column\n",
        "################### write a lambda function\n",
        "\n",
        "def get_hour_per_fare(x):\n",
        "  if  x[\"fare\"]>0:\n",
        "    fare = x[\"duration\"]\n",
        "    val = float(x['fare'])/fare\n",
        "    return val\n",
        "  if x[\"fare\"]==0:\n",
        "    return 0\n",
        "  return None\n"
      ],
      "execution_count": null,
      "outputs": []
    },
    {
      "cell_type": "markdown",
      "metadata": {
        "id": "0rFeSzsIurIe",
        "colab_type": "text"
      },
      "source": [
        "# 5 . PreProcess"
      ]
    },
    {
      "cell_type": "markdown",
      "metadata": {
        "id": "PM7bSM3O1zUB",
        "colab_type": "text"
      },
      "source": [
        "### Some pre steps\n"
      ]
    },
    {
      "cell_type": "code",
      "metadata": {
        "id": "iVjOLsJF2DHN",
        "colab_type": "code",
        "colab": {}
      },
      "source": [
        "train_df = train_df.drop_duplicates()\n",
        "\n",
        "# train_df = train_df.dropna()"
      ],
      "execution_count": null,
      "outputs": []
    },
    {
      "cell_type": "markdown",
      "metadata": {
        "id": "UAqh2gAWvc5r",
        "colab_type": "text"
      },
      "source": [
        "### Create feature_df and label"
      ]
    },
    {
      "cell_type": "code",
      "metadata": {
        "id": "0lSF4VMUvjvg",
        "colab_type": "code",
        "colab": {}
      },
      "source": [
        "trip_id  = test_df['tripid']\n",
        "\n",
        "features_df = train_df.loc[:, train_df.columns != 'label']\n",
        "label_df = train_df['label'].apply(encoding_label).values\n",
        "\n",
        "features_df = features_df.loc[:, features_df.columns != 'tripid']\n",
        "test_df = test_df.loc[:, test_df.columns != 'tripid']"
      ],
      "execution_count": null,
      "outputs": []
    },
    {
      "cell_type": "markdown",
      "metadata": {
        "id": "1OeUsk16527s",
        "colab_type": "text"
      },
      "source": [
        "### Fill nuls"
      ]
    },
    {
      "cell_type": "code",
      "metadata": {
        "id": "OQvDo4yR55A6",
        "colab_type": "code",
        "colab": {}
      },
      "source": [
        "\n",
        "\n",
        "################### ugly indexes\n",
        "bads = [203757140,213112837,193653017,209365576,190167541]\n",
        "train_df = train_df[~(train_df['tripid'].isin(bads))]\n",
        "\n",
        "# features_df['duration'] = features_df['duration']/float(3600)\n",
        "# test_df['duration'] = test_df['duration']/float(3600)\n",
        "\n",
        "# features_df['meter_waiting'] = features_df['meter_waiting']/float(3600)\n",
        "# test_df['meter_waiting'] = test_df['meter_waiting']/float(3600)\n",
        "\n",
        "# features_df['meter_waiting_till_pickup'] = features_df['meter_waiting_till_pickup']/float(3600)\n",
        "# test_df['meter_waiting_till_pickup'] = test_df['meter_waiting_till_pickup']/float(3600)\n"
      ],
      "execution_count": null,
      "outputs": []
    },
    {
      "cell_type": "markdown",
      "metadata": {
        "id": "e4AynMz04s9G",
        "colab_type": "text"
      },
      "source": [
        "### New columns"
      ]
    },
    {
      "cell_type": "code",
      "metadata": {
        "id": "TAp0w3aO4vBp",
        "colab_type": "code",
        "colab": {
          "base_uri": "https://localhost:8080/",
          "height": 596
        },
        "outputId": "b829c86d-5630-4bf1-87ae-46daa131c583"
      },
      "source": [
        "features_df['distance'] = features_df.apply(lambda x:get_distance(x), axis=1)\n",
        "test_df['distance'] = test_df.apply(lambda x:get_distance(x), axis=1)\n",
        "\n",
        "features_df['fare_per_time'] = features_df['fare']/features_df['duration']\n",
        "test_df['fare_per_time'] = test_df['fare']/test_df['duration']\n",
        "\n",
        "features_df['run_time_per_fare'] = (features_df['duration']-features_df['meter_waiting'])/features_df['fare']\n",
        "test_df['run_time_per_fare'] = (test_df['duration']-test_df['meter_waiting'])/test_df['fare']\n",
        "\n",
        "features_df['run_time_per_run_fare'] = (features_df['duration']-features_df['meter_waiting'])/(features_df['fare']-features_df['meter_waiting_fare'])\n",
        "test_df['run_time_per_run_fare'] = (test_df['duration']-test_df['meter_waiting'])/(test_df['fare']-test_df['meter_waiting_fare'])\n",
        "\n",
        "features_df['add_fare_per_time'] = (features_df['additional_fare'])/(features_df['duration'])\n",
        "test_df['add_fare_per_time'] = (test_df['additional_fare'])/(test_df['duration'])\n",
        "\n",
        "features_df['meter_waiting_duration'] = (features_df['meter_waiting'])/(features_df['distance'])\n",
        "test_df['meter_waiting_duration'] = (test_df['meter_waiting'])/(test_df['distance'])\n",
        "\n",
        "features_df['pickup_hour'] = features_df.apply(lambda x : get_hour_value(x,'pickup_time'),axis=1)\n",
        "test_df['pickup_hour'] = test_df.apply(lambda x : get_hour_value(x,'pickup_time'),axis=1)\n",
        "\n",
        "features_df['pickup_min'] = features_df.apply(lambda x : get_minute_value(x,'pickup_time'),axis=1)\n",
        "test_df['pickup_min'] = test_df.apply(lambda x : get_minute_value(x,'pickup_time'),axis=1)\n",
        "\n",
        "features_df['drop_hour'] = features_df.apply(lambda x : get_hour_value(x,'drop_time'),axis=1)\n",
        "test_df['drop_hour'] = test_df.apply(lambda x : get_hour_value(x,'drop_time'),axis=1)\n",
        "\n",
        "features_df['drop_minute'] = features_df.apply(lambda x : get_minute_value(x,'drop_time'),axis=1)\n",
        "test_df['drop_minute'] = test_df.apply(lambda x : get_minute_value(x,'drop_time'),axis=1)\n",
        "\n",
        "\n",
        "features_df\n"
      ],
      "execution_count": null,
      "outputs": [
        {
          "output_type": "execute_result",
          "data": {
            "text/html": [
              "<div>\n",
              "<style scoped>\n",
              "    .dataframe tbody tr th:only-of-type {\n",
              "        vertical-align: middle;\n",
              "    }\n",
              "\n",
              "    .dataframe tbody tr th {\n",
              "        vertical-align: top;\n",
              "    }\n",
              "\n",
              "    .dataframe thead th {\n",
              "        text-align: right;\n",
              "    }\n",
              "</style>\n",
              "<table border=\"1\" class=\"dataframe\">\n",
              "  <thead>\n",
              "    <tr style=\"text-align: right;\">\n",
              "      <th></th>\n",
              "      <th>additional_fare</th>\n",
              "      <th>duration</th>\n",
              "      <th>meter_waiting</th>\n",
              "      <th>meter_waiting_fare</th>\n",
              "      <th>meter_waiting_till_pickup</th>\n",
              "      <th>pickup_time</th>\n",
              "      <th>drop_time</th>\n",
              "      <th>pick_lat</th>\n",
              "      <th>pick_lon</th>\n",
              "      <th>drop_lat</th>\n",
              "      <th>drop_lon</th>\n",
              "      <th>fare</th>\n",
              "      <th>distance</th>\n",
              "      <th>fare_per_time</th>\n",
              "      <th>run_time_per_fare</th>\n",
              "      <th>run_time_per_run_fare</th>\n",
              "      <th>add_fare_per_time</th>\n",
              "      <th>meter_waiting_duration</th>\n",
              "      <th>pickup_hour</th>\n",
              "      <th>pickup_min</th>\n",
              "      <th>drop_hour</th>\n",
              "      <th>drop_minute</th>\n",
              "    </tr>\n",
              "  </thead>\n",
              "  <tbody>\n",
              "    <tr>\n",
              "      <th>0</th>\n",
              "      <td>10.5</td>\n",
              "      <td>834.0</td>\n",
              "      <td>56.0</td>\n",
              "      <td>0.0000</td>\n",
              "      <td>64.0</td>\n",
              "      <td>11/1/2019 0:20</td>\n",
              "      <td>11/1/2019 0:34</td>\n",
              "      <td>6.86252</td>\n",
              "      <td>79.8993</td>\n",
              "      <td>6.90330</td>\n",
              "      <td>79.8783</td>\n",
              "      <td>270.32</td>\n",
              "      <td>5.094369</td>\n",
              "      <td>0.324125</td>\n",
              "      <td>2.878070</td>\n",
              "      <td>2.878070</td>\n",
              "      <td>0.012590</td>\n",
              "      <td>10.992530</td>\n",
              "      <td>0</td>\n",
              "      <td>20</td>\n",
              "      <td>0</td>\n",
              "      <td>34</td>\n",
              "    </tr>\n",
              "    <tr>\n",
              "      <th>1</th>\n",
              "      <td>10.5</td>\n",
              "      <td>791.0</td>\n",
              "      <td>47.0</td>\n",
              "      <td>0.0000</td>\n",
              "      <td>134.0</td>\n",
              "      <td>11/1/2019 0:56</td>\n",
              "      <td>11/1/2019 1:09</td>\n",
              "      <td>6.88589</td>\n",
              "      <td>79.8984</td>\n",
              "      <td>6.91373</td>\n",
              "      <td>79.8923</td>\n",
              "      <td>197.85</td>\n",
              "      <td>3.169052</td>\n",
              "      <td>0.250126</td>\n",
              "      <td>3.760425</td>\n",
              "      <td>3.760425</td>\n",
              "      <td>0.013274</td>\n",
              "      <td>14.830933</td>\n",
              "      <td>0</td>\n",
              "      <td>56</td>\n",
              "      <td>1</td>\n",
              "      <td>9</td>\n",
              "    </tr>\n",
              "    <tr>\n",
              "      <th>2</th>\n",
              "      <td>10.5</td>\n",
              "      <td>1087.0</td>\n",
              "      <td>80.0</td>\n",
              "      <td>0.0000</td>\n",
              "      <td>61.0</td>\n",
              "      <td>11/1/2019 1:08</td>\n",
              "      <td>11/1/2019 1:26</td>\n",
              "      <td>6.90839</td>\n",
              "      <td>79.8651</td>\n",
              "      <td>6.93669</td>\n",
              "      <td>79.9146</td>\n",
              "      <td>301.64</td>\n",
              "      <td>6.307375</td>\n",
              "      <td>0.277498</td>\n",
              "      <td>3.338417</td>\n",
              "      <td>3.338417</td>\n",
              "      <td>0.009660</td>\n",
              "      <td>12.683566</td>\n",
              "      <td>1</td>\n",
              "      <td>8</td>\n",
              "      <td>1</td>\n",
              "      <td>26</td>\n",
              "    </tr>\n",
              "    <tr>\n",
              "      <th>3</th>\n",
              "      <td>10.5</td>\n",
              "      <td>598.0</td>\n",
              "      <td>271.0</td>\n",
              "      <td>15.6638</td>\n",
              "      <td>68.0</td>\n",
              "      <td>11/1/2019 2:27</td>\n",
              "      <td>11/1/2019 2:37</td>\n",
              "      <td>6.92570</td>\n",
              "      <td>79.8895</td>\n",
              "      <td>6.92748</td>\n",
              "      <td>79.8971</td>\n",
              "      <td>82.30</td>\n",
              "      <td>0.862217</td>\n",
              "      <td>0.137625</td>\n",
              "      <td>3.973269</td>\n",
              "      <td>4.907243</td>\n",
              "      <td>0.017559</td>\n",
              "      <td>314.306135</td>\n",
              "      <td>2</td>\n",
              "      <td>27</td>\n",
              "      <td>2</td>\n",
              "      <td>37</td>\n",
              "    </tr>\n",
              "    <tr>\n",
              "      <th>4</th>\n",
              "      <td>NaN</td>\n",
              "      <td>NaN</td>\n",
              "      <td>NaN</td>\n",
              "      <td>NaN</td>\n",
              "      <td>NaN</td>\n",
              "      <td>11/1/2019 3:34</td>\n",
              "      <td>11/1/2019 3:51</td>\n",
              "      <td>6.87441</td>\n",
              "      <td>79.8615</td>\n",
              "      <td>6.84478</td>\n",
              "      <td>79.9290</td>\n",
              "      <td>358.39</td>\n",
              "      <td>8.150340</td>\n",
              "      <td>NaN</td>\n",
              "      <td>NaN</td>\n",
              "      <td>NaN</td>\n",
              "      <td>NaN</td>\n",
              "      <td>NaN</td>\n",
              "      <td>3</td>\n",
              "      <td>34</td>\n",
              "      <td>3</td>\n",
              "      <td>51</td>\n",
              "    </tr>\n",
              "    <tr>\n",
              "      <th>...</th>\n",
              "      <td>...</td>\n",
              "      <td>...</td>\n",
              "      <td>...</td>\n",
              "      <td>...</td>\n",
              "      <td>...</td>\n",
              "      <td>...</td>\n",
              "      <td>...</td>\n",
              "      <td>...</td>\n",
              "      <td>...</td>\n",
              "      <td>...</td>\n",
              "      <td>...</td>\n",
              "      <td>...</td>\n",
              "      <td>...</td>\n",
              "      <td>...</td>\n",
              "      <td>...</td>\n",
              "      <td>...</td>\n",
              "      <td>...</td>\n",
              "      <td>...</td>\n",
              "      <td>...</td>\n",
              "      <td>...</td>\n",
              "      <td>...</td>\n",
              "      <td>...</td>\n",
              "    </tr>\n",
              "    <tr>\n",
              "      <th>17171</th>\n",
              "      <td>10.5</td>\n",
              "      <td>838.0</td>\n",
              "      <td>93.0</td>\n",
              "      <td>5.4219</td>\n",
              "      <td>451.0</td>\n",
              "      <td>1/31/2020 22:07</td>\n",
              "      <td>1/31/2020 22:21</td>\n",
              "      <td>7.29073</td>\n",
              "      <td>80.6367</td>\n",
              "      <td>7.28891</td>\n",
              "      <td>80.6557</td>\n",
              "      <td>198.26</td>\n",
              "      <td>2.106037</td>\n",
              "      <td>0.236587</td>\n",
              "      <td>3.757692</td>\n",
              "      <td>3.863344</td>\n",
              "      <td>0.012530</td>\n",
              "      <td>44.158778</td>\n",
              "      <td>22</td>\n",
              "      <td>7</td>\n",
              "      <td>22</td>\n",
              "      <td>21</td>\n",
              "    </tr>\n",
              "    <tr>\n",
              "      <th>17172</th>\n",
              "      <td>10.5</td>\n",
              "      <td>2151.0</td>\n",
              "      <td>428.0</td>\n",
              "      <td>0.0000</td>\n",
              "      <td>39.0</td>\n",
              "      <td>1/31/2020 23:07</td>\n",
              "      <td>1/31/2020 23:43</td>\n",
              "      <td>6.90569</td>\n",
              "      <td>79.8516</td>\n",
              "      <td>6.95089</td>\n",
              "      <td>79.9389</td>\n",
              "      <td>581.23</td>\n",
              "      <td>10.871789</td>\n",
              "      <td>0.270214</td>\n",
              "      <td>2.964403</td>\n",
              "      <td>2.964403</td>\n",
              "      <td>0.004881</td>\n",
              "      <td>39.367945</td>\n",
              "      <td>23</td>\n",
              "      <td>7</td>\n",
              "      <td>23</td>\n",
              "      <td>43</td>\n",
              "    </tr>\n",
              "    <tr>\n",
              "      <th>17173</th>\n",
              "      <td>10.5</td>\n",
              "      <td>263.0</td>\n",
              "      <td>9.0</td>\n",
              "      <td>0.0000</td>\n",
              "      <td>110.0</td>\n",
              "      <td>1/31/2020 23:21</td>\n",
              "      <td>1/31/2020 23:25</td>\n",
              "      <td>7.09210</td>\n",
              "      <td>79.9000</td>\n",
              "      <td>7.10135</td>\n",
              "      <td>79.9017</td>\n",
              "      <td>76.20</td>\n",
              "      <td>1.045847</td>\n",
              "      <td>0.289734</td>\n",
              "      <td>3.333333</td>\n",
              "      <td>3.333333</td>\n",
              "      <td>0.039924</td>\n",
              "      <td>8.605468</td>\n",
              "      <td>23</td>\n",
              "      <td>21</td>\n",
              "      <td>23</td>\n",
              "      <td>25</td>\n",
              "    </tr>\n",
              "    <tr>\n",
              "      <th>17174</th>\n",
              "      <td>10.5</td>\n",
              "      <td>858.0</td>\n",
              "      <td>115.0</td>\n",
              "      <td>0.0000</td>\n",
              "      <td>317.0</td>\n",
              "      <td>1/31/2020 23:39</td>\n",
              "      <td>1/31/2020 23:53</td>\n",
              "      <td>6.94540</td>\n",
              "      <td>79.8768</td>\n",
              "      <td>6.93574</td>\n",
              "      <td>79.9010</td>\n",
              "      <td>133.31</td>\n",
              "      <td>2.879981</td>\n",
              "      <td>0.155373</td>\n",
              "      <td>5.573475</td>\n",
              "      <td>5.573475</td>\n",
              "      <td>0.012238</td>\n",
              "      <td>39.930824</td>\n",
              "      <td>23</td>\n",
              "      <td>39</td>\n",
              "      <td>23</td>\n",
              "      <td>53</td>\n",
              "    </tr>\n",
              "    <tr>\n",
              "      <th>17175</th>\n",
              "      <td>10.5</td>\n",
              "      <td>262.0</td>\n",
              "      <td>21.0</td>\n",
              "      <td>1.2243</td>\n",
              "      <td>23.0</td>\n",
              "      <td>1/31/2020 23:49</td>\n",
              "      <td>1/31/2020 23:53</td>\n",
              "      <td>6.90257</td>\n",
              "      <td>79.9557</td>\n",
              "      <td>6.90823</td>\n",
              "      <td>79.9374</td>\n",
              "      <td>98.57</td>\n",
              "      <td>2.116539</td>\n",
              "      <td>0.376221</td>\n",
              "      <td>2.444963</td>\n",
              "      <td>2.475713</td>\n",
              "      <td>0.040076</td>\n",
              "      <td>9.921857</td>\n",
              "      <td>23</td>\n",
              "      <td>49</td>\n",
              "      <td>23</td>\n",
              "      <td>53</td>\n",
              "    </tr>\n",
              "  </tbody>\n",
              "</table>\n",
              "<p>17172 rows × 22 columns</p>\n",
              "</div>"
            ],
            "text/plain": [
              "       additional_fare  duration  ...  drop_hour  drop_minute\n",
              "0                 10.5     834.0  ...          0           34\n",
              "1                 10.5     791.0  ...          1            9\n",
              "2                 10.5    1087.0  ...          1           26\n",
              "3                 10.5     598.0  ...          2           37\n",
              "4                  NaN       NaN  ...          3           51\n",
              "...                ...       ...  ...        ...          ...\n",
              "17171             10.5     838.0  ...         22           21\n",
              "17172             10.5    2151.0  ...         23           43\n",
              "17173             10.5     263.0  ...         23           25\n",
              "17174             10.5     858.0  ...         23           53\n",
              "17175             10.5     262.0  ...         23           53\n",
              "\n",
              "[17172 rows x 22 columns]"
            ]
          },
          "metadata": {
            "tags": []
          },
          "execution_count": 8
        }
      ]
    },
    {
      "cell_type": "markdown",
      "metadata": {
        "id": "xlOcjva97_Mr",
        "colab_type": "text"
      },
      "source": [
        "### Drop Columns"
      ]
    },
    {
      "cell_type": "code",
      "metadata": {
        "id": "eROkD_Jd8Bmm",
        "colab_type": "code",
        "colab": {}
      },
      "source": [
        "features_df = features_df.drop(labels=['pickup_time','drop_time','pick_lat','pick_lon','drop_lat','drop_lon','meter_waiting_till_pickup'],axis=1)\n",
        "test_df = test_df.drop(labels=['pickup_time','drop_time','pick_lat','pick_lon','drop_lat','drop_lon','meter_waiting_till_pickup'],axis=1)"
      ],
      "execution_count": null,
      "outputs": []
    },
    {
      "cell_type": "markdown",
      "metadata": {
        "id": "rl4yxOjgvRjC",
        "colab_type": "text"
      },
      "source": [
        "### Pipeline's pre prcessors"
      ]
    },
    {
      "cell_type": "code",
      "metadata": {
        "id": "ImNWnXUmwXlj",
        "colab_type": "code",
        "colab": {}
      },
      "source": [
        "numeric_cols = features_df.columns[features_df.dtypes != \"object\"].values\n",
        "cat_cols = features_df.columns[features_df.dtypes == \"object\"].values"
      ],
      "execution_count": null,
      "outputs": []
    },
    {
      "cell_type": "markdown",
      "metadata": {
        "id": "kL39insr_Nj5",
        "colab_type": "text"
      },
      "source": [
        "## **Catboost**\n"
      ]
    },
    {
      "cell_type": "code",
      "metadata": {
        "id": "Fginou9S-3yG",
        "colab_type": "code",
        "colab": {
          "base_uri": "https://localhost:8080/",
          "height": 241
        },
        "outputId": "f1bb3d40-6b7b-4846-a9a5-dc052495f941"
      },
      "source": [
        "x_train,x_test,y_train,y_test =  train_test_split( features_df, label_df, test_size=0.15, random_state=6)\n",
        "\n",
        "data_pool = Pool(\n",
        "    data=x_train,\n",
        "    label=y_train\n",
        ")\n",
        "model = CatBoostClassifier(\n",
        "  # feature_weights = \"7:1.2,6:1.2\",\n",
        "  # iterations=5000,\n",
        "  random_seed = 42,\n",
        "  # depth = 7,\n",
        "  eval_metric='F1'\n",
        ") \n",
        "model.fit(\n",
        "    data_pool,\n",
        "    eval_set=(x_test, y_test),\n",
        "    verbose = 800\n",
        ")\n",
        "eval_pool = Pool(\n",
        "    data = x_test,\n",
        "    label = y_test\n",
        ")\n",
        "eval_result = model.eval_metrics(\n",
        "    data = eval_pool,\n",
        "    metrics = ['F1']\n",
        ")\n",
        "for metric_key in eval_result:\n",
        "  print (\"%s -: %f\" % (metric_key,100*statistics.mean(eval_result[metric_key])))\n",
        "print(f1_score(y_test,model.predict(x_test,prediction_type='Class')))\n",
        "predicted = model.predict(test_df,prediction_type='Class')\n",
        "\n"
      ],
      "execution_count": null,
      "outputs": [
        {
          "output_type": "stream",
          "text": [
            "Learning rate set to 0.061443\n",
            "0:\tlearn: 0.9699360\ttest: 0.9726753\tbest: 0.9726753 (0)\ttotal: 15.1ms\tremaining: 15.1s\n",
            "800:\tlearn: 0.9917106\ttest: 0.9804422\tbest: 0.9812925 (173)\ttotal: 10.1s\tremaining: 2.52s\n",
            "999:\tlearn: 0.9933600\ttest: 0.9795745\tbest: 0.9812925 (173)\ttotal: 12.7s\tremaining: 0us\n",
            "\n",
            "bestTest = 0.981292517\n",
            "bestIteration = 173\n",
            "\n",
            "Shrink model to first 174 iterations.\n",
            "[0.9726752806608769, 0.9735561667019252, 0.9754341380770859, 0.9736008447729673, 0.9731784582893348, 0.9742398648648649, 0.9758679085520745, 0.976281236764083, 0.9764780673871581, 0.9767146486028789, 0.9764880321965684, 0.9769116712560899, 0.9769116712560899, 0.9771089444679949, 0.977542372881356, 0.977542372881356, 0.977542372881356, 0.977316090735637, 0.9775328529037728, 0.977542372881356, 0.9773257045984318, 0.9773257045984318, 0.9773257045984318, 0.9771089444679949, 0.977316090735637, 0.9771089444679949, 0.977542372881356, 0.9771186440677966, 0.9771186440677966, 0.9771089444679949, 0.977316090735637, 0.9773257045984318, 0.9775328529037728, 0.9775328529037728, 0.9775328529037728, 0.9775328529037728, 0.9777495232040686, 0.9777495232040686, 0.9775328529037728, 0.9775233248515691, 0.9775233248515691, 0.9777400890396438, 0.9779567613395508, 0.9779567613395508, 0.9779567613395508, 0.9779567613395508, 0.9781640873436507, 0.9785880856476573, 0.9785880856476573, 0.9787955894826124, 0.9790031813361612, 0.9792108612643191, 0.9792108612643191, 0.9792108612643191, 0.9792108612643191, 0.9792108612643191, 0.9790031813361612, 0.9794186293231488, 0.9794186293231488, 0.9796264855687606, 0.9796264855687606, 0.9796264855687606, 0.9796264855687606, 0.9796264855687606, 0.9796264855687606, 0.9796264855687606, 0.9798344300573126, 0.9796178343949046, 0.9796178343949046, 0.9798258653641962, 0.9798258653641962, 0.9802421924792861, 0.9802421924792861, 0.9802421924792861, 0.9802421924792861, 0.9802421924792861, 0.9802421924792861, 0.980033984706882, 0.980033984706882, 0.980033984706882, 0.979609175870858, 0.979609175870858, 0.979609175870858, 0.9798172933928192, 0.9798172933928192, 0.9800254993625159, 0.9798172933928192, 0.9798087141339001, 0.9796005099872503, 0.9798087141339001, 0.9800254993625159, 0.9798087141339001, 0.9800170068027212, 0.9800170068027212, 0.9800170068027212, 0.9798001275781416, 0.9800170068027212, 0.9800170068027212, 0.9802337938363445, 0.9802337938363445, 0.9802337938363445, 0.9804504887377815, 0.9804504887377815, 0.9804504887377815, 0.9804504887377815, 0.9804504887377815, 0.9804504887377815, 0.9804504887377815, 0.9804504887377815, 0.9804504887377815, 0.9802337938363445, 0.9802337938363445, 0.9804504887377815, 0.9804504887377815, 0.9804504887377815, 0.9804421768707484, 0.9806588735387884, 0.9806588735387884, 0.9806588735387884, 0.9806588735387884, 0.9806588735387884, 0.9806588735387884, 0.9808673469387754, 0.9808673469387754, 0.9808673469387754, 0.9808673469387754, 0.98065064852222, 0.98065064852222, 0.9808673469387754, 0.9808673469387754, 0.98065064852222, 0.9806588735387884, 0.9808673469387754, 0.9808673469387754, 0.9808673469387754, 0.9808673469387754, 0.9808673469387754, 0.9808673469387754, 0.98065064852222, 0.9804421768707484, 0.9804421768707484, 0.9804421768707484, 0.9802253880501807, 0.9804421768707484, 0.9802253880501807, 0.9802253880501807, 0.9802253880501807, 0.9804338579327946, 0.9802253880501807, 0.9802253880501807, 0.9802253880501807, 0.9802253880501807, 0.9804421768707484, 0.9804421768707484, 0.98065064852222, 0.98065064852222, 0.98065064852222, 0.98065064852222, 0.9804421768707484, 0.9804504887377815, 0.9802337938363445, 0.9806588735387884, 0.9810839532412328, 0.9808673469387754, 0.9810839532412328, 0.9810839532412328, 0.9810839532412328, 0.9810839532412328, 0.9810839532412328, 0.9810839532412328, 0.9810839532412328, 0.9808673469387754, 0.981075908994259, 0.9812925170068028]\n",
            "F1 -: 97.933284\n",
            "0.9812925170068028\n"
          ],
          "name": "stdout"
        }
      ]
    },
    {
      "cell_type": "code",
      "metadata": {
        "id": "TW66oJ2J3znu",
        "colab_type": "code",
        "colab": {
          "base_uri": "https://localhost:8080/",
          "height": 68
        },
        "outputId": "f72f68c5-7d4f-4d48-9d81-8a11447bdce5"
      },
      "source": [
        "model = CatBoostClassifier(\n",
        "  # feature_weights = \"7:1.2,6:1.2\",\n",
        "  iterations=178,\n",
        "  random_seed = 42,\n",
        "  # depth = 7,\n",
        "  eval_metric='F1'\n",
        ") \n",
        "fit_pool = Pool(\n",
        "    data=features_df,\n",
        "    label=label_df\n",
        ")\n",
        "model.fit(\n",
        "    fit_pool,\n",
        "    verbose = 800\n",
        ")\n",
        "data_dict = { 'tripid':trip_id, 'prediction':predicted}\n",
        "pd_test_result = pd.DataFrame(data=data_dict,columns=['tripid','prediction'])\n",
        "pd_test_result = pd_test_result.set_index('tripid') \n",
        "pd_test_result.to_csv(\"catboost_result.csv\", index=True)"
      ],
      "execution_count": null,
      "outputs": [
        {
          "output_type": "stream",
          "text": [
            "Learning rate set to 0.168876\n",
            "0:\tlearn: 0.9699571\ttotal: 8.31ms\tremaining: 1.47s\n",
            "177:\tlearn: 0.9822870\ttotal: 1.34s\tremaining: 0us\n"
          ],
          "name": "stdout"
        }
      ]
    },
    {
      "cell_type": "markdown",
      "metadata": {
        "id": "KZ8_0WLbFiwL",
        "colab_type": "text"
      },
      "source": [
        "F1 -: 0.976345 rs 42"
      ]
    },
    {
      "cell_type": "markdown",
      "metadata": {
        "id": "7qoVtyz6xA3z",
        "colab_type": "text"
      },
      "source": [
        "# 9 . feature importnce"
      ]
    },
    {
      "cell_type": "code",
      "metadata": {
        "id": "CHKUARebxEbl",
        "colab_type": "code",
        "colab": {
          "base_uri": "https://localhost:8080/",
          "height": 68
        },
        "outputId": "1a3c854a-8041-45a3-d314-937c2a0d3f14"
      },
      "source": [
        "pd_test_result['prediction'].value_counts()"
      ],
      "execution_count": null,
      "outputs": [
        {
          "output_type": "execute_result",
          "data": {
            "text/plain": [
              "1    8163\n",
              "0     413\n",
              "Name: prediction, dtype: int64"
            ]
          },
          "metadata": {
            "tags": []
          },
          "execution_count": 13
        }
      ]
    }
  ]
}