{
  "nbformat": 4,
  "nbformat_minor": 0,
  "metadata": {
    "colab": {
      "name": "final_sumbission_1_.ipynb",
      "provenance": [],
      "collapsed_sections": [
        "GnEALk_utX5E",
        "z-t_Sjw9qcgF",
        "b8xqfB8wumPT"
      ],
      "toc_visible": true,
      "authorship_tag": "ABX9TyNNwP2ANFbC2NW0hc8fDMYj",
      "include_colab_link": true
    },
    "kernelspec": {
      "name": "python3",
      "display_name": "Python 3"
    }
  },
  "cells": [
    {
      "cell_type": "markdown",
      "metadata": {
        "id": "view-in-github",
        "colab_type": "text"
      },
      "source": [
        "<a href=\"https://colab.research.google.com/github/charlie9526/TaxiFare/blob/master/final_sumbission_1_.ipynb\" target=\"_parent\"><img src=\"https://colab.research.google.com/assets/colab-badge.svg\" alt=\"Open In Colab\"/></a>"
      ]
    },
    {
      "cell_type": "markdown",
      "metadata": {
        "id": "IeICpzjspu-d",
        "colab_type": "text"
      },
      "source": [
        "# 1 . Mounting"
      ]
    },
    {
      "cell_type": "code",
      "metadata": {
        "id": "A4DW8L5GpzWO",
        "colab_type": "code",
        "outputId": "567101d5-691c-43b3-de35-80d10003ee77",
        "colab": {
          "base_uri": "https://localhost:8080/",
          "height": 51
        }
      },
      "source": [
        "from google.colab import drive \n",
        "drive.mount('/content/drive')\n",
        "%cd /content/drive/My\\ Drive/Colab\\ Notebooks/FAIR_TAXI"
      ],
      "execution_count": 33,
      "outputs": [
        {
          "output_type": "stream",
          "text": [
            "Drive already mounted at /content/drive; to attempt to forcibly remount, call drive.mount(\"/content/drive\", force_remount=True).\n",
            "/content/drive/My Drive/Colab Notebooks/FAIR_TAXI\n"
          ],
          "name": "stdout"
        }
      ]
    },
    {
      "cell_type": "markdown",
      "metadata": {
        "id": "GnEALk_utX5E",
        "colab_type": "text"
      },
      "source": [
        "# 2 . Imports"
      ]
    },
    {
      "cell_type": "code",
      "metadata": {
        "id": "1thsx8vutjY9",
        "colab_type": "code",
        "colab": {}
      },
      "source": [
        "import pandas as pd\n",
        "from datetime import datetime\n",
        "import random\n",
        "from google.colab import files\n",
        "import matplotlib\n",
        "import matplotlib.pyplot as plt\n",
        "import seaborn as sns; sns.set(style=\"ticks\", color_codes=True)              \n",
        "import numpy as np                 \n",
        "from scipy.stats import norm   \n",
        "import warnings\n",
        "warnings.filterwarnings('ignore')   \n",
        "%matplotlib inline                  \n",
        "from math import sin, cos, sqrt, atan2, radians\n",
        "import math\n",
        "\n",
        "from sklearn.cluster import KMeans\n",
        "\n",
        "from sklearn import metrics\n",
        "from sklearn.metrics import roc_curve, roc_auc_score,fbeta_score,f1_score\n",
        "\n",
        "from sklearn.preprocessing import StandardScaler\n",
        "from sklearn.preprocessing import LabelEncoder,LabelBinarizer\n",
        "from sklearn.preprocessing import OneHotEncoder\n",
        "\n",
        "from sklearn.ensemble import GradientBoostingClassifier\n",
        "from sklearn.ensemble import RandomForestClassifier\n",
        "from sklearn.ensemble import AdaBoostClassifier\n",
        "\n",
        "from sklearn.model_selection import StratifiedKFold\n",
        "from sklearn.model_selection import train_test_split\n",
        "from sklearn.model_selection import cross_val_score\n",
        "\n",
        "from sklearn.svm import SVC,LinearSVC\n",
        "from sklearn.decomposition import PCA\n",
        "from sklearn.neural_network import MLPClassifier\n",
        "from sklearn.impute import SimpleImputer\n",
        "from sklearn.compose import ColumnTransformer\n",
        "from sklearn.linear_model import LogisticRegression\n",
        "from sklearn.multioutput import MultiOutputClassifier\n",
        "from sklearn.pipeline import Pipeline\n",
        "from sklearn.base import BaseEstimator, TransformerMixin\n",
        "from xgboost import XGBClassifier\n",
        "from sklearn.cluster import KMeans\n",
        "\n"
      ],
      "execution_count": 0,
      "outputs": []
    },
    {
      "cell_type": "markdown",
      "metadata": {
        "id": "z-t_Sjw9qcgF",
        "colab_type": "text"
      },
      "source": [
        "# 3 . Read files"
      ]
    },
    {
      "cell_type": "code",
      "metadata": {
        "id": "90bdDvuDqgW4",
        "colab_type": "code",
        "colab": {}
      },
      "source": [
        "train_df = pd.read_csv('train.csv')\n",
        "test_df = pd.read_csv('test.csv')"
      ],
      "execution_count": 0,
      "outputs": []
    },
    {
      "cell_type": "markdown",
      "metadata": {
        "id": "b8xqfB8wumPT",
        "colab_type": "text"
      },
      "source": [
        "# 4 . Functions"
      ]
    },
    {
      "cell_type": "code",
      "metadata": {
        "id": "wA1zB1-Suoj8",
        "colab_type": "code",
        "colab": {}
      },
      "source": [
        "\n",
        "# set distance column\n",
        "class set_distance(BaseEstimator, TransformerMixin):\n",
        "    def fit(self, X, y=None):\n",
        "      return self\n",
        "\n",
        "    def transform(self, X):\n",
        "      X['distance'] = X.apply(lambda x:get_distance(x), axis=1)\n",
        "      # print(X)\n",
        "      # X = X.drop(labels=['pick_lat','pick_lon','drop_lat','drop_lon'],axis=1)\n",
        "      return X\n",
        "# lambda column get distance\n",
        "def get_distance(x):\n",
        "  R = 6373.0\n",
        "  lat1 = radians(float(x['drop_lat']))\n",
        "  lon1 = radians(float(x['drop_lon']))\n",
        "  lat2 = radians(float(x['pick_lat']))\n",
        "  lon2 = radians(float(x['pick_lon']))\n",
        "\n",
        "  dlon = lon2 - lon1\n",
        "  dlat = lat2 - lat1\n",
        "\n",
        "  a = sin(dlat / 2)**2 + cos(lat1) * cos(lat2) * sin(dlon / 2)**2\n",
        "  c = 2 * atan2(sqrt(a), sqrt(1 - a))\n",
        "\n",
        "  distance = round( R * c,2)\n",
        "  return distance\n",
        "\n",
        "\n",
        "def encoding_label(label):\n",
        "  if(label=='correct'):\n",
        "    return 1\n",
        "  elif(label=='incorrect'):\n",
        "    return 0\n",
        "  else:\n",
        "    print (\"invalid label\")\n",
        "\n",
        "def get_hour_value(x,date_time_column_name):\n",
        "  if x[date_time_column_name]==None:\n",
        "    return None\n",
        "  h =  datetime.strptime(x[date_time_column_name],\"%m/%d/%Y %H:%M\").hour\n",
        "  return h\n",
        "\n",
        "def get_minute_value(x,date_time_column_name):\n",
        "  if x[date_time_column_name]==None:\n",
        "    return None\n",
        "  h =  datetime.strptime(x[date_time_column_name],\"%m/%d/%Y %H:%M\").minute\n",
        "  return h\n",
        "\n",
        "\n",
        "def get_fare_per_hr(x):\n",
        "  if  x[\"duration\"]>0:\n",
        "    hours = x[\"duration\"]\n",
        "    val = float(x['fare'])/hours\n",
        "    return val\n",
        "  if x[\"duration\"]==0:\n",
        "    return 0\n",
        "  return None\n",
        "\n",
        "\n",
        "def get_addfare_per_hr(x):\n",
        "  if  x[\"distance\"]>0:\n",
        "    val = float(x['additional_fare'])/x[\"distance\"]\n",
        "    return val\n",
        "  if x[\"distance\"]==0:\n",
        "    return 0\n",
        "  return None\n",
        "\n",
        "\n",
        "def get_dis_per_fare(x):\n",
        "  if x['fare']==0:\n",
        "    return 0\n",
        "  if x['fare']>0:\n",
        "    return float(x['distance'])/x['fare']\n",
        "  else:\n",
        "    return 0\n",
        "\n",
        "\n",
        "def get_waiting_rate(x):\n",
        "  if math.isnan(x['meter_waiting']):\n",
        "    return None\n",
        "  if x['meter_waiting']==0:\n",
        "    return 0\n",
        "  if  x['meter_waiting_fare']>=0:\n",
        "    return float(x['meter_waiting_fare'])/x['meter_waiting']\n",
        "  else:\n",
        "    return 0\n",
        "\n",
        "\n",
        "def get_velocity(x):\n",
        "  if math.isnan(x['duration']) or math.isnan(x['distance']) or math.isnan(x['meter_waiting']):\n",
        "    return None\n",
        "  if (x['duration']-x['meter_waiting'])==0:\n",
        "    return 0\n",
        "  return (float(x['distance']))/(x['duration']-x['meter_waiting'])\n",
        "\n",
        "\n",
        "def get_mw_ratio(x):\n",
        "  if (x['duration'])==0:\n",
        "    return 0\n",
        "  return float(x['meter_waiting'])/(x['duration'])\n",
        "\n",
        "\n",
        "def get_mwfare_ratio(x):\n",
        "  if (x['fare'])==0:\n",
        "    return 0\n",
        "  return float(x['meter_waiting_fare'])/(x['fare'])\n",
        "\n",
        "\n",
        "\n",
        "def invget_fare_per_hr(x):\n",
        "  if  x[\"fare\"]>0:\n",
        "    fare = x[\"duration\"]\n",
        "    val = float(x['fare'])/fare\n",
        "    return val\n",
        "  if x[\"fare\"]==0:\n",
        "    return 0\n",
        "  return None\n"
      ],
      "execution_count": 0,
      "outputs": []
    },
    {
      "cell_type": "markdown",
      "metadata": {
        "id": "0rFeSzsIurIe",
        "colab_type": "text"
      },
      "source": [
        "# 5 . PreProcess"
      ]
    },
    {
      "cell_type": "markdown",
      "metadata": {
        "id": "PM7bSM3O1zUB",
        "colab_type": "text"
      },
      "source": [
        "### Some pre steps\n"
      ]
    },
    {
      "cell_type": "code",
      "metadata": {
        "id": "iVjOLsJF2DHN",
        "colab_type": "code",
        "colab": {}
      },
      "source": [
        "# train_df = train_df.drop_duplicates()\n",
        "# train_df = train_df.dropna()\n",
        "################# ugly indexes\n",
        "# bads = [203757140,213112837,193653017,209365576,190167541]\n",
        "# train_df = train_df[~(train_df['tripid'].isin(bads))]"
      ],
      "execution_count": 0,
      "outputs": []
    },
    {
      "cell_type": "markdown",
      "metadata": {
        "id": "UAqh2gAWvc5r",
        "colab_type": "text"
      },
      "source": [
        "### Create feature_df and label"
      ]
    },
    {
      "cell_type": "code",
      "metadata": {
        "id": "0lSF4VMUvjvg",
        "colab_type": "code",
        "colab": {}
      },
      "source": [
        "trip_id  = test_df['tripid']\n",
        "\n",
        "features_df = train_df.loc[:, train_df.columns != 'label']\n",
        "label_df = train_df['label'].apply(encoding_label).values\n",
        "\n",
        "features_df = features_df.loc[:, features_df.columns != 'tripid']\n",
        "test_df = test_df.loc[:, test_df.columns != 'tripid']"
      ],
      "execution_count": 0,
      "outputs": []
    },
    {
      "cell_type": "markdown",
      "metadata": {
        "id": "e4AynMz04s9G",
        "colab_type": "text"
      },
      "source": [
        "### New columns"
      ]
    },
    {
      "cell_type": "code",
      "metadata": {
        "id": "TAp0w3aO4vBp",
        "colab_type": "code",
        "colab": {}
      },
      "source": [
        "features_df['pickup_hour'] = features_df.apply(lambda x : get_hour_value(x,'pickup_time'),axis=1)\n",
        "test_df['pickup_hour'] = test_df.apply(lambda x : get_hour_value(x,'pickup_time'),axis=1)\n",
        "\n",
        "features_df['pickup_minute'] = features_df.apply(lambda x : get_minute_value(x,'pickup_time'),axis=1)\n",
        "test_df['pickup_minute'] = test_df.apply(lambda x : get_minute_value(x,'pickup_time'),axis=1)\n",
        "\n",
        "features_df['drop_hour'] = features_df.apply(lambda x : get_hour_value(x,'drop_time'),axis=1)\n",
        "test_df['drop_hour'] = test_df.apply(lambda x : get_hour_value(x,'drop_time'),axis=1)\n",
        "\n",
        "features_df['drop_minute'] = features_df.apply(lambda x : get_minute_value(x,'drop_time'),axis=1)\n",
        "test_df['drop_minute'] = test_df.apply(lambda x : get_minute_value(x,'drop_time'),axis=1)\n",
        "\n",
        "features_df['distance'] = features_df.apply(lambda x:get_distance(x), axis=1)\n",
        "test_df['distance'] = test_df.apply(lambda x:get_distance(x), axis=1)\n",
        "\n",
        "features_df['fare_per_time'] = features_df['fare']/(features_df['duration'])\n",
        "test_df['fare_per_time'] = test_df['fare']/(test_df['duration'])\n",
        "\n",
        "features_df['run_time_per_fare'] = (features_df['duration']-features_df['meter_waiting'])/(features_df['fare'])\n",
        "test_df['run_time_per_fare'] = (test_df['duration']-test_df['meter_waiting'])/(test_df['fare'])\n",
        "\n",
        "features_df['run_time_per_run_fare'] = (features_df['duration']-features_df['meter_waiting'])/(features_df['fare']-features_df['meter_waiting_fare'])\n",
        "test_df['run_time_per_run_fare'] = (test_df['duration']-test_df['meter_waiting'])/(test_df['fare']-test_df['meter_waiting_fare'])\n",
        "\n",
        "features_df['add_fare_per_time'] = (features_df['additional_fare'])/(features_df['duration'])\n",
        "test_df['add_fare_per_time'] = (test_df['additional_fare'])/(test_df['duration'])\n",
        "\n",
        "features_df['distance_per_run_time'] = (features_df['duration'])/(features_df['distance'])\n",
        "test_df['distance_per_run_time'] = (test_df['duration'])/(test_df['distance'])\n",
        "\n",
        "features_df['waiting_ratio'] = (features_df['duration'])/(features_df['meter_waiting'])\n",
        "test_df['waiting_ratio'] = (test_df['duration'])/(test_df['meter_waiting'])\n",
        "\n",
        "features_df['fare_ratio'] = (features_df['additional_fare']+features_df['meter_waiting_fare'])/(features_df['fare'])\n",
        "test_df['fare_ratio'] = (test_df['additional_fare']+test_df['meter_waiting_fare'])/(test_df['fare'])\n",
        "\n",
        "features_df['realtime_ratio'] = (features_df['duration']-features_df['meter_waiting'])/(features_df['duration'])\n",
        "test_df['realtime_ratio'] = (test_df['duration']-test_df['meter_waiting'])/(test_df['duration'])\n",
        "\n",
        "features_df['fare_per_waiting'] = (features_df['meter_waiting_fare'])/(features_df['meter_waiting'])\n",
        "test_df['fare_per_waiting'] = (test_df['meter_waiting_fare'])/(test_df['meter_waiting'])\n",
        "\n",
        "\n",
        "\n"
      ],
      "execution_count": 0,
      "outputs": []
    },
    {
      "cell_type": "markdown",
      "metadata": {
        "id": "xlOcjva97_Mr",
        "colab_type": "text"
      },
      "source": [
        "### Drop Columns"
      ]
    },
    {
      "cell_type": "code",
      "metadata": {
        "id": "eROkD_Jd8Bmm",
        "colab_type": "code",
        "colab": {}
      },
      "source": [
        "feature_list = [\n",
        "                'pickup_hour',                                \n",
        "                'pickup_minute',\n",
        "                'distance',\n",
        "                'fare_per_time',\n",
        "                'run_time_per_fare',\n",
        "                'run_time_per_run_fare',\n",
        "                'add_fare_per_time',\n",
        "                'distance_per_run_time',\n",
        "                'waiting_ratio',\n",
        "                'fare_ratio',\n",
        "                'fare_per_waiting',\n",
        "                'additional_fare',\n",
        "                'duration',\n",
        "                'meter_waiting',\n",
        "                'meter_waiting_fare',\n",
        "                'fare'\n",
        "                ]\n",
        "\n",
        "features_df = features_df[feature_list]\n",
        "test_df = test_df[feature_list]\n"
      ],
      "execution_count": 0,
      "outputs": []
    },
    {
      "cell_type": "markdown",
      "metadata": {
        "id": "vqpO5IDiwxgX",
        "colab_type": "text"
      },
      "source": [
        "# 7 . Cross validation and result"
      ]
    },
    {
      "cell_type": "code",
      "metadata": {
        "id": "eIHghLrRw1yo",
        "colab_type": "code",
        "outputId": "193c07f8-c602-4854-9539-8d561cac9158",
        "colab": {
          "base_uri": "https://localhost:8080/",
          "height": 119
        }
      },
      "source": [
        "# for x in np.arange(0.05, 1, 0.01):\n",
        "for x in range(0,1,1):\n",
        "  xgb = XGBClassifier(\n",
        "      learning_rate=0.19,\n",
        "  )\n",
        "\n",
        "  kfold = StratifiedKFold(n_splits=10, random_state=42, shuffle=True)\n",
        "  cv_results = cross_val_score(xgb, features_df, label_df, cv=kfold, scoring='f1')\n",
        "  # print(cv_results)\n",
        "  print('%s: %f (%f) for rs = %f ' % (\"F1\", cv_results.mean()*100, cv_results.std(),x))\n",
        "  cv_results = cross_val_score(xgb, features_df, label_df, cv=kfold, scoring='precision')\n",
        "  # print(cv_results)\n",
        "  print('%s: %f (%f) for rs = %f ' % (\"precision\", cv_results.mean()*100, cv_results.std(),x))\n",
        "  cv_results = cross_val_score(xgb, features_df, label_df, cv=kfold, scoring='recall')\n",
        "  # print(cv_results)\n",
        "  print('%s: %f (%f) for rs = %f ' % (\"recall\", cv_results.mean()*100, cv_results.std(),x))\n",
        "  cv_results = cross_val_score(xgb, features_df, label_df, cv=kfold, scoring='accuracy')\n",
        "  # print(cv_results)\n",
        "  print('%s: %f (%f) for rs = %f ' % (\"accuracy\", cv_results.mean()*100, cv_results.std(),x))\n",
        "\n",
        "  print(\"\\n\")"
      ],
      "execution_count": 41,
      "outputs": [
        {
          "output_type": "stream",
          "text": [
            "F1: 97.652284 (0.003237) for rs = 0.000000 \n",
            "precision: 96.427330 (0.004071) for rs = 0.000000 \n",
            "recall: 98.909353 (0.003113) for rs = 0.000000 \n",
            "accuracy: 95.709199 (0.005944) for rs = 0.000000 \n",
            "\n",
            "\n"
          ],
          "name": "stdout"
        }
      ]
    },
    {
      "cell_type": "code",
      "metadata": {
        "id": "n1Vtx_8rz-tj",
        "colab_type": "code",
        "colab": {}
      },
      "source": [
        "# F1: 97.619646 (0.003619) for rs = 0.000000 \n",
        "# precision: 96.418998 (0.004029) for rs = 0.000000 \n",
        "# recall: 98.851296 (0.004098) for rs = 0.000000 \n",
        "# accuracy: 95.651002 (0.006617) for rs = 0.000000 \n",
        "\n"
      ],
      "execution_count": 0,
      "outputs": []
    },
    {
      "cell_type": "markdown",
      "metadata": {
        "id": "NXgiN_wHw5Ji",
        "colab_type": "text"
      },
      "source": [
        "# 8 . Train model"
      ]
    },
    {
      "cell_type": "code",
      "metadata": {
        "id": "AxLkfNs5w8JW",
        "colab_type": "code",
        "outputId": "5bdf7ed2-3eb2-490a-86f5-058f4a56dcb0",
        "colab": {
          "base_uri": "https://localhost:8080/",
          "height": 545
        }
      },
      "source": [
        "xgb.fit(features_df,label_df)\n",
        "pd.DataFrame({'feature':feature_list,'importance':xgb.feature_importances_}).sort_values(by=['importance'])"
      ],
      "execution_count": 43,
      "outputs": [
        {
          "output_type": "execute_result",
          "data": {
            "text/html": [
              "<div>\n",
              "<style scoped>\n",
              "    .dataframe tbody tr th:only-of-type {\n",
              "        vertical-align: middle;\n",
              "    }\n",
              "\n",
              "    .dataframe tbody tr th {\n",
              "        vertical-align: top;\n",
              "    }\n",
              "\n",
              "    .dataframe thead th {\n",
              "        text-align: right;\n",
              "    }\n",
              "</style>\n",
              "<table border=\"1\" class=\"dataframe\">\n",
              "  <thead>\n",
              "    <tr style=\"text-align: right;\">\n",
              "      <th></th>\n",
              "      <th>feature</th>\n",
              "      <th>importance</th>\n",
              "    </tr>\n",
              "  </thead>\n",
              "  <tbody>\n",
              "    <tr>\n",
              "      <th>1</th>\n",
              "      <td>pickup_minute</td>\n",
              "      <td>0.008481</td>\n",
              "    </tr>\n",
              "    <tr>\n",
              "      <th>0</th>\n",
              "      <td>pickup_hour</td>\n",
              "      <td>0.011381</td>\n",
              "    </tr>\n",
              "    <tr>\n",
              "      <th>6</th>\n",
              "      <td>add_fare_per_time</td>\n",
              "      <td>0.017678</td>\n",
              "    </tr>\n",
              "    <tr>\n",
              "      <th>9</th>\n",
              "      <td>fare_ratio</td>\n",
              "      <td>0.018753</td>\n",
              "    </tr>\n",
              "    <tr>\n",
              "      <th>14</th>\n",
              "      <td>meter_waiting_fare</td>\n",
              "      <td>0.019034</td>\n",
              "    </tr>\n",
              "    <tr>\n",
              "      <th>8</th>\n",
              "      <td>waiting_ratio</td>\n",
              "      <td>0.019708</td>\n",
              "    </tr>\n",
              "    <tr>\n",
              "      <th>2</th>\n",
              "      <td>distance</td>\n",
              "      <td>0.025548</td>\n",
              "    </tr>\n",
              "    <tr>\n",
              "      <th>13</th>\n",
              "      <td>meter_waiting</td>\n",
              "      <td>0.026909</td>\n",
              "    </tr>\n",
              "    <tr>\n",
              "      <th>10</th>\n",
              "      <td>fare_per_waiting</td>\n",
              "      <td>0.031991</td>\n",
              "    </tr>\n",
              "    <tr>\n",
              "      <th>12</th>\n",
              "      <td>duration</td>\n",
              "      <td>0.035664</td>\n",
              "    </tr>\n",
              "    <tr>\n",
              "      <th>7</th>\n",
              "      <td>distance_per_run_time</td>\n",
              "      <td>0.045287</td>\n",
              "    </tr>\n",
              "    <tr>\n",
              "      <th>3</th>\n",
              "      <td>fare_per_time</td>\n",
              "      <td>0.053343</td>\n",
              "    </tr>\n",
              "    <tr>\n",
              "      <th>11</th>\n",
              "      <td>additional_fare</td>\n",
              "      <td>0.055637</td>\n",
              "    </tr>\n",
              "    <tr>\n",
              "      <th>15</th>\n",
              "      <td>fare</td>\n",
              "      <td>0.126054</td>\n",
              "    </tr>\n",
              "    <tr>\n",
              "      <th>5</th>\n",
              "      <td>run_time_per_run_fare</td>\n",
              "      <td>0.152535</td>\n",
              "    </tr>\n",
              "    <tr>\n",
              "      <th>4</th>\n",
              "      <td>run_time_per_fare</td>\n",
              "      <td>0.351997</td>\n",
              "    </tr>\n",
              "  </tbody>\n",
              "</table>\n",
              "</div>"
            ],
            "text/plain": [
              "                  feature  importance\n",
              "1           pickup_minute    0.008481\n",
              "0             pickup_hour    0.011381\n",
              "6       add_fare_per_time    0.017678\n",
              "9              fare_ratio    0.018753\n",
              "14     meter_waiting_fare    0.019034\n",
              "8           waiting_ratio    0.019708\n",
              "2                distance    0.025548\n",
              "13          meter_waiting    0.026909\n",
              "10       fare_per_waiting    0.031991\n",
              "12               duration    0.035664\n",
              "7   distance_per_run_time    0.045287\n",
              "3           fare_per_time    0.053343\n",
              "11        additional_fare    0.055637\n",
              "15                   fare    0.126054\n",
              "5   run_time_per_run_fare    0.152535\n",
              "4       run_time_per_fare    0.351997"
            ]
          },
          "metadata": {
            "tags": []
          },
          "execution_count": 43
        }
      ]
    },
    {
      "cell_type": "markdown",
      "metadata": {
        "id": "7qoVtyz6xA3z",
        "colab_type": "text"
      },
      "source": [
        "# 9 . Predict and save result"
      ]
    },
    {
      "cell_type": "code",
      "metadata": {
        "id": "CHKUARebxEbl",
        "colab_type": "code",
        "colab": {}
      },
      "source": [
        "predicted = xgb.predict(test_df)\n",
        "\n",
        "data_dict = { 'tripid':trip_id, 'prediction':predicted}\n",
        "pd_test_result = pd.DataFrame(data=data_dict,columns=['tripid','prediction'])\n",
        "pd_test_result = pd_test_result.set_index('tripid') \n",
        "pd_test_result.to_csv(\"final_sumbission_1_.csv\", index=True)"
      ],
      "execution_count": 0,
      "outputs": []
    },
    {
      "cell_type": "code",
      "metadata": {
        "id": "tCBuXEHjP6RU",
        "colab_type": "code",
        "outputId": "f0b97a0b-436d-4e18-8299-5a387ec1b8de",
        "colab": {
          "base_uri": "https://localhost:8080/",
          "height": 68
        }
      },
      "source": [
        "pd_test_result['prediction'].value_counts()"
      ],
      "execution_count": 45,
      "outputs": [
        {
          "output_type": "execute_result",
          "data": {
            "text/plain": [
              "1    8156\n",
              "0     420\n",
              "Name: prediction, dtype: int64"
            ]
          },
          "metadata": {
            "tags": []
          },
          "execution_count": 45
        }
      ]
    }
  ]
}