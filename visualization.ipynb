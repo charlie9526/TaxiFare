{
  "nbformat": 4,
  "nbformat_minor": 0,
  "metadata": {
    "colab": {
      "name": "visualization.ipynb",
      "provenance": [],
      "collapsed_sections": [
        "Qw_Ea62pnIpx"
      ],
      "toc_visible": true,
      "authorship_tag": "ABX9TyOH9hgLvrZtlcAY0EN6Qwae",
      "include_colab_link": true
    },
    "kernelspec": {
      "name": "python3",
      "display_name": "Python 3"
    }
  },
  "cells": [
    {
      "cell_type": "markdown",
      "metadata": {
        "id": "view-in-github",
        "colab_type": "text"
      },
      "source": [
        "<a href=\"https://colab.research.google.com/github/charlie9526/TaxiFare/blob/master/visualization.ipynb\" target=\"_parent\"><img src=\"https://colab.research.google.com/assets/colab-badge.svg\" alt=\"Open In Colab\"/></a>"
      ]
    },
    {
      "cell_type": "markdown",
      "metadata": {
        "id": "Qw_Ea62pnIpx",
        "colab_type": "text"
      },
      "source": [
        "# 1) IMPORTS"
      ]
    },
    {
      "cell_type": "code",
      "metadata": {
        "id": "ndLQhLMXnMSw",
        "colab_type": "code",
        "outputId": "3a885124-2df9-463b-f85a-0521a64c3a92",
        "colab": {
          "base_uri": "https://localhost:8080/",
          "height": 121
        }
      },
      "source": [
        "from google.colab import drive \n",
        "drive.mount('/content/drive')"
      ],
      "execution_count": 0,
      "outputs": [
        {
          "output_type": "stream",
          "text": [
            "Go to this URL in a browser: https://accounts.google.com/o/oauth2/auth?client_id=947318989803-6bn6qk8qdgf4n4g3pfee6491hc0brc4i.apps.googleusercontent.com&redirect_uri=urn%3aietf%3awg%3aoauth%3a2.0%3aoob&response_type=code&scope=email%20https%3a%2f%2fwww.googleapis.com%2fauth%2fdocs.test%20https%3a%2f%2fwww.googleapis.com%2fauth%2fdrive%20https%3a%2f%2fwww.googleapis.com%2fauth%2fdrive.photos.readonly%20https%3a%2f%2fwww.googleapis.com%2fauth%2fpeopleapi.readonly\n",
            "\n",
            "Enter your authorization code:\n",
            "··········\n",
            "Mounted at /content/drive\n"
          ],
          "name": "stdout"
        }
      ]
    },
    {
      "cell_type": "code",
      "metadata": {
        "id": "ME4EgJEwnZUT",
        "colab_type": "code",
        "outputId": "b12c1ee7-ea8c-41f6-a8f5-3c5513809dba",
        "colab": {
          "base_uri": "https://localhost:8080/",
          "height": 70
        }
      },
      "source": [
        "import pandas as pd\n",
        "import random\n",
        "from google.colab import files\n",
        "import matplotlib\n",
        "import matplotlib.pyplot as plt\n",
        "import seaborn as sns; sns.set(style=\"ticks\", color_codes=True)              \n",
        "import numpy as np                  \n",
        "from scipy.stats import norm   \n",
        "import warnings\n",
        "warnings.filterwarnings('ignore')   \n",
        "%matplotlib inline                 \n",
        "\n",
        "from sklearn.base import BaseEstimator, TransformerMixin\n",
        "from math import sin, cos, sqrt, atan2, radians\n",
        "from datetime import datetime\n"
      ],
      "execution_count": 0,
      "outputs": [
        {
          "output_type": "stream",
          "text": [
            "/usr/local/lib/python3.6/dist-packages/statsmodels/tools/_testing.py:19: FutureWarning: pandas.util.testing is deprecated. Use the functions in the public API at pandas.testing instead.\n",
            "  import pandas.util.testing as tm\n"
          ],
          "name": "stderr"
        }
      ]
    },
    {
      "cell_type": "code",
      "metadata": {
        "id": "cAwEA4IUnkfF",
        "colab_type": "code",
        "colab": {}
      },
      "source": [
        "train_df = pd.read_csv('/content/drive/My Drive/Colab Notebooks/FAIR_TAXI/train.csv')\n",
        "test_df = pd.read_csv('/content/drive/My Drive/Colab Notebooks/FAIR_TAXI/test.csv')\n",
        "sample_submission_df = pd.read_csv('/content/drive/My Drive/Colab Notebooks/FAIR_TAXI/sample_submission.csv')"
      ],
      "execution_count": 0,
      "outputs": []
    },
    {
      "cell_type": "markdown",
      "metadata": {
        "id": "YbMS3XeZGbsA",
        "colab_type": "text"
      },
      "source": [
        "# 2) Functions"
      ]
    },
    {
      "cell_type": "markdown",
      "metadata": {
        "id": "7s1yWAg_nr7q",
        "colab_type": "text"
      },
      "source": [
        "#3) PRE PROCESS"
      ]
    },
    {
      "cell_type": "markdown",
      "metadata": {
        "id": "mNvHwwpkn2WK",
        "colab_type": "text"
      },
      "source": [
        "## 3.1) Check Nulls (not related for pipeline)\n"
      ]
    },
    {
      "cell_type": "code",
      "metadata": {
        "id": "EZet_OLmFhe6",
        "colab_type": "code",
        "colab": {}
      },
      "source": [
        "## DROP ALL NULL FARE ROWS\n",
        "train_df = train_df.dropna(subset=['fare'])"
      ],
      "execution_count": 0,
      "outputs": []
    },
    {
      "cell_type": "code",
      "metadata": {
        "id": "H9u1entBn8VV",
        "colab_type": "code",
        "outputId": "8fcd2987-e092-497c-ccd1-21f8f6e0458d",
        "colab": {
          "base_uri": "https://localhost:8080/",
          "height": 269
        }
      },
      "source": [
        "train_df.isnull().sum()"
      ],
      "execution_count": 0,
      "outputs": [
        {
          "output_type": "execute_result",
          "data": {
            "text/plain": [
              "tripid                        0\n",
              "additional_fare              71\n",
              "duration                     71\n",
              "meter_waiting                71\n",
              "meter_waiting_fare           71\n",
              "meter_waiting_till_pickup    71\n",
              "pickup_time                   0\n",
              "drop_time                     0\n",
              "pick_lat                      0\n",
              "pick_lon                      0\n",
              "drop_lat                      0\n",
              "drop_lon                      0\n",
              "fare                          0\n",
              "label                         0\n",
              "dtype: int64"
            ]
          },
          "metadata": {
            "tags": []
          },
          "execution_count": 5
        }
      ]
    },
    {
      "cell_type": "code",
      "metadata": {
        "id": "h6-z6vFEAS75",
        "colab_type": "code",
        "colab": {}
      },
      "source": [
        "# train_df[train_df.isnull().any(axis=1)].to_csv(\"/content/drive/My Drive/Colab Notebooks/FAIR_TAXI/nulls.csv\", index=True)"
      ],
      "execution_count": 0,
      "outputs": []
    },
    {
      "cell_type": "markdown",
      "metadata": {
        "id": "Zl-6Np7aX9QJ",
        "colab_type": "text"
      },
      "source": [
        "## 3.2) Check duration_value_by_me and duration \n"
      ]
    },
    {
      "cell_type": "code",
      "metadata": {
        "id": "HNx29h5YYGJg",
        "colab_type": "code",
        "colab": {}
      },
      "source": [
        "########### This is a very specific function\n",
        "########### Find the difference of durations\n",
        "def get_duration_gap(x):\n",
        "  if x['duration']==\"NaN\"or x['duration_by_me']==\"NaN\":\n",
        "    return x['duration_by_me']\n",
        "  return abs(x['duration']-x['duration_by_me'])\n",
        "\n",
        "########### This function is a transformer\n",
        "########### Converts all null values of duration using drop time and pick time\n",
        "\n",
        "def get_duration(x):\n",
        "  if x['pickup_time']==None or x['drop_time']==None:\n",
        "    return None\n",
        "  \n",
        "  try :\n",
        "    if int(x['pickup_time'].split(\"/\")[1])>12 or int(x['drop_time'].split(\"/\")[1])>12:\n",
        "      gap = datetime.strptime(x['pickup_time'],\"%m/%d/%Y %H:%M\")-datetime.strptime(x['drop_time'],\"%m/%d/%Y %H:%M\")\n",
        "    else:\n",
        "      if int(x['pickup_time'].split(\"/\")[1]) != int(x['drop_time'].split(\"/\")[1]):\n",
        "        gap = datetime.strptime(x['pickup_time'],\"%m/%d/%Y %H:%M\")-datetime.strptime(x['drop_time'],\"%m/%d/%Y %H:%M\")\n",
        "      else:\n",
        "        gap = datetime.strptime(x['pickup_time'],\"%d/%m/%Y %H:%M\")-datetime.strptime(x['drop_time'],\"%d/%m/%Y %H:%M\")\n",
        "  except :\n",
        "    return None\n",
        "  return abs(gap.total_seconds())\n",
        "\n",
        "class MakeTripDurationFeature(BaseEstimator, TransformerMixin):\n",
        "    def fit(self, X, y=None):\n",
        "        return self\n",
        "\n",
        "    def transform(self, X):\n",
        "        X['duration_by_me'] = X.apply(lambda x:get_duration(x), axis=1)\n",
        "        return X"
      ],
      "execution_count": 0,
      "outputs": []
    },
    {
      "cell_type": "code",
      "metadata": {
        "id": "t9R-8ktLbd4X",
        "colab_type": "code",
        "colab": {}
      },
      "source": [
        "## FILL NULL VALUSE OF DURATION \n",
        "add_duration_by_me = MakeTripDurationFeature()\n",
        "train_df = add_duration_by_me.transform(train_df)\n",
        "\n",
        "train_df['duration_gap'] = train_df.apply(lambda x:get_duration_gap(x), axis=1)"
      ],
      "execution_count": 0,
      "outputs": []
    },
    {
      "cell_type": "code",
      "metadata": {
        "id": "-SoG1nYuZKUg",
        "colab_type": "code",
        "outputId": "b09ebdb0-532a-4d37-97aa-77d3f58fdb77",
        "colab": {
          "base_uri": "https://localhost:8080/",
          "height": 272
        }
      },
      "source": [
        "plt.plot(train_df['duration_gap'])\n",
        "plt.ylim(0,100)\n",
        "plt.grid(True)\n",
        "plt.show()"
      ],
      "execution_count": 0,
      "outputs": [
        {
          "output_type": "display_data",
          "data": {
            "image/png": "[encoded data removed]",
            "text/plain": [
              "<Figure size 432x288 with 1 Axes>"
            ]
          },
          "metadata": {
            "tags": [],
            "needs_background": "light"
          }
        }
      ]
    },
    {
      "cell_type": "code",
      "metadata": {
        "id": "m5liojU5eG6H",
        "colab_type": "code",
        "outputId": "fa4a8526-9e7b-46c4-a127-56dbdc7b844a",
        "colab": {
          "base_uri": "https://localhost:8080/",
          "height": 299
        }
      },
      "source": [
        "# lets check difference values more than 50\n",
        "train_df[abs(train_df['duration_gap'])>60].head()"
      ],
      "execution_count": 0,
      "outputs": [
        {
          "output_type": "execute_result",
          "data": {
            "text/html": [
              "<div>\n",
              "<style scoped>\n",
              "    .dataframe tbody tr th:only-of-type {\n",
              "        vertical-align: middle;\n",
              "    }\n",
              "\n",
              "    .dataframe tbody tr th {\n",
              "        vertical-align: top;\n",
              "    }\n",
              "\n",
              "    .dataframe thead th {\n",
              "        text-align: right;\n",
              "    }\n",
              "</style>\n",
              "<table border=\"1\" class=\"dataframe\">\n",
              "  <thead>\n",
              "    <tr style=\"text-align: right;\">\n",
              "      <th></th>\n",
              "      <th>tripid</th>\n",
              "      <th>additional_fare</th>\n",
              "      <th>duration</th>\n",
              "      <th>meter_waiting</th>\n",
              "      <th>meter_waiting_fare</th>\n",
              "      <th>meter_waiting_till_pickup</th>\n",
              "      <th>pickup_time</th>\n",
              "      <th>drop_time</th>\n",
              "      <th>pick_lat</th>\n",
              "      <th>pick_lon</th>\n",
              "      <th>drop_lat</th>\n",
              "      <th>drop_lon</th>\n",
              "      <th>fare</th>\n",
              "      <th>label</th>\n",
              "      <th>duration_by_me</th>\n",
              "      <th>duration_gap</th>\n",
              "    </tr>\n",
              "  </thead>\n",
              "  <tbody>\n",
              "    <tr>\n",
              "      <th>22</th>\n",
              "      <td>189157559</td>\n",
              "      <td>10.5</td>\n",
              "      <td>693.0</td>\n",
              "      <td>280.0</td>\n",
              "      <td>9.8838</td>\n",
              "      <td>318.0</td>\n",
              "      <td>11/1/2019 8:41</td>\n",
              "      <td>11/1/2019 8:51</td>\n",
              "      <td>6.91718</td>\n",
              "      <td>79.8656</td>\n",
              "      <td>6.90640</td>\n",
              "      <td>79.8793</td>\n",
              "      <td>109.36</td>\n",
              "      <td>correct</td>\n",
              "      <td>600.0</td>\n",
              "      <td>93.0</td>\n",
              "    </tr>\n",
              "    <tr>\n",
              "      <th>27</th>\n",
              "      <td>189163162</td>\n",
              "      <td>10.5</td>\n",
              "      <td>618.0</td>\n",
              "      <td>128.0</td>\n",
              "      <td>7.3984</td>\n",
              "      <td>126.0</td>\n",
              "      <td>11/1/2019 9:12</td>\n",
              "      <td>11/1/2019 9:20</td>\n",
              "      <td>6.88661</td>\n",
              "      <td>79.9321</td>\n",
              "      <td>6.87383</td>\n",
              "      <td>79.9263</td>\n",
              "      <td>106.80</td>\n",
              "      <td>correct</td>\n",
              "      <td>480.0</td>\n",
              "      <td>138.0</td>\n",
              "    </tr>\n",
              "    <tr>\n",
              "      <th>3549</th>\n",
              "      <td>193653017</td>\n",
              "      <td>0.0</td>\n",
              "      <td>0.0</td>\n",
              "      <td>0.0</td>\n",
              "      <td>0.0000</td>\n",
              "      <td>540.0</td>\n",
              "      <td>11/21/2019 15:57</td>\n",
              "      <td>11/21/2019 16:23</td>\n",
              "      <td>6.90471</td>\n",
              "      <td>79.8520</td>\n",
              "      <td>6.90457</td>\n",
              "      <td>79.8519</td>\n",
              "      <td>0.00</td>\n",
              "      <td>incorrect</td>\n",
              "      <td>1560.0</td>\n",
              "      <td>1560.0</td>\n",
              "    </tr>\n",
              "    <tr>\n",
              "      <th>14372</th>\n",
              "      <td>210523029</td>\n",
              "      <td>10.5</td>\n",
              "      <td>693.0</td>\n",
              "      <td>78.0</td>\n",
              "      <td>0.0000</td>\n",
              "      <td>37.0</td>\n",
              "      <td>1/17/2020 20:43</td>\n",
              "      <td>1/17/2020 20:52</td>\n",
              "      <td>6.84484</td>\n",
              "      <td>79.9342</td>\n",
              "      <td>6.83917</td>\n",
              "      <td>79.9087</td>\n",
              "      <td>140.55</td>\n",
              "      <td>correct</td>\n",
              "      <td>540.0</td>\n",
              "      <td>153.0</td>\n",
              "    </tr>\n",
              "    <tr>\n",
              "      <th>16742</th>\n",
              "      <td>213112837</td>\n",
              "      <td>0.0</td>\n",
              "      <td>0.0</td>\n",
              "      <td>0.0</td>\n",
              "      <td>0.0000</td>\n",
              "      <td>973.0</td>\n",
              "      <td>1/29/2020 20:00</td>\n",
              "      <td>1/29/2020 20:23</td>\n",
              "      <td>6.85275</td>\n",
              "      <td>79.9391</td>\n",
              "      <td>6.84612</td>\n",
              "      <td>79.9428</td>\n",
              "      <td>0.00</td>\n",
              "      <td>incorrect</td>\n",
              "      <td>1380.0</td>\n",
              "      <td>1380.0</td>\n",
              "    </tr>\n",
              "  </tbody>\n",
              "</table>\n",
              "</div>"
            ],
            "text/plain": [
              "          tripid  additional_fare  ...  duration_by_me  duration_gap\n",
              "22     189157559             10.5  ...           600.0          93.0\n",
              "27     189163162             10.5  ...           480.0         138.0\n",
              "3549   193653017              0.0  ...          1560.0        1560.0\n",
              "14372  210523029             10.5  ...           540.0         153.0\n",
              "16742  213112837              0.0  ...          1380.0        1380.0\n",
              "\n",
              "[5 rows x 16 columns]"
            ]
          },
          "metadata": {
            "tags": []
          },
          "execution_count": 10
        }
      ]
    },
    {
      "cell_type": "code",
      "metadata": {
        "id": "rldC5c2yfJ6s",
        "colab_type": "code",
        "outputId": "92269e0f-103d-4ad0-9e48-4f55a8f474e5",
        "colab": {
          "base_uri": "https://localhost:8080/",
          "height": 299
        }
      },
      "source": [
        "# \n",
        "train_df[train_df['duration'].isnull()].head()"
      ],
      "execution_count": 0,
      "outputs": [
        {
          "output_type": "execute_result",
          "data": {
            "text/html": [
              "<div>\n",
              "<style scoped>\n",
              "    .dataframe tbody tr th:only-of-type {\n",
              "        vertical-align: middle;\n",
              "    }\n",
              "\n",
              "    .dataframe tbody tr th {\n",
              "        vertical-align: top;\n",
              "    }\n",
              "\n",
              "    .dataframe thead th {\n",
              "        text-align: right;\n",
              "    }\n",
              "</style>\n",
              "<table border=\"1\" class=\"dataframe\">\n",
              "  <thead>\n",
              "    <tr style=\"text-align: right;\">\n",
              "      <th></th>\n",
              "      <th>tripid</th>\n",
              "      <th>additional_fare</th>\n",
              "      <th>duration</th>\n",
              "      <th>meter_waiting</th>\n",
              "      <th>meter_waiting_fare</th>\n",
              "      <th>meter_waiting_till_pickup</th>\n",
              "      <th>pickup_time</th>\n",
              "      <th>drop_time</th>\n",
              "      <th>pick_lat</th>\n",
              "      <th>pick_lon</th>\n",
              "      <th>drop_lat</th>\n",
              "      <th>drop_lon</th>\n",
              "      <th>fare</th>\n",
              "      <th>label</th>\n",
              "      <th>duration_by_me</th>\n",
              "      <th>duration_gap</th>\n",
              "    </tr>\n",
              "  </thead>\n",
              "  <tbody>\n",
              "    <tr>\n",
              "      <th>4</th>\n",
              "      <td>189128020</td>\n",
              "      <td>NaN</td>\n",
              "      <td>NaN</td>\n",
              "      <td>NaN</td>\n",
              "      <td>NaN</td>\n",
              "      <td>NaN</td>\n",
              "      <td>11/1/2019 3:34</td>\n",
              "      <td>11/1/2019 3:51</td>\n",
              "      <td>6.87441</td>\n",
              "      <td>79.8615</td>\n",
              "      <td>6.84478</td>\n",
              "      <td>79.9290</td>\n",
              "      <td>358.39</td>\n",
              "      <td>correct</td>\n",
              "      <td>1020.0</td>\n",
              "      <td>NaN</td>\n",
              "    </tr>\n",
              "    <tr>\n",
              "      <th>91</th>\n",
              "      <td>189231599</td>\n",
              "      <td>NaN</td>\n",
              "      <td>NaN</td>\n",
              "      <td>NaN</td>\n",
              "      <td>NaN</td>\n",
              "      <td>NaN</td>\n",
              "      <td>11/1/2019 14:48</td>\n",
              "      <td>11/1/2019 15:03</td>\n",
              "      <td>7.04783</td>\n",
              "      <td>79.8973</td>\n",
              "      <td>7.05307</td>\n",
              "      <td>79.9188</td>\n",
              "      <td>196.50</td>\n",
              "      <td>incorrect</td>\n",
              "      <td>900.0</td>\n",
              "      <td>NaN</td>\n",
              "    </tr>\n",
              "    <tr>\n",
              "      <th>253</th>\n",
              "      <td>189393356</td>\n",
              "      <td>NaN</td>\n",
              "      <td>NaN</td>\n",
              "      <td>NaN</td>\n",
              "      <td>NaN</td>\n",
              "      <td>NaN</td>\n",
              "      <td>11/2/2019 13:29</td>\n",
              "      <td>11/2/2019 13:55</td>\n",
              "      <td>7.21158</td>\n",
              "      <td>79.8401</td>\n",
              "      <td>7.20136</td>\n",
              "      <td>79.8455</td>\n",
              "      <td>188.71</td>\n",
              "      <td>incorrect</td>\n",
              "      <td>1560.0</td>\n",
              "      <td>NaN</td>\n",
              "    </tr>\n",
              "    <tr>\n",
              "      <th>4305</th>\n",
              "      <td>194787966</td>\n",
              "      <td>NaN</td>\n",
              "      <td>NaN</td>\n",
              "      <td>NaN</td>\n",
              "      <td>NaN</td>\n",
              "      <td>NaN</td>\n",
              "      <td>11/25/2019 14:33</td>\n",
              "      <td>11/25/2019 16:27</td>\n",
              "      <td>7.32516</td>\n",
              "      <td>80.6318</td>\n",
              "      <td>7.29512</td>\n",
              "      <td>80.6373</td>\n",
              "      <td>828.64</td>\n",
              "      <td>correct</td>\n",
              "      <td>6840.0</td>\n",
              "      <td>NaN</td>\n",
              "    </tr>\n",
              "    <tr>\n",
              "      <th>4313</th>\n",
              "      <td>194804469</td>\n",
              "      <td>NaN</td>\n",
              "      <td>NaN</td>\n",
              "      <td>NaN</td>\n",
              "      <td>NaN</td>\n",
              "      <td>NaN</td>\n",
              "      <td>11/25/2019 15:06</td>\n",
              "      <td>11/25/2019 15:51</td>\n",
              "      <td>6.06285</td>\n",
              "      <td>80.2310</td>\n",
              "      <td>6.03445</td>\n",
              "      <td>80.2183</td>\n",
              "      <td>343.31</td>\n",
              "      <td>correct</td>\n",
              "      <td>2700.0</td>\n",
              "      <td>NaN</td>\n",
              "    </tr>\n",
              "  </tbody>\n",
              "</table>\n",
              "</div>"
            ],
            "text/plain": [
              "         tripid  additional_fare  ...  duration_by_me  duration_gap\n",
              "4     189128020              NaN  ...          1020.0           NaN\n",
              "91    189231599              NaN  ...           900.0           NaN\n",
              "253   189393356              NaN  ...          1560.0           NaN\n",
              "4305  194787966              NaN  ...          6840.0           NaN\n",
              "4313  194804469              NaN  ...          2700.0           NaN\n",
              "\n",
              "[5 rows x 16 columns]"
            ]
          },
          "metadata": {
            "tags": []
          },
          "execution_count": 11
        }
      ]
    },
    {
      "cell_type": "markdown",
      "metadata": {
        "id": "Q_-YHr9G4WoU",
        "colab_type": "text"
      },
      "source": [
        "## 3.3) Check fare with the day's time period"
      ]
    },
    {
      "cell_type": "code",
      "metadata": {
        "id": "vxs5dy774eWa",
        "colab_type": "code",
        "colab": {}
      },
      "source": [
        "################### Here we have to add two columns\n",
        "################### The hour value and fare per hour value\n",
        "################### Lets write a lambda function \n",
        "\n",
        "def get_hour_value(x,date_time_column_name):\n",
        "  if x[date_time_column_name]==None:\n",
        "    return None\n",
        "  return datetime.strptime(x[date_time_column_name],\"%m/%d/%Y %H:%M\").hour\n",
        "\n",
        "################### Here we have to add fare_per_hour column\n",
        "################### write a lambda function\n",
        "\n",
        "def get_fare_per_min(x):\n",
        "  if x[\"fare\"]>=0 and x[\"duration\"]>0:\n",
        "    minutes = x[\"duration\"]/60.0\n",
        "    val = x['fare']/minutes\n",
        "    return val\n",
        "  if x[\"duration\"]==0:\n",
        "    return 0\n",
        "  return None\n"
      ],
      "execution_count": 0,
      "outputs": []
    },
    {
      "cell_type": "code",
      "metadata": {
        "id": "XOSgNC3rBTvW",
        "colab_type": "code",
        "colab": {}
      },
      "source": [
        "\n",
        "train_df['pickup_hour'] = train_df.apply(lambda x:get_hour_value(x,\"pickup_time\"),axis=1)\n",
        "train_df['drop_hour'] = train_df.apply(lambda x:get_hour_value(x,\"drop_time\"),axis=1)\n",
        "train_df['fare_per_min'] = train_df.apply(lambda x:get_fare_per_min(x),axis=1 )"
      ],
      "execution_count": 0,
      "outputs": []
    },
    {
      "cell_type": "code",
      "metadata": {
        "id": "11fYH4jMC6-a",
        "colab_type": "code",
        "outputId": "bce8aec8-8618-4eb9-9904-3783eb62b3bc",
        "colab": {
          "base_uri": "https://localhost:8080/",
          "height": 289
        }
      },
      "source": [
        "graph = sns.scatterplot(x=\"pickup_hour\",y=\"fare_per_min\",data=train_df)\n",
        "graph.set_ylim(0,2000)\n",
        "graph.grid(True)"
      ],
      "execution_count": 0,
      "outputs": [
        {
          "output_type": "display_data",
          "data": {
            "image/png": "[encoded data removed]",
            "text/plain": [
              "<Figure size 432x288 with 1 Axes>"
            ]
          },
          "metadata": {
            "tags": [],
            "needs_background": "light"
          }
        }
      ]
    },
    {
      "cell_type": "code",
      "metadata": {
        "id": "XhFRKPYZF0DB",
        "colab_type": "code",
        "outputId": "1c9cd837-a671-4e18-c1b6-7edc935c25e2",
        "colab": {
          "base_uri": "https://localhost:8080/",
          "height": 289
        }
      },
      "source": [
        "graph = sns.scatterplot(x=\"drop_hour\",y=\"fare_per_min\",data=train_df)\n",
        "graph.set_ylim(0,2000)\n",
        "graph.grid(True)"
      ],
      "execution_count": 0,
      "outputs": [
        {
          "output_type": "display_data",
          "data": {
            "image/png": "[encoded data removed]",
            "text/plain": [
              "<Figure size 432x288 with 1 Axes>"
            ]
          },
          "metadata": {
            "tags": [],
            "needs_background": "light"
          }
        }
      ]
    },
    {
      "cell_type": "code",
      "metadata": {
        "id": "kzAWkTM6GtvW",
        "colab_type": "code",
        "outputId": "495b0544-9bde-41f3-dae9-31e439d849d1",
        "colab": {
          "base_uri": "https://localhost:8080/",
          "height": 353
        }
      },
      "source": [
        "train_df.isna().sum()"
      ],
      "execution_count": 0,
      "outputs": [
        {
          "output_type": "execute_result",
          "data": {
            "text/plain": [
              "tripid                        0\n",
              "additional_fare              71\n",
              "duration                     71\n",
              "meter_waiting                71\n",
              "meter_waiting_fare           71\n",
              "meter_waiting_till_pickup    71\n",
              "pickup_time                   0\n",
              "drop_time                     0\n",
              "pick_lat                      0\n",
              "pick_lon                      0\n",
              "drop_lat                      0\n",
              "drop_lon                      0\n",
              "fare                          0\n",
              "label                         0\n",
              "duration_by_me                0\n",
              "duration_gap                 71\n",
              "pickup_hour                   0\n",
              "drop_hour                     0\n",
              "fare_per_min                 71\n",
              "dtype: int64"
            ]
          },
          "metadata": {
            "tags": []
          },
          "execution_count": 16
        }
      ]
    },
    {
      "cell_type": "markdown",
      "metadata": {
        "id": "2BiBUV0neg2A",
        "colab_type": "text"
      },
      "source": [
        "**Decesion**\n",
        "\n",
        "\n",
        "---\n",
        "Here the duration gap of null duration values are not considered. They are irrelevant here.\\\n",
        "Only two observations form the whole datasset are passed the duration gap around 100.\\\n",
        "those id s are \\\n",
        "     1) 213112837\t\\\n",
        "     2) 193653017\t\n"
      ]
    },
    {
      "cell_type": "markdown",
      "metadata": {
        "id": "FXgzxE52mcsM",
        "colab_type": "text"
      },
      "source": [
        "# 4) Dcesions"
      ]
    },
    {
      "cell_type": "markdown",
      "metadata": {
        "id": "GfFQ0jcdmiAL",
        "colab_type": "text"
      },
      "source": [
        "**1) Evaluate default \"duration\" and real duration.**\n",
        "\n",
        "\n",
        "---\n",
        "Here the duration gap of null duration values are not considered. They are irrelevant here.\\\n",
        "Only two observations form the whole datasset are passed the duration gap around 100.\\\n",
        "those id s are \\\n",
        "     1) 213112837\t\\\n",
        "     2) 193653017\t\n"
      ]
    },
    {
      "cell_type": "markdown",
      "metadata": {
        "id": "1Ab-tiFdmtfl",
        "colab_type": "text"
      },
      "source": [
        "**2) Remove Null fare values as whole row**\n",
        "\n",
        "---\n",
        "No point of fare null values because the fare should be the most important\n"
      ]
    },
    {
      "cell_type": "markdown",
      "metadata": {
        "id": "Q-LZ6p3BnAVb",
        "colab_type": "text"
      },
      "source": [
        "**3) Fill Null duration values with real duration**"
      ]
    },
    {
      "cell_type": "markdown",
      "metadata": {
        "id": "GlLW6ok_nIJw",
        "colab_type": "text"
      },
      "source": [
        "**4) Its better to use pickup hour and drop hour**\n",
        "\n",
        "---\n",
        "There is a small releationship can be seen in 3.3 section \n"
      ]
    },
    {
      "cell_type": "markdown",
      "metadata": {
        "id": "UT8ogetC7WE7",
        "colab_type": "text"
      },
      "source": [
        "second\n"
      ]
    }
  ]
}